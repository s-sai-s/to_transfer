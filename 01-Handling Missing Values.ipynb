{
 "cells": [
  {
   "cell_type": "code",
   "execution_count": 1,
   "id": "3b33daef",
   "metadata": {},
   "outputs": [],
   "source": [
    "import numpy as np\n",
    "import pandas as pd\n",
    "import matplotlib.pyplot as plt\n",
    "import seaborn as sns"
   ]
  },
  {
   "cell_type": "markdown",
   "id": "ccb3123f",
   "metadata": {},
   "source": [
    "### Different Data Collection Strategies"
   ]
  },
  {
   "cell_type": "markdown",
   "id": "9b5fa3b4",
   "metadata": {},
   "source": [
    "- Interviews\n",
    "- Questionnaires and surveys\n",
    "- Observations\n",
    "- Documents and records\n",
    "- Focus groups\n",
    "- Oral histories\n",
    "\n",
    "for more information on the above methods:\n",
    "\n",
    "refer this link: https://www.jotform.com/data-collection-methods/#:~:text=data%20collection%20tools-,Interviews,-If%20you%20asked"
   ]
  },
  {
   "cell_type": "markdown",
   "id": "24ee8afe",
   "metadata": {},
   "source": [
    "### Why do we have missing values?"
   ]
  },
  {
   "cell_type": "markdown",
   "id": "35ebd81f",
   "metadata": {},
   "source": [
    "- People Hesistate to put down the information\n",
    "- Surveys are not taken seriously by the participants, and they enter some random values and leave out some values. (Thus, Surveys are not completely reliable)\n",
    "- Sometimes, a proper value won't be available to enter for a particular category.\n",
    "- We might miss some historical records"
   ]
  },
  {
   "cell_type": "markdown",
   "id": "bb862550",
   "metadata": {},
   "source": [
    "## Different Types of Missing Values"
   ]
  },
  {
   "cell_type": "markdown",
   "id": "75373ca2",
   "metadata": {},
   "source": [
    "### Missing Completely at Random (MCAR)"
   ]
  },
  {
   "cell_type": "markdown",
   "id": "bd36e97b",
   "metadata": {},
   "source": [
    "- If the probablity of missing is same for all the observations.\n",
    "- When data is MCAR, there is absolutely no relationship between the data missing and any other values, observed or missing, within the dataset.\n",
    "- In other words, those missing data points are a random subset of the data. There is nothing systematic going on that makes some data more likely to be missing than other."
   ]
  },
  {
   "cell_type": "code",
   "execution_count": 2,
   "id": "7b57bb65",
   "metadata": {},
   "outputs": [
    {
     "data": {
      "text/plain": [
       "age            177\n",
       "embarked         2\n",
       "deck           688\n",
       "embark_town      2\n",
       "dtype: int64"
      ]
     },
     "execution_count": 2,
     "metadata": {},
     "output_type": "execute_result"
    }
   ],
   "source": [
    "df = sns.load_dataset('titanic')\n",
    "\n",
    "df.isnull().sum()[df.isnull().sum()>0]\n",
    "\n",
    "# Since, embarked and embarked town are same columns, let's only consider embarked column"
   ]
  },
  {
   "cell_type": "code",
   "execution_count": 3,
   "id": "67451612",
   "metadata": {},
   "outputs": [
    {
     "name": "stdout",
     "output_type": "stream",
     "text": [
      "People with missing age: \n",
      "0    125\n",
      "1     52\n",
      "Name: survived, dtype: int64\n",
      "\n",
      "\n",
      "People with missing deck: \n",
      "0    482\n",
      "1    206\n",
      "Name: survived, dtype: int64\n",
      "\n",
      "\n",
      "People with missing embarked: \n",
      "1    2\n",
      "Name: survived, dtype: int64\n",
      "\n",
      "\n",
      "\n",
      "People with missing age and deck: \n",
      "0    117\n",
      "1     41\n",
      "Name: survived, dtype: int64\n",
      "\n",
      "\n",
      "People with missing age and embarked: \n",
      "Series([], Name: survived, dtype: int64)\n",
      "\n",
      "\n",
      "People with missing deck and embarked: \n",
      "Series([], Name: survived, dtype: int64)\n"
     ]
    }
   ],
   "source": [
    "# To understand if there is any relationship between the missing data and other data, we have to learn about the feature descriptions first.\n",
    "# To make it simple...\n",
    "\n",
    "print(f\"People with missing age: \\n{df[df['age'].isnull()]['survived'].value_counts()}\")\n",
    "print('\\n')\n",
    "print(f\"People with missing deck: \\n{df[df['deck'].isnull()]['survived'].value_counts()}\")\n",
    "print('\\n')\n",
    "print(f\"People with missing embarked: \\n{df[df['embarked'].isnull()]['survived'].value_counts()}\")\n",
    "print('\\n\\n')\n",
    "print(f\"People with missing age and deck: \\n{df[(df['age'].isnull()) & (df['deck'].isnull())]['survived'].value_counts()}\")\n",
    "print('\\n')\n",
    "print(f\"People with missing age and embarked: \\n{df[(df['age'].isnull()) & (df['embarked'].isnull())]['survived'].value_counts()}\")\n",
    "print('\\n')\n",
    "print(f\"People with missing deck and embarked: \\n{df[(df['deck'].isnull()) & (df['embarked'].isnull())]['survived'].value_counts()}\")\n",
    "\n",
    "# Most of the people with missing ages are dead.\n",
    "# Most of missing people with missing deck are dead.\n",
    "# Most of people with missing ages and deck are dead.\n",
    "# So, there is some relationship between survival and the missing values.\n",
    "# Thus, the missing values in age and deck are not MCAR.\n",
    "\n",
    "\n",
    "# On the other hand...\n",
    "# there is no relationship between embarked and other missing columns.\n",
    "# And, the missing values in embarked are also not because the people are dead, as they both of them are alive.\n",
    "# So, we can consider that embarked values are MCAR"
   ]
  },
  {
   "cell_type": "markdown",
   "id": "eb603c3e",
   "metadata": {},
   "source": [
    "#### Observation\n",
    "\n",
    "**We can consider that embarked values are MCAR**"
   ]
  },
  {
   "cell_type": "markdown",
   "id": "32b3e534",
   "metadata": {},
   "source": [
    "### Missing Not At Random (MNAR)"
   ]
  },
  {
   "cell_type": "markdown",
   "id": "1cb5b3b5",
   "metadata": {},
   "source": [
    "Systematic missing Values There is absolutely some relationship between the data missing and any other values, observed or missing, within the dataset."
   ]
  },
  {
   "cell_type": "code",
   "execution_count": 4,
   "id": "270d3116",
   "metadata": {},
   "outputs": [],
   "source": [
    "# Previously, we have seen that there is some relationship survival, age, and deck.\n",
    "\n",
    "# So, Missing values in 'age' and 'deck' are MNAR"
   ]
  },
  {
   "cell_type": "markdown",
   "id": "2b398254",
   "metadata": {},
   "source": [
    "### Missing At Random (MAR)"
   ]
  },
  {
   "cell_type": "code",
   "execution_count": 5,
   "id": "ae456a46",
   "metadata": {},
   "outputs": [],
   "source": [
    "# It's not completely random, but it has some reason for randomness.\n",
    "# For example, if we have a dataset which has data of equal no. of men and women, which lists down the information of salary and age.\n",
    "# According to many people, men tend to hide their salary, and women tend to hide their salary.\n",
    "# So, we might find the more missing values in salary for men and in age for women.\n",
    "\n",
    "# The missing data is random but it has some dependency in the gender column."
   ]
  },
  {
   "cell_type": "markdown",
   "id": "2794703b",
   "metadata": {},
   "source": [
    "# Different ways of Handling Missing Values"
   ]
  },
  {
   "cell_type": "markdown",
   "id": "f9f5ae76",
   "metadata": {},
   "source": [
    "## 1. Mean/ Median/ Mode Replacement (For MCAR)\n",
    "\n",
    "**When should we apply this?**\n",
    "- For MCAR values\n",
    "\n",
    "\n",
    "Although the mode, or most frequent value can be calculated for both numerical and categorical variables, in practice, we only use this technique on categorical variables. The reason is that for numerical variables, the mean or the median tend to better represent the average value of the population."
   ]
  },
  {
   "cell_type": "markdown",
   "id": "792b7379",
   "metadata": {},
   "source": [
    "### Mean/Median Replacement\n",
    "\n",
    "- For continous variables\n",
    "\n",
    "**How should we apply this?**\n",
    "- By replacing the Nan values with mean or median"
   ]
  },
  {
   "cell_type": "code",
   "execution_count": 6,
   "id": "ed189ec8",
   "metadata": {},
   "outputs": [],
   "source": [
    "# In the dataframe df, the missing values in age column are not MCAR.\n",
    "# but, let's work on it for the sake of implementation and understanding\n",
    "# Let's use median for this one. As age values are in rounded values, median will also be a rounded value.\n",
    "\n",
    "\n",
    "med_age = df['age'].median()\n",
    "\n",
    "df['age_median'] = df['age'].fillna(med_age)"
   ]
  },
  {
   "cell_type": "code",
   "execution_count": 7,
   "id": "fcd9d054",
   "metadata": {
    "scrolled": true
   },
   "outputs": [
    {
     "name": "stdout",
     "output_type": "stream",
     "text": [
      "14.526497332334044\n",
      "13.019696550973194\n"
     ]
    }
   ],
   "source": [
    "print(df['age'].std())\n",
    "print(df['age_median'].std())"
   ]
  },
  {
   "cell_type": "code",
   "execution_count": 8,
   "id": "cea008c5",
   "metadata": {},
   "outputs": [
    {
     "data": {
      "image/png": "[encoded data removed]",
      "text/plain": [
       "<Figure size 432x288 with 1 Axes>"
      ]
     },
     "metadata": {
      "needs_background": "light"
     },
     "output_type": "display_data"
    }
   ],
   "source": [
    "sns.kdeplot(df['age'], label = 'age')\n",
    "sns.kdeplot(df['age_median'], label = 'age_median')\n",
    "\n",
    "plt.legend();"
   ]
  },
  {
   "cell_type": "markdown",
   "id": "42b92431",
   "metadata": {},
   "source": [
    "#### Advantages:\n",
    "- Easy to implement(Robust to outliers)\n",
    "- Faster way to obtain the complete dataset\n",
    "- It can be integrated in production (during model deployment).\n",
    "\n",
    "#### Disadvantages:\n",
    "- Change or Distortion in the original variance\n",
    "- Impacts Correlation"
   ]
  },
  {
   "cell_type": "markdown",
   "id": "5a2997c6",
   "metadata": {},
   "source": [
    "### Mode Replacement ( or Frequent Categories Imputation)\n",
    "\n",
    "- For categorical variables\n",
    "\n",
    "**When should we apply this?**\n",
    "- For MCAR values\n",
    "- No more than 5% of the variable contains missing data.\n",
    "- When the percentage of missing values is so high (~50%) we are better off creating a new category (Missing) to enclose the observations with NA.\n",
    "- (My thought) If the no. of missing values are not less than 5% and not as high as 50%, replace it with the mode value and create a new column to capture the missing values.\n",
    "\n",
    "**How should we apply this?**\n",
    "- By replacing the Nan values with mode/most frequen occuring value in the column."
   ]
  },
  {
   "cell_type": "markdown",
   "id": "2febb2bf",
   "metadata": {},
   "source": [
    "In the dataframe df, embarked column has MCAR missing values, and it is a categorical column. So, let's use Mode replacement for it."
   ]
  },
  {
   "cell_type": "code",
   "execution_count": 9,
   "id": "eea8a00d",
   "metadata": {},
   "outputs": [],
   "source": [
    "# Replacing the missing values in embarked with mode value of embarked.\n",
    "\n",
    "most_occuring_emb = df[\"embarked\"].mode()[0]\n",
    "\n",
    "df['embarked'] = df['embarked'].fillna(most_occuring_emb)\n",
    "\n",
    "# Similar process for continous features with mean/ median values of the same column."
   ]
  },
  {
   "cell_type": "code",
   "execution_count": 10,
   "id": "7b8bd27a",
   "metadata": {},
   "outputs": [
    {
     "data": {
      "text/plain": [
       "0      S\n",
       "1      C\n",
       "2      S\n",
       "3      S\n",
       "4      S\n",
       "      ..\n",
       "886    S\n",
       "887    S\n",
       "888    S\n",
       "889    C\n",
       "890    Q\n",
       "Name: embarked, Length: 891, dtype: object"
      ]
     },
     "execution_count": 10,
     "metadata": {},
     "output_type": "execute_result"
    }
   ],
   "source": [
    "df['embarked']"
   ]
  },
  {
   "cell_type": "code",
   "execution_count": 11,
   "id": "9a20b218",
   "metadata": {},
   "outputs": [
    {
     "data": {
      "text/plain": [
       "0"
      ]
     },
     "execution_count": 11,
     "metadata": {},
     "output_type": "execute_result"
    }
   ],
   "source": [
    "df['embarked'].isnull().sum()"
   ]
  },
  {
   "cell_type": "markdown",
   "id": "ef39fd65",
   "metadata": {},
   "source": [
    "#### Advantages:\n",
    "- It is easy to implement.\n",
    "- It is the fast way of obtaining complete datasets.\n",
    "- It can be integrated in production (during model deployment).\n",
    "\n",
    "#### Disadvantages:\n",
    "- It distorts the relation of the most frequent label with other variables within the dataset.\n",
    "- It May lead to an over-representation of the most frequent label if there is a big number of NA."
   ]
  },
  {
   "cell_type": "markdown",
   "id": "d9a7740a",
   "metadata": {},
   "source": [
    "## 2. Random Sample Imputation (For MCAR)\n",
    "\n",
    "Random sample imputation consists of taking random observation from the dataset and we use this observation to replace the nan values.\n",
    "\n",
    "**When should we apply this?**\n",
    "- For MCAR values"
   ]
  },
  {
   "cell_type": "code",
   "execution_count": 12,
   "id": "2c3b4d82",
   "metadata": {},
   "outputs": [],
   "source": [
    "df = sns.load_dataset('titanic')"
   ]
  },
  {
   "cell_type": "code",
   "execution_count": 13,
   "id": "17190ada",
   "metadata": {},
   "outputs": [
    {
     "data": {
      "text/plain": [
       "2"
      ]
     },
     "execution_count": 13,
     "metadata": {},
     "output_type": "execute_result"
    }
   ],
   "source": [
    "# first find the no. of missing values\n",
    "# considering embarked because the missing values in this column are MCAR\n",
    "\n",
    "no_of_missing = df['embarked'].isnull().sum()\n",
    "\n",
    "no_of_missing"
   ]
  },
  {
   "cell_type": "code",
   "execution_count": 14,
   "id": "7301a4af",
   "metadata": {},
   "outputs": [
    {
     "data": {
      "text/plain": [
       "281    S\n",
       "435    S\n",
       "Name: embarked, dtype: object"
      ]
     },
     "execution_count": 14,
     "metadata": {},
     "output_type": "execute_result"
    }
   ],
   "source": [
    "# Pick two random values from the same column other than Nan values\n",
    "\n",
    "rand_emb_values = df['embarked'].dropna().sample(no_of_missing, random_state = 42).copy()\n",
    "\n",
    "rand_emb_values"
   ]
  },
  {
   "cell_type": "code",
   "execution_count": 15,
   "id": "7df00c42",
   "metadata": {},
   "outputs": [],
   "source": [
    "# Replacement only happens when the index positions are same\n",
    "# matching the index values\n",
    "\n",
    "rand_emb_values.index = df[df['embarked'].isnull()].index"
   ]
  },
  {
   "cell_type": "code",
   "execution_count": 16,
   "id": "ae0345e8",
   "metadata": {},
   "outputs": [],
   "source": [
    "df.loc[df['embarked'].isnull(), 'embarked'] = rand_emb_values"
   ]
  },
  {
   "cell_type": "code",
   "execution_count": 17,
   "id": "97fa2549",
   "metadata": {},
   "outputs": [
    {
     "data": {
      "text/plain": [
       "0"
      ]
     },
     "execution_count": 17,
     "metadata": {},
     "output_type": "execute_result"
    }
   ],
   "source": [
    "df['embarked'].isnull().sum()"
   ]
  },
  {
   "cell_type": "code",
   "execution_count": 18,
   "id": "44cdb837",
   "metadata": {},
   "outputs": [],
   "source": [
    "# Let's perform this process for age column to check statistical information.\n",
    "\n",
    "def rand_impute(df, variable):\n",
    "    \"\"\"\n",
    "    This function will impute random values for continuous variables.\n",
    "    This will create a new variable.\n",
    "    \"\"\"\n",
    "    df[variable+'_random'] = df[variable].copy()\n",
    "    no_missing = df[variable].isnull().sum()\n",
    "    rand_values = df[variable].dropna().sample(no_missing, random_state = 42)\n",
    "    rand_values.index = df[df[variable].isnull()].index\n",
    "    df.loc[df[variable].isnull(), variable+'_random'] = rand_values"
   ]
  },
  {
   "cell_type": "code",
   "execution_count": 19,
   "id": "984abbf4",
   "metadata": {},
   "outputs": [],
   "source": [
    "# Replacing all the missing values in age with random values in age column.\n",
    "\n",
    "rand_impute(df, 'age')"
   ]
  },
  {
   "cell_type": "code",
   "execution_count": 20,
   "id": "0a87a200",
   "metadata": {},
   "outputs": [
    {
     "data": {
      "text/plain": [
       "0"
      ]
     },
     "execution_count": 20,
     "metadata": {},
     "output_type": "execute_result"
    }
   ],
   "source": [
    "df['age_random'].isnull().sum()"
   ]
  },
  {
   "cell_type": "code",
   "execution_count": 21,
   "id": "7fa221b2",
   "metadata": {},
   "outputs": [
    {
     "name": "stdout",
     "output_type": "stream",
     "text": [
      "28.0\n",
      "28.0\n"
     ]
    }
   ],
   "source": [
    "print(df['age'].median())\n",
    "print(df['age_random'].median())\n",
    "\n",
    "# No change in the median."
   ]
  },
  {
   "cell_type": "code",
   "execution_count": 22,
   "id": "c1820488",
   "metadata": {},
   "outputs": [
    {
     "data": {
      "image/png": "[encoded data removed]",
      "text/plain": [
       "<Figure size 432x288 with 1 Axes>"
      ]
     },
     "metadata": {
      "needs_background": "light"
     },
     "output_type": "display_data"
    }
   ],
   "source": [
    "sns.kdeplot(df['age'], label = 'age')\n",
    "sns.kdeplot(df['age_random'], label = 'age_random')\n",
    "\n",
    "plt.legend();\n",
    "\n",
    "# Not much change in the distribution of the series."
   ]
  },
  {
   "cell_type": "markdown",
   "id": "118d089f",
   "metadata": {},
   "source": [
    "#### Advantages:\n",
    "- Easy to implement(Robust to outliers)\n",
    "- There is less distortion in variance\n",
    "\n",
    "#### Disadvantages:\n",
    "- It won't work perfectly every time, as it depends on the dataset and random state.\n",
    "\n",
    "\n",
    "If the output data is not having similar distribution, try to alter the random state and find a better working value.\n",
    "\n",
    "If more than 50% of the data is missing, it won't work."
   ]
  },
  {
   "cell_type": "markdown",
   "id": "cd96ee78",
   "metadata": {},
   "source": [
    "## 3. Capturing Nan values with a new feature (For MNAR)\n",
    "\n",
    "- It helps to the model to understand there is something happened here and it captures the importance of NaN.\n",
    "- This method is create additional features therfore it work better with less number of feature\n",
    "\n",
    "**When should we apply this?**\n",
    "- For MNAR values\n",
    "\n",
    "**How should we apply this?**\n",
    "- Create a new column representing the missing values in our existing column.\n",
    "- Fill the Nan values in the existing column using some suitable method."
   ]
  },
  {
   "cell_type": "code",
   "execution_count": 23,
   "id": "fe9c947a",
   "metadata": {},
   "outputs": [],
   "source": [
    "df = sns.load_dataset('titanic')"
   ]
  },
  {
   "cell_type": "code",
   "execution_count": 24,
   "id": "df06daea",
   "metadata": {},
   "outputs": [],
   "source": [
    "# Apply for age column\n",
    "# Wherever age is null, age_null feature will have 1 and 0 for non-null values.\n",
    "\n",
    "df['age_nan'] = np.where(df['age'].isnull(), 1, 0)"
   ]
  },
  {
   "cell_type": "code",
   "execution_count": 25,
   "id": "86bb22f3",
   "metadata": {},
   "outputs": [
    {
     "data": {
      "text/html": [
       "<div>\n",
       "<style scoped>\n",
       "    .dataframe tbody tr th:only-of-type {\n",
       "        vertical-align: middle;\n",
       "    }\n",
       "\n",
       "    .dataframe tbody tr th {\n",
       "        vertical-align: top;\n",
       "    }\n",
       "\n",
       "    .dataframe thead th {\n",
       "        text-align: right;\n",
       "    }\n",
       "</style>\n",
       "<table border=\"1\" class=\"dataframe\">\n",
       "  <thead>\n",
       "    <tr style=\"text-align: right;\">\n",
       "      <th></th>\n",
       "      <th>age</th>\n",
       "      <th>age_nan</th>\n",
       "      <th>survived</th>\n",
       "    </tr>\n",
       "  </thead>\n",
       "  <tbody>\n",
       "    <tr>\n",
       "      <th>0</th>\n",
       "      <td>22.0</td>\n",
       "      <td>0</td>\n",
       "      <td>0</td>\n",
       "    </tr>\n",
       "    <tr>\n",
       "      <th>1</th>\n",
       "      <td>38.0</td>\n",
       "      <td>0</td>\n",
       "      <td>1</td>\n",
       "    </tr>\n",
       "    <tr>\n",
       "      <th>2</th>\n",
       "      <td>26.0</td>\n",
       "      <td>0</td>\n",
       "      <td>1</td>\n",
       "    </tr>\n",
       "    <tr>\n",
       "      <th>3</th>\n",
       "      <td>35.0</td>\n",
       "      <td>0</td>\n",
       "      <td>1</td>\n",
       "    </tr>\n",
       "    <tr>\n",
       "      <th>4</th>\n",
       "      <td>35.0</td>\n",
       "      <td>0</td>\n",
       "      <td>0</td>\n",
       "    </tr>\n",
       "    <tr>\n",
       "      <th>...</th>\n",
       "      <td>...</td>\n",
       "      <td>...</td>\n",
       "      <td>...</td>\n",
       "    </tr>\n",
       "    <tr>\n",
       "      <th>886</th>\n",
       "      <td>27.0</td>\n",
       "      <td>0</td>\n",
       "      <td>0</td>\n",
       "    </tr>\n",
       "    <tr>\n",
       "      <th>887</th>\n",
       "      <td>19.0</td>\n",
       "      <td>0</td>\n",
       "      <td>1</td>\n",
       "    </tr>\n",
       "    <tr>\n",
       "      <th>888</th>\n",
       "      <td>NaN</td>\n",
       "      <td>1</td>\n",
       "      <td>0</td>\n",
       "    </tr>\n",
       "    <tr>\n",
       "      <th>889</th>\n",
       "      <td>26.0</td>\n",
       "      <td>0</td>\n",
       "      <td>1</td>\n",
       "    </tr>\n",
       "    <tr>\n",
       "      <th>890</th>\n",
       "      <td>32.0</td>\n",
       "      <td>0</td>\n",
       "      <td>0</td>\n",
       "    </tr>\n",
       "  </tbody>\n",
       "</table>\n",
       "<p>891 rows × 3 columns</p>\n",
       "</div>"
      ],
      "text/plain": [
       "      age  age_nan  survived\n",
       "0    22.0        0         0\n",
       "1    38.0        0         1\n",
       "2    26.0        0         1\n",
       "3    35.0        0         1\n",
       "4    35.0        0         0\n",
       "..    ...      ...       ...\n",
       "886  27.0        0         0\n",
       "887  19.0        0         1\n",
       "888   NaN        1         0\n",
       "889  26.0        0         1\n",
       "890  32.0        0         0\n",
       "\n",
       "[891 rows x 3 columns]"
      ]
     },
     "execution_count": 25,
     "metadata": {},
     "output_type": "execute_result"
    }
   ],
   "source": [
    "df[['age', 'age_nan', 'survived']]"
   ]
  },
  {
   "cell_type": "code",
   "execution_count": 26,
   "id": "fe2a48b8",
   "metadata": {},
   "outputs": [],
   "source": [
    "# Replacing the Nan values in age column with median value\n",
    "\n",
    "df['age'] = df['age'].fillna(df['age'].median())"
   ]
  },
  {
   "cell_type": "code",
   "execution_count": 27,
   "id": "d27eecda",
   "metadata": {},
   "outputs": [
    {
     "data": {
      "text/plain": [
       "0"
      ]
     },
     "execution_count": 27,
     "metadata": {},
     "output_type": "execute_result"
    }
   ],
   "source": [
    "df['age'].isnull().sum()"
   ]
  },
  {
   "cell_type": "markdown",
   "id": "e53d3607",
   "metadata": {},
   "source": [
    "#### Advantages:\n",
    "- Easy to implement(Robust to outliers)\n",
    "- Captures the importance of missing values\n",
    "\n",
    "#### Disadvantages:\n",
    "- Creating Additional Features(Curse of Dimensionality)"
   ]
  },
  {
   "cell_type": "markdown",
   "id": "60a6c672",
   "metadata": {},
   "source": [
    "## 4. End of Distribution Imputation (For MNAR)\n",
    "\n",
    "If there is suspicion that the missing value is not at random then capturing that information is important. In this scenario, one would want to replace missing data with values that are at the tails of the distribution of the variable.\n",
    "\n",
    "**When should we apply this?**\n",
    "- For MNAR values\n",
    "\n",
    "**How should we apply this?**\n",
    "- Replace missing data with values that are at the tails of the distribution of the variable."
   ]
  },
  {
   "cell_type": "markdown",
   "id": "0c8702ca",
   "metadata": {},
   "source": [
    "Example:\n",
    "- If for some dataset garage area is missing and it is related to existance of garage, we will place 0 in the missing values. It is the left side extreme value and it completely makes sense to us.\n",
    "- Similarly, If age is missing for some people, while it is not at random, and it is dependent on survival column (Not specifically discussing about titanic dataset, generally speaking). It might be because those people are dead, so we will replace the missing age with the right side extreme value(not necessarily the maximum value) of the age dataset, we will see how do we do it soon."
   ]
  },
  {
   "cell_type": "code",
   "execution_count": 28,
   "id": "6963c9d3",
   "metadata": {},
   "outputs": [
    {
     "data": {
      "text/html": [
       "<div>\n",
       "<style scoped>\n",
       "    .dataframe tbody tr th:only-of-type {\n",
       "        vertical-align: middle;\n",
       "    }\n",
       "\n",
       "    .dataframe tbody tr th {\n",
       "        vertical-align: top;\n",
       "    }\n",
       "\n",
       "    .dataframe thead th {\n",
       "        text-align: right;\n",
       "    }\n",
       "</style>\n",
       "<table border=\"1\" class=\"dataframe\">\n",
       "  <thead>\n",
       "    <tr style=\"text-align: right;\">\n",
       "      <th></th>\n",
       "      <th>survived</th>\n",
       "      <th>pclass</th>\n",
       "      <th>sex</th>\n",
       "      <th>age</th>\n",
       "      <th>sibsp</th>\n",
       "      <th>parch</th>\n",
       "      <th>fare</th>\n",
       "      <th>embarked</th>\n",
       "      <th>class</th>\n",
       "      <th>who</th>\n",
       "      <th>adult_male</th>\n",
       "      <th>deck</th>\n",
       "      <th>embark_town</th>\n",
       "      <th>alive</th>\n",
       "      <th>alone</th>\n",
       "    </tr>\n",
       "  </thead>\n",
       "  <tbody>\n",
       "    <tr>\n",
       "      <th>0</th>\n",
       "      <td>0</td>\n",
       "      <td>3</td>\n",
       "      <td>male</td>\n",
       "      <td>22.0</td>\n",
       "      <td>1</td>\n",
       "      <td>0</td>\n",
       "      <td>7.2500</td>\n",
       "      <td>S</td>\n",
       "      <td>Third</td>\n",
       "      <td>man</td>\n",
       "      <td>True</td>\n",
       "      <td>NaN</td>\n",
       "      <td>Southampton</td>\n",
       "      <td>no</td>\n",
       "      <td>False</td>\n",
       "    </tr>\n",
       "    <tr>\n",
       "      <th>1</th>\n",
       "      <td>1</td>\n",
       "      <td>1</td>\n",
       "      <td>female</td>\n",
       "      <td>38.0</td>\n",
       "      <td>1</td>\n",
       "      <td>0</td>\n",
       "      <td>71.2833</td>\n",
       "      <td>C</td>\n",
       "      <td>First</td>\n",
       "      <td>woman</td>\n",
       "      <td>False</td>\n",
       "      <td>C</td>\n",
       "      <td>Cherbourg</td>\n",
       "      <td>yes</td>\n",
       "      <td>False</td>\n",
       "    </tr>\n",
       "    <tr>\n",
       "      <th>2</th>\n",
       "      <td>1</td>\n",
       "      <td>3</td>\n",
       "      <td>female</td>\n",
       "      <td>26.0</td>\n",
       "      <td>0</td>\n",
       "      <td>0</td>\n",
       "      <td>7.9250</td>\n",
       "      <td>S</td>\n",
       "      <td>Third</td>\n",
       "      <td>woman</td>\n",
       "      <td>False</td>\n",
       "      <td>NaN</td>\n",
       "      <td>Southampton</td>\n",
       "      <td>yes</td>\n",
       "      <td>True</td>\n",
       "    </tr>\n",
       "    <tr>\n",
       "      <th>3</th>\n",
       "      <td>1</td>\n",
       "      <td>1</td>\n",
       "      <td>female</td>\n",
       "      <td>35.0</td>\n",
       "      <td>1</td>\n",
       "      <td>0</td>\n",
       "      <td>53.1000</td>\n",
       "      <td>S</td>\n",
       "      <td>First</td>\n",
       "      <td>woman</td>\n",
       "      <td>False</td>\n",
       "      <td>C</td>\n",
       "      <td>Southampton</td>\n",
       "      <td>yes</td>\n",
       "      <td>False</td>\n",
       "    </tr>\n",
       "    <tr>\n",
       "      <th>4</th>\n",
       "      <td>0</td>\n",
       "      <td>3</td>\n",
       "      <td>male</td>\n",
       "      <td>35.0</td>\n",
       "      <td>0</td>\n",
       "      <td>0</td>\n",
       "      <td>8.0500</td>\n",
       "      <td>S</td>\n",
       "      <td>Third</td>\n",
       "      <td>man</td>\n",
       "      <td>True</td>\n",
       "      <td>NaN</td>\n",
       "      <td>Southampton</td>\n",
       "      <td>no</td>\n",
       "      <td>True</td>\n",
       "    </tr>\n",
       "  </tbody>\n",
       "</table>\n",
       "</div>"
      ],
      "text/plain": [
       "   survived  pclass     sex   age  sibsp  parch     fare embarked  class  \\\n",
       "0         0       3    male  22.0      1      0   7.2500        S  Third   \n",
       "1         1       1  female  38.0      1      0  71.2833        C  First   \n",
       "2         1       3  female  26.0      0      0   7.9250        S  Third   \n",
       "3         1       1  female  35.0      1      0  53.1000        S  First   \n",
       "4         0       3    male  35.0      0      0   8.0500        S  Third   \n",
       "\n",
       "     who  adult_male deck  embark_town alive  alone  \n",
       "0    man        True  NaN  Southampton    no  False  \n",
       "1  woman       False    C    Cherbourg   yes  False  \n",
       "2  woman       False  NaN  Southampton   yes   True  \n",
       "3  woman       False    C  Southampton   yes  False  \n",
       "4    man        True  NaN  Southampton    no   True  "
      ]
     },
     "execution_count": 28,
     "metadata": {},
     "output_type": "execute_result"
    }
   ],
   "source": [
    "df = sns.load_dataset('titanic')\n",
    "df.head()"
   ]
  },
  {
   "cell_type": "code",
   "execution_count": 29,
   "id": "953551bf",
   "metadata": {
    "scrolled": true
   },
   "outputs": [
    {
     "data": {
      "image/png": "[encoded data removed]",
      "text/plain": [
       "<Figure size 432x288 with 1 Axes>"
      ]
     },
     "metadata": {
      "needs_background": "light"
     },
     "output_type": "display_data"
    }
   ],
   "source": [
    "sns.histplot(df['age'],bins = 50, kde = True, color = 'red');"
   ]
  },
  {
   "cell_type": "code",
   "execution_count": 30,
   "id": "f36db9c2",
   "metadata": {},
   "outputs": [
    {
     "data": {
      "image/png": "[encoded data removed]",
      "text/plain": [
       "<Figure size 432x288 with 1 Axes>"
      ]
     },
     "metadata": {
      "needs_background": "light"
     },
     "output_type": "display_data"
    }
   ],
   "source": [
    "sns.boxplot(x = 'age', data = df);"
   ]
  },
  {
   "cell_type": "markdown",
   "id": "7c281c30",
   "metadata": {},
   "source": [
    "**Since, we know “age” follows a normal distribution, outliers will be computed using the mean rather than the median.**"
   ]
  },
  {
   "cell_type": "code",
   "execution_count": 31,
   "id": "9202f6ee",
   "metadata": {},
   "outputs": [],
   "source": [
    "# Thus, extreme value should be considered using Normal distrubtion.\n",
    "\n",
    "extreme = df['age'].mean() + 3*df['age'].std()"
   ]
  },
  {
   "cell_type": "code",
   "execution_count": 32,
   "id": "3a60aa07",
   "metadata": {},
   "outputs": [],
   "source": [
    "# Imputing this extreme value and creating a new column for the age\n",
    "\n",
    "df['age_end_dist'] = df['age'].copy()\n",
    "\n",
    "df['age_end_dist'] = df['age_end_dist'].fillna(extreme)"
   ]
  },
  {
   "cell_type": "code",
   "execution_count": 33,
   "id": "54a7da68",
   "metadata": {},
   "outputs": [],
   "source": [
    "# Let's impute median value for the age column and create another column for comparison.\n",
    "\n",
    "df['age_median'] = df['age'].fillna(df['age'].median())"
   ]
  },
  {
   "cell_type": "code",
   "execution_count": 34,
   "id": "2696bf10",
   "metadata": {},
   "outputs": [
    {
     "data": {
      "text/plain": [
       "<AxesSubplot:>"
      ]
     },
     "execution_count": 34,
     "metadata": {},
     "output_type": "execute_result"
    },
    {
     "data": {
      "image/png": "[encoded data removed]",
      "text/plain": [
       "<Figure size 432x288 with 1 Axes>"
      ]
     },
     "metadata": {
      "needs_background": "light"
     },
     "output_type": "display_data"
    }
   ],
   "source": [
    "sns.boxplot(data = df[['age', 'age_median', 'age_end_dist']])\n",
    "\n",
    "# our age_end_dist has no outliers \n",
    "# But, this is using median and quartiles for distribution"
   ]
  },
  {
   "cell_type": "code",
   "execution_count": 35,
   "id": "8a25354f",
   "metadata": {},
   "outputs": [
    {
     "data": {
      "text/plain": [
       "<AxesSubplot:ylabel='Density'>"
      ]
     },
     "execution_count": 35,
     "metadata": {},
     "output_type": "execute_result"
    },
    {
     "data": {
      "image/png": "[encoded data removed]",
      "text/plain": [
       "<Figure size 432x288 with 1 Axes>"
      ]
     },
     "metadata": {
      "needs_background": "light"
     },
     "output_type": "display_data"
    }
   ],
   "source": [
    "# Let's check the distribution of these columns\n",
    "\n",
    "sns.kdeplot(data = df[['age', 'age_median', 'age_end_dist']])"
   ]
  },
  {
   "cell_type": "markdown",
   "id": "37fa692d",
   "metadata": {},
   "source": [
    "#### Advantages:\n",
    "- Quick and captures the importance of missing values (if one suspects the missing data is valuable)\n",
    "- Captures the importance of missing values\n",
    "\n",
    "#### Disadvantages:\n",
    "- May distort the variable, mask predictive power if missingness is not important, hide true outliers if the missing data is large or create an unintended outlier if NaN values are small."
   ]
  },
  {
   "cell_type": "markdown",
   "id": "ccf434a7",
   "metadata": {},
   "source": [
    "### 5. Arbitrary Imputation (For MNAR)\n",
    "\n",
    "- Arbitrary value imputation consists of replacing all occurrences of missing values (NA) within a variable by an arbitrary value.\n",
    "- Typically used arbitrary values are 0, 999, -999 (or other combinations of 9s) or -1 (if the distribution is positive).\n",
    "- Suitable for both numerical and categorical variables\n",
    "- For categorical variables\n",
    "    - This is the equivalent of replacing all instances of NA by an additional label called ‘Missing’, which is a very common practice.\n",
    "\n",
    "\n",
    "**When should we apply this?**\n",
    "- For MNAR values\n",
    "\n",
    "**How should we apply this?**\n",
    "- Ideally, we want to look for a value that is at the end of the distribution.\n",
    "\n",
    "Similar to End of distribution imputation, but here we choose a reasonable end value without any mathematical calculations."
   ]
  },
  {
   "cell_type": "code",
   "execution_count": 36,
   "id": "2acbe9eb",
   "metadata": {},
   "outputs": [
    {
     "data": {
      "text/html": [
       "<div>\n",
       "<style scoped>\n",
       "    .dataframe tbody tr th:only-of-type {\n",
       "        vertical-align: middle;\n",
       "    }\n",
       "\n",
       "    .dataframe tbody tr th {\n",
       "        vertical-align: top;\n",
       "    }\n",
       "\n",
       "    .dataframe thead th {\n",
       "        text-align: right;\n",
       "    }\n",
       "</style>\n",
       "<table border=\"1\" class=\"dataframe\">\n",
       "  <thead>\n",
       "    <tr style=\"text-align: right;\">\n",
       "      <th></th>\n",
       "      <th>age</th>\n",
       "      <th>fare</th>\n",
       "      <th>survived</th>\n",
       "    </tr>\n",
       "  </thead>\n",
       "  <tbody>\n",
       "    <tr>\n",
       "      <th>0</th>\n",
       "      <td>22.0</td>\n",
       "      <td>7.2500</td>\n",
       "      <td>0</td>\n",
       "    </tr>\n",
       "    <tr>\n",
       "      <th>1</th>\n",
       "      <td>38.0</td>\n",
       "      <td>71.2833</td>\n",
       "      <td>1</td>\n",
       "    </tr>\n",
       "    <tr>\n",
       "      <th>2</th>\n",
       "      <td>26.0</td>\n",
       "      <td>7.9250</td>\n",
       "      <td>1</td>\n",
       "    </tr>\n",
       "    <tr>\n",
       "      <th>3</th>\n",
       "      <td>35.0</td>\n",
       "      <td>53.1000</td>\n",
       "      <td>1</td>\n",
       "    </tr>\n",
       "    <tr>\n",
       "      <th>4</th>\n",
       "      <td>35.0</td>\n",
       "      <td>8.0500</td>\n",
       "      <td>0</td>\n",
       "    </tr>\n",
       "  </tbody>\n",
       "</table>\n",
       "</div>"
      ],
      "text/plain": [
       "    age     fare  survived\n",
       "0  22.0   7.2500         0\n",
       "1  38.0  71.2833         1\n",
       "2  26.0   7.9250         1\n",
       "3  35.0  53.1000         1\n",
       "4  35.0   8.0500         0"
      ]
     },
     "execution_count": 36,
     "metadata": {},
     "output_type": "execute_result"
    }
   ],
   "source": [
    "df = sns.load_dataset('titanic')\n",
    "df = df[['age', 'fare', 'survived']]\n",
    "df.head()"
   ]
  },
  {
   "cell_type": "code",
   "execution_count": 37,
   "id": "69c0c7f6",
   "metadata": {},
   "outputs": [],
   "source": [
    "# Let's impute 0 and 100 for age as they are typically used and are in range of upper limits of age.\n",
    "\n",
    "df['age_zero'] = df['age'].fillna(0)\n",
    "\n",
    "df['age_hundred'] = df['age'].fillna(100)"
   ]
  },
  {
   "cell_type": "code",
   "execution_count": 38,
   "id": "915600a6",
   "metadata": {},
   "outputs": [
    {
     "data": {
      "image/png": "[encoded data removed]",
      "text/plain": [
       "<Figure size 432x288 with 1 Axes>"
      ]
     },
     "metadata": {
      "needs_background": "light"
     },
     "output_type": "display_data"
    }
   ],
   "source": [
    "sns.histplot(x = df['age'], bins = 50, color = 'red');"
   ]
  },
  {
   "cell_type": "code",
   "execution_count": 39,
   "id": "9dc2f0f2",
   "metadata": {},
   "outputs": [
    {
     "data": {
      "image/png": "[encoded data removed]",
      "text/plain": [
       "<Figure size 432x288 with 1 Axes>"
      ]
     },
     "metadata": {
      "needs_background": "light"
     },
     "output_type": "display_data"
    }
   ],
   "source": [
    "sns.histplot(x = df['age_zero'], bins = 50, color = 'blue');"
   ]
  },
  {
   "cell_type": "code",
   "execution_count": 40,
   "id": "f8622161",
   "metadata": {},
   "outputs": [
    {
     "data": {
      "image/png": "[encoded data removed]",
      "text/plain": [
       "<Figure size 432x288 with 1 Axes>"
      ]
     },
     "metadata": {
      "needs_background": "light"
     },
     "output_type": "display_data"
    }
   ],
   "source": [
    "sns.histplot(x = df['age_hundred'], bins = 50, color = 'green');"
   ]
  },
  {
   "cell_type": "code",
   "execution_count": 41,
   "id": "ee6d0d39",
   "metadata": {
    "scrolled": true
   },
   "outputs": [
    {
     "data": {
      "text/html": [
       "<svg  width=\"550\" height=\"55\"><rect x=\"0\" y=\"0\" width=\"55\" height=\"55\" style=\"fill:#023eff;stroke-width:2;stroke:rgb(255,255,255)\"/><rect x=\"55\" y=\"0\" width=\"55\" height=\"55\" style=\"fill:#ff7c00;stroke-width:2;stroke:rgb(255,255,255)\"/><rect x=\"110\" y=\"0\" width=\"55\" height=\"55\" style=\"fill:#1ac938;stroke-width:2;stroke:rgb(255,255,255)\"/><rect x=\"165\" y=\"0\" width=\"55\" height=\"55\" style=\"fill:#e8000b;stroke-width:2;stroke:rgb(255,255,255)\"/><rect x=\"220\" y=\"0\" width=\"55\" height=\"55\" style=\"fill:#8b2be2;stroke-width:2;stroke:rgb(255,255,255)\"/><rect x=\"275\" y=\"0\" width=\"55\" height=\"55\" style=\"fill:#9f4800;stroke-width:2;stroke:rgb(255,255,255)\"/><rect x=\"330\" y=\"0\" width=\"55\" height=\"55\" style=\"fill:#f14cc1;stroke-width:2;stroke:rgb(255,255,255)\"/><rect x=\"385\" y=\"0\" width=\"55\" height=\"55\" style=\"fill:#a3a3a3;stroke-width:2;stroke:rgb(255,255,255)\"/><rect x=\"440\" y=\"0\" width=\"55\" height=\"55\" style=\"fill:#ffc400;stroke-width:2;stroke:rgb(255,255,255)\"/><rect x=\"495\" y=\"0\" width=\"55\" height=\"55\" style=\"fill:#00d7ff;stroke-width:2;stroke:rgb(255,255,255)\"/></svg>"
      ],
      "text/plain": [
       "[(0.00784313725490196, 0.24313725490196078, 1.0),\n",
       " (1.0, 0.48627450980392156, 0.0),\n",
       " (0.10196078431372549, 0.788235294117647, 0.2196078431372549),\n",
       " (0.9098039215686274, 0.0, 0.043137254901960784),\n",
       " (0.5450980392156862, 0.16862745098039217, 0.8862745098039215),\n",
       " (0.6235294117647059, 0.2823529411764706, 0.0),\n",
       " (0.9450980392156862, 0.2980392156862745, 0.7568627450980392),\n",
       " (0.6392156862745098, 0.6392156862745098, 0.6392156862745098),\n",
       " (1.0, 0.7686274509803922, 0.0),\n",
       " (0.0, 0.8431372549019608, 1.0)]"
      ]
     },
     "execution_count": 41,
     "metadata": {},
     "output_type": "execute_result"
    }
   ],
   "source": [
    "# Choosing a color palette for kde plot\n",
    "\n",
    "sns.color_palette(\"bright\")"
   ]
  },
  {
   "cell_type": "code",
   "execution_count": 42,
   "id": "35b96689",
   "metadata": {},
   "outputs": [
    {
     "data": {
      "image/png": "[encoded data removed]",
      "text/plain": [
       "<Figure size 432x288 with 1 Axes>"
      ]
     },
     "metadata": {
      "needs_background": "light"
     },
     "output_type": "display_data"
    }
   ],
   "source": [
    "sns.kdeplot(data = df[['age', 'age_zero', 'age_hundred']],palette='bright');"
   ]
  },
  {
   "cell_type": "markdown",
   "id": "6e8f6bcb",
   "metadata": {},
   "source": [
    "#### Advantages:\n",
    "- Easy to implement\n",
    "- Fast way of obtaining complete datasets\n",
    "- Can be integrated into production (during model deployment)\n",
    "- Captures the importance of “missingness” if there is one\n",
    "\n",
    "#### Disadvantages:\n",
    "- Distortion of the original variable distribution\n",
    "- Distortion of the original variance\n",
    "- Distortion of the covariance with the remaining variables of the dataset\n",
    "- If the arbitrary value is at the end of the distribution it may mask or create outliers\n",
    "\n",
    "\n",
    "**Note:** Need to be careful not to choose an arbitrary value too similar to the mean or median (or any other common value of the variable distribution)\n"
   ]
  },
  {
   "cell_type": "markdown",
   "id": "8c0734b3",
   "metadata": {},
   "source": [
    "### 6. Frequent Categories Imputation"
   ]
  },
  {
   "cell_type": "code",
   "execution_count": 43,
   "id": "c04d26b2",
   "metadata": {},
   "outputs": [],
   "source": [
    "# Discussed this concept in Mode Replacement"
   ]
  },
  {
   "cell_type": "markdown",
   "id": "e63a7978",
   "metadata": {},
   "source": [
    "### Note: All the above methods should be performed on the training set and propagated on the test set."
   ]
  }
 ],
 "metadata": {
  "kernelspec": {
   "display_name": "Python 3 (ipykernel)",
   "language": "python",
   "name": "python3"
  },
  "language_info": {
   "codemirror_mode": {
    "name": "ipython",
    "version": 3
   },
   "file_extension": ".py",
   "mimetype": "text/x-python",
   "name": "python",
   "nbconvert_exporter": "python",
   "pygments_lexer": "ipython3",
   "version": "3.8.12"
  }
 },
 "nbformat": 4,
 "nbformat_minor": 5
}
