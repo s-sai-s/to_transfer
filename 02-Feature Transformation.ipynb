{
 "cells": [
  {
   "cell_type": "code",
   "execution_count": 1,
   "id": "3967410e",
   "metadata": {},
   "outputs": [],
   "source": [
    "import numpy as np\n",
    "import pandas as pd\n",
    "import matplotlib.pyplot as plt\n",
    "import seaborn as sns\n",
    "from datetime import datetime\n",
    "import random\n",
    "import string"
   ]
  },
  {
   "cell_type": "code",
   "execution_count": null,
   "id": "0bbf5434",
   "metadata": {},
   "outputs": [],
   "source": [
    "# Rough\n",
    "\n",
    "# Extracting Information\n",
    "# Combining Information\n",
    "# Transforming Information"
   ]
  },
  {
   "cell_type": "markdown",
   "id": "504990af",
   "metadata": {},
   "source": [
    "# Extracting Information"
   ]
  },
  {
   "cell_type": "code",
   "execution_count": 17,
   "id": "905145ba",
   "metadata": {},
   "outputs": [
    {
     "data": {
      "text/html": [
       "<div>\n",
       "<style scoped>\n",
       "    .dataframe tbody tr th:only-of-type {\n",
       "        vertical-align: middle;\n",
       "    }\n",
       "\n",
       "    .dataframe tbody tr th {\n",
       "        vertical-align: top;\n",
       "    }\n",
       "\n",
       "    .dataframe thead th {\n",
       "        text-align: right;\n",
       "    }\n",
       "</style>\n",
       "<table border=\"1\" class=\"dataframe\">\n",
       "  <thead>\n",
       "    <tr style=\"text-align: right;\">\n",
       "      <th></th>\n",
       "      <th>dates</th>\n",
       "      <th>text</th>\n",
       "    </tr>\n",
       "  </thead>\n",
       "  <tbody>\n",
       "    <tr>\n",
       "      <th>0</th>\n",
       "      <td>1928-01-27</td>\n",
       "      <td>zize</td>\n",
       "    </tr>\n",
       "    <tr>\n",
       "      <th>1</th>\n",
       "      <td>1930-01-16</td>\n",
       "      <td>rktkipq</td>\n",
       "    </tr>\n",
       "    <tr>\n",
       "      <th>2</th>\n",
       "      <td>1995-05-13</td>\n",
       "      <td>zrezrxu</td>\n",
       "    </tr>\n",
       "    <tr>\n",
       "      <th>3</th>\n",
       "      <td>2016-11-18</td>\n",
       "      <td>oxbuzylxvi</td>\n",
       "    </tr>\n",
       "    <tr>\n",
       "      <th>4</th>\n",
       "      <td>1994-10-27</td>\n",
       "      <td>ezl</td>\n",
       "    </tr>\n",
       "  </tbody>\n",
       "</table>\n",
       "</div>"
      ],
      "text/plain": [
       "       dates        text\n",
       "0 1928-01-27        zize\n",
       "1 1930-01-16     rktkipq\n",
       "2 1995-05-13     zrezrxu\n",
       "3 2016-11-18  oxbuzylxvi\n",
       "4 1994-10-27         ezl"
      ]
     },
     "execution_count": 17,
     "metadata": {},
     "output_type": "execute_result"
    }
   ],
   "source": [
    "# Let's create a dataframe to work on.\n",
    "\n",
    "years = np.random.randint(low = 1900, high = 2022, size = 100)\n",
    "months = np.random.randint(low = 1, high = 13, size = 100)\n",
    "days = np.random.randint(low = 1, high = 29, size = 100)\n",
    "\n",
    "dates = []\n",
    "for i in range(100):\n",
    "    dates.append(datetime(years[i], months[i], days[i]))\n",
    "\n",
    "words = []\n",
    "for i in range(100):\n",
    "    n = random.randint(3, 10)\n",
    "    word = ''\n",
    "    for j in range(n):\n",
    "        word += random.choice(string.ascii_lowercase)\n",
    "    words.append(word)\n",
    "\n",
    "\n",
    "data = {'dates':dates, 'text': words}\n",
    "\n",
    "df = pd.DataFrame(data = data)\n",
    "\n",
    "df.head()"
   ]
  },
  {
   "cell_type": "code",
   "execution_count": 22,
   "id": "2bc63309",
   "metadata": {},
   "outputs": [
    {
     "name": "stdout",
     "output_type": "stream",
     "text": [
      "<class 'pandas.core.frame.DataFrame'>\n",
      "RangeIndex: 100 entries, 0 to 99\n",
      "Data columns (total 2 columns):\n",
      " #   Column       Non-Null Count  Dtype         \n",
      "---  ------       --------------  -----         \n",
      " 0   dates        100 non-null    datetime64[ns]\n",
      " 1   text_length  100 non-null    int64         \n",
      "dtypes: datetime64[ns](1), int64(1)\n",
      "memory usage: 1.7 KB\n"
     ]
    }
   ],
   "source": [
    "df.info()"
   ]
  },
  {
   "cell_type": "code",
   "execution_count": 20,
   "id": "e905bf7b",
   "metadata": {},
   "outputs": [],
   "source": [
    "# Our algorithm can't understand text data, let's extract the length of each word.\n",
    "# We will learn more about how to work on text data in NLP section.\n",
    "\n",
    "df['text_length'] = df['text'].apply(lambda x: len(x))\n",
    "\n",
    "# Since, we won't use text data. Let's drop it\n",
    "\n",
    "df = df.drop(columns = 'text')"
   ]
  },
  {
   "cell_type": "code",
   "execution_count": 21,
   "id": "2be25a9b",
   "metadata": {
    "scrolled": true
   },
   "outputs": [
    {
     "data": {
      "text/html": [
       "<div>\n",
       "<style scoped>\n",
       "    .dataframe tbody tr th:only-of-type {\n",
       "        vertical-align: middle;\n",
       "    }\n",
       "\n",
       "    .dataframe tbody tr th {\n",
       "        vertical-align: top;\n",
       "    }\n",
       "\n",
       "    .dataframe thead th {\n",
       "        text-align: right;\n",
       "    }\n",
       "</style>\n",
       "<table border=\"1\" class=\"dataframe\">\n",
       "  <thead>\n",
       "    <tr style=\"text-align: right;\">\n",
       "      <th></th>\n",
       "      <th>dates</th>\n",
       "      <th>text_length</th>\n",
       "    </tr>\n",
       "  </thead>\n",
       "  <tbody>\n",
       "    <tr>\n",
       "      <th>0</th>\n",
       "      <td>1928-01-27</td>\n",
       "      <td>4</td>\n",
       "    </tr>\n",
       "    <tr>\n",
       "      <th>1</th>\n",
       "      <td>1930-01-16</td>\n",
       "      <td>7</td>\n",
       "    </tr>\n",
       "    <tr>\n",
       "      <th>2</th>\n",
       "      <td>1995-05-13</td>\n",
       "      <td>7</td>\n",
       "    </tr>\n",
       "    <tr>\n",
       "      <th>3</th>\n",
       "      <td>2016-11-18</td>\n",
       "      <td>10</td>\n",
       "    </tr>\n",
       "    <tr>\n",
       "      <th>4</th>\n",
       "      <td>1994-10-27</td>\n",
       "      <td>3</td>\n",
       "    </tr>\n",
       "  </tbody>\n",
       "</table>\n",
       "</div>"
      ],
      "text/plain": [
       "       dates  text_length\n",
       "0 1928-01-27            4\n",
       "1 1930-01-16            7\n",
       "2 1995-05-13            7\n",
       "3 2016-11-18           10\n",
       "4 1994-10-27            3"
      ]
     },
     "execution_count": 21,
     "metadata": {},
     "output_type": "execute_result"
    }
   ],
   "source": [
    "df.head()"
   ]
  },
  {
   "cell_type": "code",
   "execution_count": 40,
   "id": "caee7831",
   "metadata": {},
   "outputs": [],
   "source": [
    "# Our machine learning algorithm can't process the datetime objects also, let's extract data from dates column also.\n",
    "\n",
    "df['year'] = df['dates'].dt.year\n",
    "df['month'] = df['dates'].dt.month\n",
    "df['date'] = df['dates'].dt.day\n",
    "df['weekday'] = df['dates'].dt.weekday\n",
    "df['week'] = df['dates'].dt.isocalendar().week\n",
    "\n",
    "def weekend(date):\n",
    "    if date.weekday()>=5:\n",
    "        return 1\n",
    "    else:\n",
    "        return 0\n",
    "    \n",
    "df['weekend'] = df['dates'].apply(lambda x: weekend(x))"
   ]
  },
  {
   "cell_type": "code",
   "execution_count": 41,
   "id": "34999f8d",
   "metadata": {},
   "outputs": [
    {
     "data": {
      "text/html": [
       "<div>\n",
       "<style scoped>\n",
       "    .dataframe tbody tr th:only-of-type {\n",
       "        vertical-align: middle;\n",
       "    }\n",
       "\n",
       "    .dataframe tbody tr th {\n",
       "        vertical-align: top;\n",
       "    }\n",
       "\n",
       "    .dataframe thead th {\n",
       "        text-align: right;\n",
       "    }\n",
       "</style>\n",
       "<table border=\"1\" class=\"dataframe\">\n",
       "  <thead>\n",
       "    <tr style=\"text-align: right;\">\n",
       "      <th></th>\n",
       "      <th>dates</th>\n",
       "      <th>text_length</th>\n",
       "      <th>year</th>\n",
       "      <th>month</th>\n",
       "      <th>date</th>\n",
       "      <th>weekday</th>\n",
       "      <th>week</th>\n",
       "      <th>weekend</th>\n",
       "    </tr>\n",
       "  </thead>\n",
       "  <tbody>\n",
       "    <tr>\n",
       "      <th>0</th>\n",
       "      <td>1928-01-27</td>\n",
       "      <td>4</td>\n",
       "      <td>1928</td>\n",
       "      <td>1</td>\n",
       "      <td>27</td>\n",
       "      <td>4</td>\n",
       "      <td>4</td>\n",
       "      <td>0</td>\n",
       "    </tr>\n",
       "    <tr>\n",
       "      <th>1</th>\n",
       "      <td>1930-01-16</td>\n",
       "      <td>7</td>\n",
       "      <td>1930</td>\n",
       "      <td>1</td>\n",
       "      <td>16</td>\n",
       "      <td>3</td>\n",
       "      <td>3</td>\n",
       "      <td>0</td>\n",
       "    </tr>\n",
       "    <tr>\n",
       "      <th>2</th>\n",
       "      <td>1995-05-13</td>\n",
       "      <td>7</td>\n",
       "      <td>1995</td>\n",
       "      <td>5</td>\n",
       "      <td>13</td>\n",
       "      <td>5</td>\n",
       "      <td>19</td>\n",
       "      <td>1</td>\n",
       "    </tr>\n",
       "    <tr>\n",
       "      <th>3</th>\n",
       "      <td>2016-11-18</td>\n",
       "      <td>10</td>\n",
       "      <td>2016</td>\n",
       "      <td>11</td>\n",
       "      <td>18</td>\n",
       "      <td>4</td>\n",
       "      <td>46</td>\n",
       "      <td>0</td>\n",
       "    </tr>\n",
       "    <tr>\n",
       "      <th>4</th>\n",
       "      <td>1994-10-27</td>\n",
       "      <td>3</td>\n",
       "      <td>1994</td>\n",
       "      <td>10</td>\n",
       "      <td>27</td>\n",
       "      <td>3</td>\n",
       "      <td>43</td>\n",
       "      <td>0</td>\n",
       "    </tr>\n",
       "  </tbody>\n",
       "</table>\n",
       "</div>"
      ],
      "text/plain": [
       "       dates  text_length  year  month  date  weekday  week  weekend\n",
       "0 1928-01-27            4  1928      1    27        4     4        0\n",
       "1 1930-01-16            7  1930      1    16        3     3        0\n",
       "2 1995-05-13            7  1995      5    13        5    19        1\n",
       "3 2016-11-18           10  2016     11    18        4    46        0\n",
       "4 1994-10-27            3  1994     10    27        3    43        0"
      ]
     },
     "execution_count": 41,
     "metadata": {},
     "output_type": "execute_result"
    }
   ],
   "source": [
    "df.head()"
   ]
  },
  {
   "cell_type": "code",
   "execution_count": 43,
   "id": "e1462ad7",
   "metadata": {},
   "outputs": [],
   "source": [
    "# We can now drop dates column\n",
    "\n",
    "df = df.drop(columns = 'dates')"
   ]
  },
  {
   "cell_type": "markdown",
   "id": "bf31f89b",
   "metadata": {},
   "source": [
    "We have just seen how to extract data, from string dtype and datetime dtype. There are a lot more possibilities in different dtypes. We don't have to extract all this information whenever we find a datetime feature, we have to extract and use the data according to the context of the problem. This is just to show some examples of extraction."
   ]
  },
  {
   "cell_type": "markdown",
   "id": "3316e146",
   "metadata": {},
   "source": [
    "# Combining Information"
   ]
  },
  {
   "cell_type": "code",
   "execution_count": 68,
   "id": "b1c98f87",
   "metadata": {},
   "outputs": [],
   "source": [
    "# Let's create some dataframe to understand how this works\n",
    "\n",
    "target = []\n",
    "feat_one = []\n",
    "feat_two = []\n",
    "count = 0\n",
    "\n",
    "for i in range(8, 101, 4):\n",
    "    operator = random.choice([0, 1])\n",
    "    if operator==0:\n",
    "        target.append(i+random.choice([0,1,2,3]))\n",
    "    else:\n",
    "        target.append(i-random.choice([0,1,2,3]))\n",
    "    while True:\n",
    "        factor = random.choice(range(2, i))\n",
    "        if i%factor==0:\n",
    "            feat_one.append(factor)\n",
    "            feat_two.append(i//factor)\n",
    "            break\n",
    "        else:\n",
    "            continue"
   ]
  },
  {
   "cell_type": "code",
   "execution_count": 70,
   "id": "6b7b81cc",
   "metadata": {},
   "outputs": [
    {
     "data": {
      "text/html": [
       "<div>\n",
       "<style scoped>\n",
       "    .dataframe tbody tr th:only-of-type {\n",
       "        vertical-align: middle;\n",
       "    }\n",
       "\n",
       "    .dataframe tbody tr th {\n",
       "        vertical-align: top;\n",
       "    }\n",
       "\n",
       "    .dataframe thead th {\n",
       "        text-align: right;\n",
       "    }\n",
       "</style>\n",
       "<table border=\"1\" class=\"dataframe\">\n",
       "  <thead>\n",
       "    <tr style=\"text-align: right;\">\n",
       "      <th></th>\n",
       "      <th>feature_one</th>\n",
       "      <th>feature_two</th>\n",
       "      <th>target</th>\n",
       "    </tr>\n",
       "  </thead>\n",
       "  <tbody>\n",
       "    <tr>\n",
       "      <th>0</th>\n",
       "      <td>2</td>\n",
       "      <td>4</td>\n",
       "      <td>9</td>\n",
       "    </tr>\n",
       "    <tr>\n",
       "      <th>1</th>\n",
       "      <td>3</td>\n",
       "      <td>4</td>\n",
       "      <td>11</td>\n",
       "    </tr>\n",
       "    <tr>\n",
       "      <th>2</th>\n",
       "      <td>2</td>\n",
       "      <td>8</td>\n",
       "      <td>16</td>\n",
       "    </tr>\n",
       "    <tr>\n",
       "      <th>3</th>\n",
       "      <td>2</td>\n",
       "      <td>10</td>\n",
       "      <td>21</td>\n",
       "    </tr>\n",
       "    <tr>\n",
       "      <th>4</th>\n",
       "      <td>4</td>\n",
       "      <td>6</td>\n",
       "      <td>27</td>\n",
       "    </tr>\n",
       "  </tbody>\n",
       "</table>\n",
       "</div>"
      ],
      "text/plain": [
       "   feature_one  feature_two  target\n",
       "0            2            4       9\n",
       "1            3            4      11\n",
       "2            2            8      16\n",
       "3            2           10      21\n",
       "4            4            6      27"
      ]
     },
     "execution_count": 70,
     "metadata": {},
     "output_type": "execute_result"
    }
   ],
   "source": [
    "data = {'feature_one':feat_one, 'feature_two':feat_two, 'target':target}\n",
    "\n",
    "df = pd.DataFrame(data = data)\n",
    "\n",
    "df.head()"
   ]
  },
  {
   "cell_type": "code",
   "execution_count": 75,
   "id": "83aa6a37",
   "metadata": {},
   "outputs": [
    {
     "data": {
      "image/png": "[encoded data removed]",
      "text/plain": [
       "<Figure size 432x288 with 2 Axes>"
      ]
     },
     "metadata": {
      "needs_background": "light"
     },
     "output_type": "display_data"
    }
   ],
   "source": [
    "# Let's check how our features are related to the target column\n",
    "\n",
    "sns.heatmap(df.corr(), annot=True);\n",
    "\n",
    "# The highest correlation between target and feature columns is 0.45"
   ]
  },
  {
   "cell_type": "code",
   "execution_count": 83,
   "id": "3dff8a40",
   "metadata": {},
   "outputs": [
    {
     "data": {
      "text/plain": [
       "0.9975551425546405"
      ]
     },
     "execution_count": 83,
     "metadata": {},
     "output_type": "execute_result"
    },
    {
     "data": {
      "image/png": "[encoded data removed]",
      "text/plain": [
       "<Figure size 432x288 with 2 Axes>"
      ]
     },
     "metadata": {
      "needs_background": "light"
     },
     "output_type": "display_data"
    }
   ],
   "source": [
    "# Now, let's combine these features\n",
    "\n",
    "df['sum'] = df['feature_one']+df['feature_two']\n",
    "df['product'] = df['feature_one']*df['feature_two']\n",
    "\n",
    "# Let's check the correlation again.\n",
    "\n",
    "sns.heatmap(df.corr(), annot=True)\n",
    "\n",
    "df.corr()['target'].sort_values(ascending=False)"
   ]
  },
  {
   "cell_type": "code",
   "execution_count": 84,
   "id": "f42d41f2",
   "metadata": {},
   "outputs": [
    {
     "data": {
      "text/plain": [
       "0.9975551425546405"
      ]
     },
     "execution_count": 84,
     "metadata": {},
     "output_type": "execute_result"
    }
   ],
   "source": [
    "df.corr()['target']['product']"
   ]
  },
  {
   "cell_type": "markdown",
   "id": "dc661c78",
   "metadata": {},
   "source": [
    "- After combining the features, we got a feature which has almost 100% correlation with the target column.\n",
    "- Not just correlation, we can compare the using other feature selection techniques. coefficients in algorithms like linear regression.\n",
    "- Note: We don't want high correlation between feature columns, but always want high correlation in between target and feature columns.\n",
    "\n",
    "**This is how combining information help us**"
   ]
  },
  {
   "cell_type": "markdown",
   "id": "d0392722",
   "metadata": {},
   "source": [
    "# Transforming Information"
   ]
  },
  {
   "cell_type": "markdown",
   "id": "30ce605d",
   "metadata": {},
   "source": [
    "## Handling Categorical Features (Encoding)"
   ]
  },
  {
   "cell_type": "markdown",
   "id": "a0446ab6",
   "metadata": {},
   "source": [
    "<a href=\"https://ibb.co/LkC6Bbr\"><img src=\"https://i.ibb.co/5M5vCtk/Handling-Categorical-Features-Cheat-Sheet.png\" alt=\"Handling-Categorical-Features-Cheat-Sheet\" border=\"0\"></a>"
   ]
  },
  {
   "cell_type": "markdown",
   "id": "01618c72",
   "metadata": {},
   "source": [
    "important link: \n",
    "- https://towardsdatascience.com/all-about-categorical-variable-encoding-305f3361fd02\n",
    "- https://www.kaggle.com/harishvutukuri/categorical-variable-encoding"
   ]
  },
  {
   "cell_type": "code",
   "execution_count": 2,
   "id": "72215728",
   "metadata": {},
   "outputs": [],
   "source": [
    "# we need to import category_encoders\n",
    "try: \n",
    "    import category_encoders\n",
    "except:\n",
    "    !pip install category_encoders\n",
    "    import category_encoders"
   ]
  },
  {
   "cell_type": "code",
   "execution_count": 4,
   "id": "de87e540",
   "metadata": {},
   "outputs": [
    {
     "data": {
      "text/html": [
       "<div>\n",
       "<style scoped>\n",
       "    .dataframe tbody tr th:only-of-type {\n",
       "        vertical-align: middle;\n",
       "    }\n",
       "\n",
       "    .dataframe tbody tr th {\n",
       "        vertical-align: top;\n",
       "    }\n",
       "\n",
       "    .dataframe thead th {\n",
       "        text-align: right;\n",
       "    }\n",
       "</style>\n",
       "<table border=\"1\" class=\"dataframe\">\n",
       "  <thead>\n",
       "    <tr style=\"text-align: right;\">\n",
       "      <th></th>\n",
       "      <th>Temperature</th>\n",
       "      <th>Color</th>\n",
       "      <th>Target</th>\n",
       "    </tr>\n",
       "  </thead>\n",
       "  <tbody>\n",
       "    <tr>\n",
       "      <th>0</th>\n",
       "      <td>Hot</td>\n",
       "      <td>Red</td>\n",
       "      <td>1</td>\n",
       "    </tr>\n",
       "    <tr>\n",
       "      <th>1</th>\n",
       "      <td>Cold</td>\n",
       "      <td>Yellow</td>\n",
       "      <td>1</td>\n",
       "    </tr>\n",
       "    <tr>\n",
       "      <th>2</th>\n",
       "      <td>Very Hot</td>\n",
       "      <td>Yellow</td>\n",
       "      <td>1</td>\n",
       "    </tr>\n",
       "    <tr>\n",
       "      <th>3</th>\n",
       "      <td>Warm</td>\n",
       "      <td>Blue</td>\n",
       "      <td>0</td>\n",
       "    </tr>\n",
       "    <tr>\n",
       "      <th>4</th>\n",
       "      <td>Hot</td>\n",
       "      <td>Red</td>\n",
       "      <td>1</td>\n",
       "    </tr>\n",
       "    <tr>\n",
       "      <th>5</th>\n",
       "      <td>Warm</td>\n",
       "      <td>Blue</td>\n",
       "      <td>0</td>\n",
       "    </tr>\n",
       "    <tr>\n",
       "      <th>6</th>\n",
       "      <td>Warm</td>\n",
       "      <td>Blue</td>\n",
       "      <td>1</td>\n",
       "    </tr>\n",
       "    <tr>\n",
       "      <th>7</th>\n",
       "      <td>Hot</td>\n",
       "      <td>Yellow</td>\n",
       "      <td>0</td>\n",
       "    </tr>\n",
       "    <tr>\n",
       "      <th>8</th>\n",
       "      <td>Hot</td>\n",
       "      <td>Red</td>\n",
       "      <td>1</td>\n",
       "    </tr>\n",
       "    <tr>\n",
       "      <th>9</th>\n",
       "      <td>Cold</td>\n",
       "      <td>Yellow</td>\n",
       "      <td>1</td>\n",
       "    </tr>\n",
       "  </tbody>\n",
       "</table>\n",
       "</div>"
      ],
      "text/plain": [
       "  Temperature   Color  Target\n",
       "0         Hot     Red       1\n",
       "1        Cold  Yellow       1\n",
       "2    Very Hot  Yellow       1\n",
       "3        Warm    Blue       0\n",
       "4         Hot     Red       1\n",
       "5        Warm    Blue       0\n",
       "6        Warm    Blue       1\n",
       "7         Hot  Yellow       0\n",
       "8         Hot     Red       1\n",
       "9        Cold  Yellow       1"
      ]
     },
     "execution_count": 4,
     "metadata": {},
     "output_type": "execute_result"
    }
   ],
   "source": [
    "# Let's create a simple dataframe for understanding all the encoding techniques\n",
    "\n",
    "import pandas as pd\n",
    "\n",
    "data = {'Temperature': ['Hot', 'Cold', 'Very Hot', 'Warm', 'Hot', 'Warm', 'Warm', 'Hot', 'Hot', 'Cold'],\n",
    "        'Color': ['Red', 'Yellow', 'Yellow', 'Blue', 'Red', 'Blue', 'Blue', 'Yellow', 'Red', 'Yellow'],\n",
    "        'Target': [1,1,1,0,1,0,1,0,1,1]}\n",
    "\n",
    "df = pd.DataFrame(data, columns=['Temperature','Color','Target'])\n",
    "\n",
    "df"
   ]
  },
  {
   "cell_type": "code",
   "execution_count": 13,
   "id": "7e2adc1f",
   "metadata": {},
   "outputs": [
    {
     "name": "stdout",
     "output_type": "stream",
     "text": [
      "Hot         4\n",
      "Warm        3\n",
      "Cold        2\n",
      "Very Hot    1\n",
      "Name: Temperature, dtype: int64\n",
      "\n",
      "\n",
      "Yellow    4\n",
      "Blue      3\n",
      "Red       3\n",
      "Name: Color, dtype: int64\n"
     ]
    }
   ],
   "source": [
    "print(df['Temperature'].value_counts())\n",
    "print('\\n')\n",
    "print(df['Color'].value_counts())"
   ]
  },
  {
   "cell_type": "markdown",
   "id": "7629e5f0",
   "metadata": {},
   "source": [
    "### One Hot Encoding"
   ]
  },
  {
   "cell_type": "markdown",
   "id": "b0e3ed79",
   "metadata": {},
   "source": [
    "**In this method, we map each category to a vector that contains 1 and 0 denoting the presence or absence of the feature.**\n",
    "\n",
    "- Used for Nominal Variables\n",
    "- We represent all n categories in a feature by n-1 encoded features. If we include that left over column, it will create multicollinearity and this is called Dummy Variable Trap. To aviod Dummy Variable Trap, we will only consider n-1 encoded features.\n",
    "- For Tree based classification method, you can consider all the n encoded features.\n",
    "- It can be done by <code>pd.get_dummies</code> as well as sklearn's <code>OneHotEncoder</code>"
   ]
  },
  {
   "cell_type": "markdown",
   "id": "ec3f9fdd",
   "metadata": {},
   "source": [
    "#### Manual way of One hot Encoding"
   ]
  },
  {
   "cell_type": "code",
   "execution_count": 7,
   "id": "9553bf96",
   "metadata": {},
   "outputs": [
    {
     "data": {
      "text/plain": [
       "array(['Red', 'Yellow', 'Blue'], dtype=object)"
      ]
     },
     "execution_count": 7,
     "metadata": {},
     "output_type": "execute_result"
    }
   ],
   "source": [
    "# Let's encode color feature\n",
    "\n",
    "df['Color'].unique()"
   ]
  },
  {
   "cell_type": "code",
   "execution_count": 9,
   "id": "43a32bb3",
   "metadata": {},
   "outputs": [
    {
     "data": {
      "text/html": [
       "<div>\n",
       "<style scoped>\n",
       "    .dataframe tbody tr th:only-of-type {\n",
       "        vertical-align: middle;\n",
       "    }\n",
       "\n",
       "    .dataframe tbody tr th {\n",
       "        vertical-align: top;\n",
       "    }\n",
       "\n",
       "    .dataframe thead th {\n",
       "        text-align: right;\n",
       "    }\n",
       "</style>\n",
       "<table border=\"1\" class=\"dataframe\">\n",
       "  <thead>\n",
       "    <tr style=\"text-align: right;\">\n",
       "      <th></th>\n",
       "      <th>Temperature</th>\n",
       "      <th>Color</th>\n",
       "      <th>Target</th>\n",
       "      <th>Color_Red</th>\n",
       "      <th>Color_Blue</th>\n",
       "      <th>Color_Yellow</th>\n",
       "    </tr>\n",
       "  </thead>\n",
       "  <tbody>\n",
       "    <tr>\n",
       "      <th>0</th>\n",
       "      <td>Hot</td>\n",
       "      <td>Red</td>\n",
       "      <td>1</td>\n",
       "      <td>1</td>\n",
       "      <td>0</td>\n",
       "      <td>0</td>\n",
       "    </tr>\n",
       "    <tr>\n",
       "      <th>1</th>\n",
       "      <td>Cold</td>\n",
       "      <td>Yellow</td>\n",
       "      <td>1</td>\n",
       "      <td>0</td>\n",
       "      <td>0</td>\n",
       "      <td>1</td>\n",
       "    </tr>\n",
       "    <tr>\n",
       "      <th>2</th>\n",
       "      <td>Very Hot</td>\n",
       "      <td>Yellow</td>\n",
       "      <td>1</td>\n",
       "      <td>0</td>\n",
       "      <td>0</td>\n",
       "      <td>1</td>\n",
       "    </tr>\n",
       "    <tr>\n",
       "      <th>3</th>\n",
       "      <td>Warm</td>\n",
       "      <td>Blue</td>\n",
       "      <td>0</td>\n",
       "      <td>0</td>\n",
       "      <td>1</td>\n",
       "      <td>0</td>\n",
       "    </tr>\n",
       "    <tr>\n",
       "      <th>4</th>\n",
       "      <td>Hot</td>\n",
       "      <td>Red</td>\n",
       "      <td>1</td>\n",
       "      <td>1</td>\n",
       "      <td>0</td>\n",
       "      <td>0</td>\n",
       "    </tr>\n",
       "    <tr>\n",
       "      <th>5</th>\n",
       "      <td>Warm</td>\n",
       "      <td>Blue</td>\n",
       "      <td>0</td>\n",
       "      <td>0</td>\n",
       "      <td>1</td>\n",
       "      <td>0</td>\n",
       "    </tr>\n",
       "    <tr>\n",
       "      <th>6</th>\n",
       "      <td>Warm</td>\n",
       "      <td>Blue</td>\n",
       "      <td>1</td>\n",
       "      <td>0</td>\n",
       "      <td>1</td>\n",
       "      <td>0</td>\n",
       "    </tr>\n",
       "    <tr>\n",
       "      <th>7</th>\n",
       "      <td>Hot</td>\n",
       "      <td>Yellow</td>\n",
       "      <td>0</td>\n",
       "      <td>0</td>\n",
       "      <td>0</td>\n",
       "      <td>1</td>\n",
       "    </tr>\n",
       "    <tr>\n",
       "      <th>8</th>\n",
       "      <td>Hot</td>\n",
       "      <td>Red</td>\n",
       "      <td>1</td>\n",
       "      <td>1</td>\n",
       "      <td>0</td>\n",
       "      <td>0</td>\n",
       "    </tr>\n",
       "    <tr>\n",
       "      <th>9</th>\n",
       "      <td>Cold</td>\n",
       "      <td>Yellow</td>\n",
       "      <td>1</td>\n",
       "      <td>0</td>\n",
       "      <td>0</td>\n",
       "      <td>1</td>\n",
       "    </tr>\n",
       "  </tbody>\n",
       "</table>\n",
       "</div>"
      ],
      "text/plain": [
       "  Temperature   Color  Target  Color_Red  Color_Blue  Color_Yellow\n",
       "0         Hot     Red       1          1           0             0\n",
       "1        Cold  Yellow       1          0           0             1\n",
       "2    Very Hot  Yellow       1          0           0             1\n",
       "3        Warm    Blue       0          0           1             0\n",
       "4         Hot     Red       1          1           0             0\n",
       "5        Warm    Blue       0          0           1             0\n",
       "6        Warm    Blue       1          0           1             0\n",
       "7         Hot  Yellow       0          0           0             1\n",
       "8         Hot     Red       1          1           0             0\n",
       "9        Cold  Yellow       1          0           0             1"
      ]
     },
     "execution_count": 9,
     "metadata": {},
     "output_type": "execute_result"
    }
   ],
   "source": [
    "red = np.where(df['Color']=='Red', 1, 0)\n",
    "blue = np.where(df['Color']=='Blue', 1, 0)\n",
    "yellow = np.where(df['Color']=='Yellow', 1, 0)\n",
    "\n",
    "one_hot_encoded = pd.DataFrame(data = {\"Color_Red\":red, \"Color_Blue\":blue, \"Color_Yellow\":yellow})\n",
    "\n",
    "pd.concat([df, one_hot_encoded], axis = 1)"
   ]
  },
  {
   "cell_type": "markdown",
   "id": "d66aefce",
   "metadata": {},
   "source": [
    "#### Using Sklearn's OneHotEncoder"
   ]
  },
  {
   "cell_type": "code",
   "execution_count": 21,
   "id": "7ae66e9f",
   "metadata": {},
   "outputs": [
    {
     "data": {
      "text/plain": [
       "array([[0., 1., 0., 0.],\n",
       "       [1., 0., 0., 0.],\n",
       "       [0., 0., 1., 0.],\n",
       "       [0., 0., 0., 1.],\n",
       "       [0., 1., 0., 0.],\n",
       "       [0., 0., 0., 1.],\n",
       "       [0., 0., 0., 1.],\n",
       "       [0., 1., 0., 0.],\n",
       "       [0., 1., 0., 0.],\n",
       "       [1., 0., 0., 0.]])"
      ]
     },
     "execution_count": 21,
     "metadata": {},
     "output_type": "execute_result"
    }
   ],
   "source": [
    "from sklearn.preprocessing import OneHotEncoder\n",
    "\n",
    "ohc = OneHotEncoder()\n",
    "print(ohc.fit_transform(df['Temperature'].values.reshape(-1, 1)).toarray())"
   ]
  },
  {
   "cell_type": "code",
   "execution_count": 29,
   "id": "86c9f836",
   "metadata": {},
   "outputs": [
    {
     "data": {
      "text/plain": [
       "[array(['Cold', 'Hot', 'Very Hot', 'Warm'], dtype=object)]"
      ]
     },
     "execution_count": 29,
     "metadata": {},
     "output_type": "execute_result"
    }
   ],
   "source": [
    "ohc.categories_"
   ]
  },
  {
   "cell_type": "code",
   "execution_count": 33,
   "id": "bcd172a1",
   "metadata": {},
   "outputs": [
    {
     "data": {
      "text/html": [
       "<div>\n",
       "<style scoped>\n",
       "    .dataframe tbody tr th:only-of-type {\n",
       "        vertical-align: middle;\n",
       "    }\n",
       "\n",
       "    .dataframe tbody tr th {\n",
       "        vertical-align: top;\n",
       "    }\n",
       "\n",
       "    .dataframe thead th {\n",
       "        text-align: right;\n",
       "    }\n",
       "</style>\n",
       "<table border=\"1\" class=\"dataframe\">\n",
       "  <thead>\n",
       "    <tr style=\"text-align: right;\">\n",
       "      <th></th>\n",
       "      <th>Temperature</th>\n",
       "      <th>Color</th>\n",
       "      <th>Target</th>\n",
       "      <th>Temp_Cold</th>\n",
       "      <th>Temp_Hot</th>\n",
       "      <th>Temp_Very Hot</th>\n",
       "      <th>Temp_Warm</th>\n",
       "    </tr>\n",
       "  </thead>\n",
       "  <tbody>\n",
       "    <tr>\n",
       "      <th>0</th>\n",
       "      <td>Hot</td>\n",
       "      <td>Red</td>\n",
       "      <td>1</td>\n",
       "      <td>0.0</td>\n",
       "      <td>1.0</td>\n",
       "      <td>0.0</td>\n",
       "      <td>0.0</td>\n",
       "    </tr>\n",
       "    <tr>\n",
       "      <th>1</th>\n",
       "      <td>Cold</td>\n",
       "      <td>Yellow</td>\n",
       "      <td>1</td>\n",
       "      <td>1.0</td>\n",
       "      <td>0.0</td>\n",
       "      <td>0.0</td>\n",
       "      <td>0.0</td>\n",
       "    </tr>\n",
       "    <tr>\n",
       "      <th>2</th>\n",
       "      <td>Very Hot</td>\n",
       "      <td>Yellow</td>\n",
       "      <td>1</td>\n",
       "      <td>0.0</td>\n",
       "      <td>0.0</td>\n",
       "      <td>1.0</td>\n",
       "      <td>0.0</td>\n",
       "    </tr>\n",
       "    <tr>\n",
       "      <th>3</th>\n",
       "      <td>Warm</td>\n",
       "      <td>Blue</td>\n",
       "      <td>0</td>\n",
       "      <td>0.0</td>\n",
       "      <td>0.0</td>\n",
       "      <td>0.0</td>\n",
       "      <td>1.0</td>\n",
       "    </tr>\n",
       "    <tr>\n",
       "      <th>4</th>\n",
       "      <td>Hot</td>\n",
       "      <td>Red</td>\n",
       "      <td>1</td>\n",
       "      <td>0.0</td>\n",
       "      <td>1.0</td>\n",
       "      <td>0.0</td>\n",
       "      <td>0.0</td>\n",
       "    </tr>\n",
       "    <tr>\n",
       "      <th>5</th>\n",
       "      <td>Warm</td>\n",
       "      <td>Blue</td>\n",
       "      <td>0</td>\n",
       "      <td>0.0</td>\n",
       "      <td>0.0</td>\n",
       "      <td>0.0</td>\n",
       "      <td>1.0</td>\n",
       "    </tr>\n",
       "    <tr>\n",
       "      <th>6</th>\n",
       "      <td>Warm</td>\n",
       "      <td>Blue</td>\n",
       "      <td>1</td>\n",
       "      <td>0.0</td>\n",
       "      <td>0.0</td>\n",
       "      <td>0.0</td>\n",
       "      <td>1.0</td>\n",
       "    </tr>\n",
       "    <tr>\n",
       "      <th>7</th>\n",
       "      <td>Hot</td>\n",
       "      <td>Yellow</td>\n",
       "      <td>0</td>\n",
       "      <td>0.0</td>\n",
       "      <td>1.0</td>\n",
       "      <td>0.0</td>\n",
       "      <td>0.0</td>\n",
       "    </tr>\n",
       "    <tr>\n",
       "      <th>8</th>\n",
       "      <td>Hot</td>\n",
       "      <td>Red</td>\n",
       "      <td>1</td>\n",
       "      <td>0.0</td>\n",
       "      <td>1.0</td>\n",
       "      <td>0.0</td>\n",
       "      <td>0.0</td>\n",
       "    </tr>\n",
       "    <tr>\n",
       "      <th>9</th>\n",
       "      <td>Cold</td>\n",
       "      <td>Yellow</td>\n",
       "      <td>1</td>\n",
       "      <td>1.0</td>\n",
       "      <td>0.0</td>\n",
       "      <td>0.0</td>\n",
       "      <td>0.0</td>\n",
       "    </tr>\n",
       "  </tbody>\n",
       "</table>\n",
       "</div>"
      ],
      "text/plain": [
       "  Temperature   Color  Target  Temp_Cold  Temp_Hot  Temp_Very Hot  Temp_Warm\n",
       "0         Hot     Red       1        0.0       1.0            0.0        0.0\n",
       "1        Cold  Yellow       1        1.0       0.0            0.0        0.0\n",
       "2    Very Hot  Yellow       1        0.0       0.0            1.0        0.0\n",
       "3        Warm    Blue       0        0.0       0.0            0.0        1.0\n",
       "4         Hot     Red       1        0.0       1.0            0.0        0.0\n",
       "5        Warm    Blue       0        0.0       0.0            0.0        1.0\n",
       "6        Warm    Blue       1        0.0       0.0            0.0        1.0\n",
       "7         Hot  Yellow       0        0.0       1.0            0.0        0.0\n",
       "8         Hot     Red       1        0.0       1.0            0.0        0.0\n",
       "9        Cold  Yellow       1        1.0       0.0            0.0        0.0"
      ]
     },
     "execution_count": 33,
     "metadata": {},
     "output_type": "execute_result"
    }
   ],
   "source": [
    "ohe = ohc.fit_transform(df['Temperature'].values.reshape(-1, 1)).toarray()\n",
    "\n",
    "cols = [\"Temp_\"+str(i) for i in ohc.categories_[0]]\n",
    "\n",
    "dfOneHot = pd.DataFrame(ohe, columns=cols)\n",
    "\n",
    "dfoh = pd.concat([df, dfOneHot], axis = 1)\n",
    "\n",
    "dfoh"
   ]
  },
  {
   "cell_type": "markdown",
   "id": "9a5b4378",
   "metadata": {},
   "source": [
    "#### Using Pandas' Get Dummies"
   ]
  },
  {
   "cell_type": "code",
   "execution_count": 35,
   "id": "1f0be53a",
   "metadata": {},
   "outputs": [
    {
     "data": {
      "text/html": [
       "<div>\n",
       "<style scoped>\n",
       "    .dataframe tbody tr th:only-of-type {\n",
       "        vertical-align: middle;\n",
       "    }\n",
       "\n",
       "    .dataframe tbody tr th {\n",
       "        vertical-align: top;\n",
       "    }\n",
       "\n",
       "    .dataframe thead th {\n",
       "        text-align: right;\n",
       "    }\n",
       "</style>\n",
       "<table border=\"1\" class=\"dataframe\">\n",
       "  <thead>\n",
       "    <tr style=\"text-align: right;\">\n",
       "      <th></th>\n",
       "      <th>Color</th>\n",
       "      <th>Target</th>\n",
       "      <th>Temp_Cold</th>\n",
       "      <th>Temp_Hot</th>\n",
       "      <th>Temp_Very Hot</th>\n",
       "      <th>Temp_Warm</th>\n",
       "    </tr>\n",
       "  </thead>\n",
       "  <tbody>\n",
       "    <tr>\n",
       "      <th>0</th>\n",
       "      <td>Red</td>\n",
       "      <td>1</td>\n",
       "      <td>0</td>\n",
       "      <td>1</td>\n",
       "      <td>0</td>\n",
       "      <td>0</td>\n",
       "    </tr>\n",
       "    <tr>\n",
       "      <th>1</th>\n",
       "      <td>Yellow</td>\n",
       "      <td>1</td>\n",
       "      <td>1</td>\n",
       "      <td>0</td>\n",
       "      <td>0</td>\n",
       "      <td>0</td>\n",
       "    </tr>\n",
       "    <tr>\n",
       "      <th>2</th>\n",
       "      <td>Yellow</td>\n",
       "      <td>1</td>\n",
       "      <td>0</td>\n",
       "      <td>0</td>\n",
       "      <td>1</td>\n",
       "      <td>0</td>\n",
       "    </tr>\n",
       "    <tr>\n",
       "      <th>3</th>\n",
       "      <td>Blue</td>\n",
       "      <td>0</td>\n",
       "      <td>0</td>\n",
       "      <td>0</td>\n",
       "      <td>0</td>\n",
       "      <td>1</td>\n",
       "    </tr>\n",
       "    <tr>\n",
       "      <th>4</th>\n",
       "      <td>Red</td>\n",
       "      <td>1</td>\n",
       "      <td>0</td>\n",
       "      <td>1</td>\n",
       "      <td>0</td>\n",
       "      <td>0</td>\n",
       "    </tr>\n",
       "    <tr>\n",
       "      <th>5</th>\n",
       "      <td>Blue</td>\n",
       "      <td>0</td>\n",
       "      <td>0</td>\n",
       "      <td>0</td>\n",
       "      <td>0</td>\n",
       "      <td>1</td>\n",
       "    </tr>\n",
       "    <tr>\n",
       "      <th>6</th>\n",
       "      <td>Blue</td>\n",
       "      <td>1</td>\n",
       "      <td>0</td>\n",
       "      <td>0</td>\n",
       "      <td>0</td>\n",
       "      <td>1</td>\n",
       "    </tr>\n",
       "    <tr>\n",
       "      <th>7</th>\n",
       "      <td>Yellow</td>\n",
       "      <td>0</td>\n",
       "      <td>0</td>\n",
       "      <td>1</td>\n",
       "      <td>0</td>\n",
       "      <td>0</td>\n",
       "    </tr>\n",
       "    <tr>\n",
       "      <th>8</th>\n",
       "      <td>Red</td>\n",
       "      <td>1</td>\n",
       "      <td>0</td>\n",
       "      <td>1</td>\n",
       "      <td>0</td>\n",
       "      <td>0</td>\n",
       "    </tr>\n",
       "    <tr>\n",
       "      <th>9</th>\n",
       "      <td>Yellow</td>\n",
       "      <td>1</td>\n",
       "      <td>1</td>\n",
       "      <td>0</td>\n",
       "      <td>0</td>\n",
       "      <td>0</td>\n",
       "    </tr>\n",
       "  </tbody>\n",
       "</table>\n",
       "</div>"
      ],
      "text/plain": [
       "    Color  Target  Temp_Cold  Temp_Hot  Temp_Very Hot  Temp_Warm\n",
       "0     Red       1          0         1              0          0\n",
       "1  Yellow       1          1         0              0          0\n",
       "2  Yellow       1          0         0              1          0\n",
       "3    Blue       0          0         0              0          1\n",
       "4     Red       1          0         1              0          0\n",
       "5    Blue       0          0         0              0          1\n",
       "6    Blue       1          0         0              0          1\n",
       "7  Yellow       0          0         1              0          0\n",
       "8     Red       1          0         1              0          0\n",
       "9  Yellow       1          1         0              0          0"
      ]
     },
     "execution_count": 35,
     "metadata": {},
     "output_type": "execute_result"
    }
   ],
   "source": [
    "# This is very easy to do compared to the previous one\n",
    "\n",
    "df_ohe = pd.get_dummies(data = df, prefix = ['Temp'], columns = ['Temperature'])\n",
    "\n",
    "df_ohe"
   ]
  },
  {
   "cell_type": "markdown",
   "id": "7a738616",
   "metadata": {},
   "source": [
    "### Label Encoding"
   ]
  },
  {
   "cell_type": "markdown",
   "id": "3c33ed6c",
   "metadata": {},
   "source": [
    "- In Label Encoding, each category is assigned a value from 1 through N (here N is the number of categories for the feature.\n",
    "- One major issue with this approach is there is no relation or order between these classes, but the algorithm might consider them as some order, or there is some relationship.\n",
    "- Label Encoding can be done by pandas <code>factorize</code> as well as sklearn's <code>LabelEncoder</code>"
   ]
  },
  {
   "cell_type": "markdown",
   "id": "9f7c20f1",
   "metadata": {},
   "source": [
    "#### Manual way of Label Encoding"
   ]
  },
  {
   "cell_type": "code",
   "execution_count": 97,
   "id": "a7d9323b",
   "metadata": {},
   "outputs": [
    {
     "data": {
      "text/html": [
       "<div>\n",
       "<style scoped>\n",
       "    .dataframe tbody tr th:only-of-type {\n",
       "        vertical-align: middle;\n",
       "    }\n",
       "\n",
       "    .dataframe tbody tr th {\n",
       "        vertical-align: top;\n",
       "    }\n",
       "\n",
       "    .dataframe thead th {\n",
       "        text-align: right;\n",
       "    }\n",
       "</style>\n",
       "<table border=\"1\" class=\"dataframe\">\n",
       "  <thead>\n",
       "    <tr style=\"text-align: right;\">\n",
       "      <th></th>\n",
       "      <th>Temperature</th>\n",
       "      <th>Color</th>\n",
       "      <th>Target</th>\n",
       "      <th>Temp_label_enc</th>\n",
       "    </tr>\n",
       "  </thead>\n",
       "  <tbody>\n",
       "    <tr>\n",
       "      <th>0</th>\n",
       "      <td>Hot</td>\n",
       "      <td>Red</td>\n",
       "      <td>1</td>\n",
       "      <td>1</td>\n",
       "    </tr>\n",
       "    <tr>\n",
       "      <th>1</th>\n",
       "      <td>Cold</td>\n",
       "      <td>Yellow</td>\n",
       "      <td>1</td>\n",
       "      <td>2</td>\n",
       "    </tr>\n",
       "    <tr>\n",
       "      <th>2</th>\n",
       "      <td>Very Hot</td>\n",
       "      <td>Yellow</td>\n",
       "      <td>1</td>\n",
       "      <td>3</td>\n",
       "    </tr>\n",
       "    <tr>\n",
       "      <th>3</th>\n",
       "      <td>Warm</td>\n",
       "      <td>Blue</td>\n",
       "      <td>0</td>\n",
       "      <td>4</td>\n",
       "    </tr>\n",
       "    <tr>\n",
       "      <th>4</th>\n",
       "      <td>Hot</td>\n",
       "      <td>Red</td>\n",
       "      <td>1</td>\n",
       "      <td>1</td>\n",
       "    </tr>\n",
       "    <tr>\n",
       "      <th>5</th>\n",
       "      <td>Warm</td>\n",
       "      <td>Blue</td>\n",
       "      <td>0</td>\n",
       "      <td>4</td>\n",
       "    </tr>\n",
       "    <tr>\n",
       "      <th>6</th>\n",
       "      <td>Warm</td>\n",
       "      <td>Blue</td>\n",
       "      <td>1</td>\n",
       "      <td>4</td>\n",
       "    </tr>\n",
       "    <tr>\n",
       "      <th>7</th>\n",
       "      <td>Hot</td>\n",
       "      <td>Yellow</td>\n",
       "      <td>0</td>\n",
       "      <td>1</td>\n",
       "    </tr>\n",
       "    <tr>\n",
       "      <th>8</th>\n",
       "      <td>Hot</td>\n",
       "      <td>Red</td>\n",
       "      <td>1</td>\n",
       "      <td>1</td>\n",
       "    </tr>\n",
       "    <tr>\n",
       "      <th>9</th>\n",
       "      <td>Cold</td>\n",
       "      <td>Yellow</td>\n",
       "      <td>1</td>\n",
       "      <td>2</td>\n",
       "    </tr>\n",
       "  </tbody>\n",
       "</table>\n",
       "</div>"
      ],
      "text/plain": [
       "  Temperature   Color  Target  Temp_label_enc\n",
       "0         Hot     Red       1               1\n",
       "1        Cold  Yellow       1               2\n",
       "2    Very Hot  Yellow       1               3\n",
       "3        Warm    Blue       0               4\n",
       "4         Hot     Red       1               1\n",
       "5        Warm    Blue       0               4\n",
       "6        Warm    Blue       1               4\n",
       "7         Hot  Yellow       0               1\n",
       "8         Hot     Red       1               1\n",
       "9        Cold  Yellow       1               2"
      ]
     },
     "execution_count": 97,
     "metadata": {},
     "output_type": "execute_result"
    }
   ],
   "source": [
    "labels = dict(zip(df['Temperature'].unique(), range(1, df['Temperature'].nunique()+1)))\n",
    "\n",
    "df_label_enc = df.copy()\n",
    "df_label_enc['Temp_label_enc'] = df['Temperature'].map(labels)\n",
    "\n",
    "df_label_enc"
   ]
  },
  {
   "cell_type": "markdown",
   "id": "3566f48b",
   "metadata": {},
   "source": [
    "#### Using Sklearn Label Encoding"
   ]
  },
  {
   "cell_type": "code",
   "execution_count": 43,
   "id": "cc1d6938",
   "metadata": {},
   "outputs": [
    {
     "data": {
      "text/html": [
       "<div>\n",
       "<style scoped>\n",
       "    .dataframe tbody tr th:only-of-type {\n",
       "        vertical-align: middle;\n",
       "    }\n",
       "\n",
       "    .dataframe tbody tr th {\n",
       "        vertical-align: top;\n",
       "    }\n",
       "\n",
       "    .dataframe thead th {\n",
       "        text-align: right;\n",
       "    }\n",
       "</style>\n",
       "<table border=\"1\" class=\"dataframe\">\n",
       "  <thead>\n",
       "    <tr style=\"text-align: right;\">\n",
       "      <th></th>\n",
       "      <th>Temperature</th>\n",
       "      <th>Color</th>\n",
       "      <th>Target</th>\n",
       "      <th>Temp_label_encoded</th>\n",
       "    </tr>\n",
       "  </thead>\n",
       "  <tbody>\n",
       "    <tr>\n",
       "      <th>0</th>\n",
       "      <td>Hot</td>\n",
       "      <td>Red</td>\n",
       "      <td>1</td>\n",
       "      <td>1</td>\n",
       "    </tr>\n",
       "    <tr>\n",
       "      <th>1</th>\n",
       "      <td>Cold</td>\n",
       "      <td>Yellow</td>\n",
       "      <td>1</td>\n",
       "      <td>0</td>\n",
       "    </tr>\n",
       "    <tr>\n",
       "      <th>2</th>\n",
       "      <td>Very Hot</td>\n",
       "      <td>Yellow</td>\n",
       "      <td>1</td>\n",
       "      <td>2</td>\n",
       "    </tr>\n",
       "    <tr>\n",
       "      <th>3</th>\n",
       "      <td>Warm</td>\n",
       "      <td>Blue</td>\n",
       "      <td>0</td>\n",
       "      <td>3</td>\n",
       "    </tr>\n",
       "    <tr>\n",
       "      <th>4</th>\n",
       "      <td>Hot</td>\n",
       "      <td>Red</td>\n",
       "      <td>1</td>\n",
       "      <td>1</td>\n",
       "    </tr>\n",
       "    <tr>\n",
       "      <th>5</th>\n",
       "      <td>Warm</td>\n",
       "      <td>Blue</td>\n",
       "      <td>0</td>\n",
       "      <td>3</td>\n",
       "    </tr>\n",
       "    <tr>\n",
       "      <th>6</th>\n",
       "      <td>Warm</td>\n",
       "      <td>Blue</td>\n",
       "      <td>1</td>\n",
       "      <td>3</td>\n",
       "    </tr>\n",
       "    <tr>\n",
       "      <th>7</th>\n",
       "      <td>Hot</td>\n",
       "      <td>Yellow</td>\n",
       "      <td>0</td>\n",
       "      <td>1</td>\n",
       "    </tr>\n",
       "    <tr>\n",
       "      <th>8</th>\n",
       "      <td>Hot</td>\n",
       "      <td>Red</td>\n",
       "      <td>1</td>\n",
       "      <td>1</td>\n",
       "    </tr>\n",
       "    <tr>\n",
       "      <th>9</th>\n",
       "      <td>Cold</td>\n",
       "      <td>Yellow</td>\n",
       "      <td>1</td>\n",
       "      <td>0</td>\n",
       "    </tr>\n",
       "  </tbody>\n",
       "</table>\n",
       "</div>"
      ],
      "text/plain": [
       "  Temperature   Color  Target  Temp_label_encoded\n",
       "0         Hot     Red       1                   1\n",
       "1        Cold  Yellow       1                   0\n",
       "2    Very Hot  Yellow       1                   2\n",
       "3        Warm    Blue       0                   3\n",
       "4         Hot     Red       1                   1\n",
       "5        Warm    Blue       0                   3\n",
       "6        Warm    Blue       1                   3\n",
       "7         Hot  Yellow       0                   1\n",
       "8         Hot     Red       1                   1\n",
       "9        Cold  Yellow       1                   0"
      ]
     },
     "execution_count": 43,
     "metadata": {},
     "output_type": "execute_result"
    }
   ],
   "source": [
    "from sklearn.preprocessing import LabelEncoder\n",
    "\n",
    "df_le = df.copy()\n",
    "df_le['Temp_label_encoded'] = LabelEncoder().fit_transform(df['Temperature'])\n",
    "\n",
    "df_le"
   ]
  },
  {
   "cell_type": "markdown",
   "id": "0b9b63ac",
   "metadata": {},
   "source": [
    "#### Using Pandas Factorize"
   ]
  },
  {
   "cell_type": "code",
   "execution_count": 44,
   "id": "7efec04c",
   "metadata": {},
   "outputs": [
    {
     "data": {
      "text/html": [
       "<div>\n",
       "<style scoped>\n",
       "    .dataframe tbody tr th:only-of-type {\n",
       "        vertical-align: middle;\n",
       "    }\n",
       "\n",
       "    .dataframe tbody tr th {\n",
       "        vertical-align: top;\n",
       "    }\n",
       "\n",
       "    .dataframe thead th {\n",
       "        text-align: right;\n",
       "    }\n",
       "</style>\n",
       "<table border=\"1\" class=\"dataframe\">\n",
       "  <thead>\n",
       "    <tr style=\"text-align: right;\">\n",
       "      <th></th>\n",
       "      <th>Temperature</th>\n",
       "      <th>Color</th>\n",
       "      <th>Target</th>\n",
       "      <th>Temp_label_encoded</th>\n",
       "      <th>Temp_factorize_encoded</th>\n",
       "    </tr>\n",
       "  </thead>\n",
       "  <tbody>\n",
       "    <tr>\n",
       "      <th>0</th>\n",
       "      <td>Hot</td>\n",
       "      <td>Red</td>\n",
       "      <td>1</td>\n",
       "      <td>1</td>\n",
       "      <td>0</td>\n",
       "    </tr>\n",
       "    <tr>\n",
       "      <th>1</th>\n",
       "      <td>Cold</td>\n",
       "      <td>Yellow</td>\n",
       "      <td>1</td>\n",
       "      <td>0</td>\n",
       "      <td>1</td>\n",
       "    </tr>\n",
       "    <tr>\n",
       "      <th>2</th>\n",
       "      <td>Very Hot</td>\n",
       "      <td>Yellow</td>\n",
       "      <td>1</td>\n",
       "      <td>2</td>\n",
       "      <td>2</td>\n",
       "    </tr>\n",
       "    <tr>\n",
       "      <th>3</th>\n",
       "      <td>Warm</td>\n",
       "      <td>Blue</td>\n",
       "      <td>0</td>\n",
       "      <td>3</td>\n",
       "      <td>3</td>\n",
       "    </tr>\n",
       "    <tr>\n",
       "      <th>4</th>\n",
       "      <td>Hot</td>\n",
       "      <td>Red</td>\n",
       "      <td>1</td>\n",
       "      <td>1</td>\n",
       "      <td>0</td>\n",
       "    </tr>\n",
       "    <tr>\n",
       "      <th>5</th>\n",
       "      <td>Warm</td>\n",
       "      <td>Blue</td>\n",
       "      <td>0</td>\n",
       "      <td>3</td>\n",
       "      <td>3</td>\n",
       "    </tr>\n",
       "    <tr>\n",
       "      <th>6</th>\n",
       "      <td>Warm</td>\n",
       "      <td>Blue</td>\n",
       "      <td>1</td>\n",
       "      <td>3</td>\n",
       "      <td>3</td>\n",
       "    </tr>\n",
       "    <tr>\n",
       "      <th>7</th>\n",
       "      <td>Hot</td>\n",
       "      <td>Yellow</td>\n",
       "      <td>0</td>\n",
       "      <td>1</td>\n",
       "      <td>0</td>\n",
       "    </tr>\n",
       "    <tr>\n",
       "      <th>8</th>\n",
       "      <td>Hot</td>\n",
       "      <td>Red</td>\n",
       "      <td>1</td>\n",
       "      <td>1</td>\n",
       "      <td>0</td>\n",
       "    </tr>\n",
       "    <tr>\n",
       "      <th>9</th>\n",
       "      <td>Cold</td>\n",
       "      <td>Yellow</td>\n",
       "      <td>1</td>\n",
       "      <td>0</td>\n",
       "      <td>1</td>\n",
       "    </tr>\n",
       "  </tbody>\n",
       "</table>\n",
       "</div>"
      ],
      "text/plain": [
       "  Temperature   Color  Target  Temp_label_encoded  Temp_factorize_encoded\n",
       "0         Hot     Red       1                   1                       0\n",
       "1        Cold  Yellow       1                   0                       1\n",
       "2    Very Hot  Yellow       1                   2                       2\n",
       "3        Warm    Blue       0                   3                       3\n",
       "4         Hot     Red       1                   1                       0\n",
       "5        Warm    Blue       0                   3                       3\n",
       "6        Warm    Blue       1                   3                       3\n",
       "7         Hot  Yellow       0                   1                       0\n",
       "8         Hot     Red       1                   1                       0\n",
       "9        Cold  Yellow       1                   0                       1"
      ]
     },
     "execution_count": 44,
     "metadata": {},
     "output_type": "execute_result"
    }
   ],
   "source": [
    "df_le[\"Temp_factorize_encoded\"] = pd.factorize(df[\"Temperature\"])[0].reshape(-1, 1)\n",
    "\n",
    "df_le"
   ]
  },
  {
   "cell_type": "markdown",
   "id": "f590ddc4",
   "metadata": {},
   "source": [
    "### Integer Encoding/Ordinal Encoding"
   ]
  },
  {
   "cell_type": "markdown",
   "id": "fc1b12e0",
   "metadata": {},
   "source": [
    "- Similar to Label Encoding, but there is some order in the categorical values.\n",
    "- This does NOT mean that all the values that can be arranged in a sequential order are ordinal.\n",
    "- If you can rank the items based on some scale, It can be called as Ordinal.\n",
    "\n",
    "Example: If you are calculating sales data and you have weekdays column. We know that We can order the days from Monday to Sunday, if we assign 1 to Monday and so on till 7 to Sunday. Our algorithm will consider Monday<Tues<Wed...<Sun. But, this is doesn't make any sense if you consider only this column.\n",
    "    \n",
    "If we consider temperature, we can sort the values from cold<warm<hot<very_hot, this perfectly makes sense considering this column alone.\n",
    "    \n",
    "Thus, all the values in any kind of sequences CANNOT become ordinal."
   ]
  },
  {
   "cell_type": "code",
   "execution_count": 45,
   "id": "5779ac4c",
   "metadata": {},
   "outputs": [
    {
     "data": {
      "text/html": [
       "<div>\n",
       "<style scoped>\n",
       "    .dataframe tbody tr th:only-of-type {\n",
       "        vertical-align: middle;\n",
       "    }\n",
       "\n",
       "    .dataframe tbody tr th {\n",
       "        vertical-align: top;\n",
       "    }\n",
       "\n",
       "    .dataframe thead th {\n",
       "        text-align: right;\n",
       "    }\n",
       "</style>\n",
       "<table border=\"1\" class=\"dataframe\">\n",
       "  <thead>\n",
       "    <tr style=\"text-align: right;\">\n",
       "      <th></th>\n",
       "      <th>Temperature</th>\n",
       "      <th>Color</th>\n",
       "      <th>Target</th>\n",
       "      <th>Temp_ordinal_encoded</th>\n",
       "    </tr>\n",
       "  </thead>\n",
       "  <tbody>\n",
       "    <tr>\n",
       "      <th>0</th>\n",
       "      <td>Hot</td>\n",
       "      <td>Red</td>\n",
       "      <td>1</td>\n",
       "      <td>3</td>\n",
       "    </tr>\n",
       "    <tr>\n",
       "      <th>1</th>\n",
       "      <td>Cold</td>\n",
       "      <td>Yellow</td>\n",
       "      <td>1</td>\n",
       "      <td>1</td>\n",
       "    </tr>\n",
       "    <tr>\n",
       "      <th>2</th>\n",
       "      <td>Very Hot</td>\n",
       "      <td>Yellow</td>\n",
       "      <td>1</td>\n",
       "      <td>4</td>\n",
       "    </tr>\n",
       "    <tr>\n",
       "      <th>3</th>\n",
       "      <td>Warm</td>\n",
       "      <td>Blue</td>\n",
       "      <td>0</td>\n",
       "      <td>2</td>\n",
       "    </tr>\n",
       "    <tr>\n",
       "      <th>4</th>\n",
       "      <td>Hot</td>\n",
       "      <td>Red</td>\n",
       "      <td>1</td>\n",
       "      <td>3</td>\n",
       "    </tr>\n",
       "    <tr>\n",
       "      <th>5</th>\n",
       "      <td>Warm</td>\n",
       "      <td>Blue</td>\n",
       "      <td>0</td>\n",
       "      <td>2</td>\n",
       "    </tr>\n",
       "    <tr>\n",
       "      <th>6</th>\n",
       "      <td>Warm</td>\n",
       "      <td>Blue</td>\n",
       "      <td>1</td>\n",
       "      <td>2</td>\n",
       "    </tr>\n",
       "    <tr>\n",
       "      <th>7</th>\n",
       "      <td>Hot</td>\n",
       "      <td>Yellow</td>\n",
       "      <td>0</td>\n",
       "      <td>3</td>\n",
       "    </tr>\n",
       "    <tr>\n",
       "      <th>8</th>\n",
       "      <td>Hot</td>\n",
       "      <td>Red</td>\n",
       "      <td>1</td>\n",
       "      <td>3</td>\n",
       "    </tr>\n",
       "    <tr>\n",
       "      <th>9</th>\n",
       "      <td>Cold</td>\n",
       "      <td>Yellow</td>\n",
       "      <td>1</td>\n",
       "      <td>1</td>\n",
       "    </tr>\n",
       "  </tbody>\n",
       "</table>\n",
       "</div>"
      ],
      "text/plain": [
       "  Temperature   Color  Target  Temp_ordinal_encoded\n",
       "0         Hot     Red       1                     3\n",
       "1        Cold  Yellow       1                     1\n",
       "2    Very Hot  Yellow       1                     4\n",
       "3        Warm    Blue       0                     2\n",
       "4         Hot     Red       1                     3\n",
       "5        Warm    Blue       0                     2\n",
       "6        Warm    Blue       1                     2\n",
       "7         Hot  Yellow       0                     3\n",
       "8         Hot     Red       1                     3\n",
       "9        Cold  Yellow       1                     1"
      ]
     },
     "execution_count": 45,
     "metadata": {},
     "output_type": "execute_result"
    }
   ],
   "source": [
    "Temp_dict = {\n",
    "    'Cold' : 1,\n",
    "    'Warm' : 2,\n",
    "    'Hot' : 3,\n",
    "    'Very Hot' : 4\n",
    "    }\n",
    "\n",
    "df_oe = df.copy()\n",
    "df_oe['Temp_ordinal_encoded'] = df['Temperature'].map(Temp_dict)\n",
    "\n",
    "df_oe"
   ]
  },
  {
   "cell_type": "markdown",
   "id": "b92a2a7d",
   "metadata": {},
   "source": [
    "### Helmert Encoding"
   ]
  },
  {
   "cell_type": "markdown",
   "id": "6299547d",
   "metadata": {},
   "source": [
    "In Helmert encoding, the mean of the dependent variable for a level is compared to the mean of the dependent variable over all previous levels."
   ]
  },
  {
   "cell_type": "code",
   "execution_count": 46,
   "id": "6dab60ed",
   "metadata": {},
   "outputs": [
    {
     "data": {
      "text/html": [
       "<div>\n",
       "<style scoped>\n",
       "    .dataframe tbody tr th:only-of-type {\n",
       "        vertical-align: middle;\n",
       "    }\n",
       "\n",
       "    .dataframe tbody tr th {\n",
       "        vertical-align: top;\n",
       "    }\n",
       "\n",
       "    .dataframe thead th {\n",
       "        text-align: right;\n",
       "    }\n",
       "</style>\n",
       "<table border=\"1\" class=\"dataframe\">\n",
       "  <thead>\n",
       "    <tr style=\"text-align: right;\">\n",
       "      <th></th>\n",
       "      <th>Temperature</th>\n",
       "      <th>Color</th>\n",
       "      <th>Target</th>\n",
       "      <th>Temperature_0</th>\n",
       "      <th>Temperature_1</th>\n",
       "      <th>Temperature_2</th>\n",
       "    </tr>\n",
       "  </thead>\n",
       "  <tbody>\n",
       "    <tr>\n",
       "      <th>0</th>\n",
       "      <td>Hot</td>\n",
       "      <td>Red</td>\n",
       "      <td>1</td>\n",
       "      <td>-1.0</td>\n",
       "      <td>-1.0</td>\n",
       "      <td>-1.0</td>\n",
       "    </tr>\n",
       "    <tr>\n",
       "      <th>1</th>\n",
       "      <td>Cold</td>\n",
       "      <td>Yellow</td>\n",
       "      <td>1</td>\n",
       "      <td>1.0</td>\n",
       "      <td>-1.0</td>\n",
       "      <td>-1.0</td>\n",
       "    </tr>\n",
       "    <tr>\n",
       "      <th>2</th>\n",
       "      <td>Very Hot</td>\n",
       "      <td>Yellow</td>\n",
       "      <td>1</td>\n",
       "      <td>0.0</td>\n",
       "      <td>2.0</td>\n",
       "      <td>-1.0</td>\n",
       "    </tr>\n",
       "    <tr>\n",
       "      <th>3</th>\n",
       "      <td>Warm</td>\n",
       "      <td>Blue</td>\n",
       "      <td>0</td>\n",
       "      <td>0.0</td>\n",
       "      <td>0.0</td>\n",
       "      <td>3.0</td>\n",
       "    </tr>\n",
       "    <tr>\n",
       "      <th>4</th>\n",
       "      <td>Hot</td>\n",
       "      <td>Red</td>\n",
       "      <td>1</td>\n",
       "      <td>-1.0</td>\n",
       "      <td>-1.0</td>\n",
       "      <td>-1.0</td>\n",
       "    </tr>\n",
       "    <tr>\n",
       "      <th>5</th>\n",
       "      <td>Warm</td>\n",
       "      <td>Blue</td>\n",
       "      <td>0</td>\n",
       "      <td>0.0</td>\n",
       "      <td>0.0</td>\n",
       "      <td>3.0</td>\n",
       "    </tr>\n",
       "    <tr>\n",
       "      <th>6</th>\n",
       "      <td>Warm</td>\n",
       "      <td>Blue</td>\n",
       "      <td>1</td>\n",
       "      <td>0.0</td>\n",
       "      <td>0.0</td>\n",
       "      <td>3.0</td>\n",
       "    </tr>\n",
       "    <tr>\n",
       "      <th>7</th>\n",
       "      <td>Hot</td>\n",
       "      <td>Yellow</td>\n",
       "      <td>0</td>\n",
       "      <td>-1.0</td>\n",
       "      <td>-1.0</td>\n",
       "      <td>-1.0</td>\n",
       "    </tr>\n",
       "    <tr>\n",
       "      <th>8</th>\n",
       "      <td>Hot</td>\n",
       "      <td>Red</td>\n",
       "      <td>1</td>\n",
       "      <td>-1.0</td>\n",
       "      <td>-1.0</td>\n",
       "      <td>-1.0</td>\n",
       "    </tr>\n",
       "    <tr>\n",
       "      <th>9</th>\n",
       "      <td>Cold</td>\n",
       "      <td>Yellow</td>\n",
       "      <td>1</td>\n",
       "      <td>1.0</td>\n",
       "      <td>-1.0</td>\n",
       "      <td>-1.0</td>\n",
       "    </tr>\n",
       "  </tbody>\n",
       "</table>\n",
       "</div>"
      ],
      "text/plain": [
       "  Temperature   Color  Target  Temperature_0  Temperature_1  Temperature_2\n",
       "0         Hot     Red       1           -1.0           -1.0           -1.0\n",
       "1        Cold  Yellow       1            1.0           -1.0           -1.0\n",
       "2    Very Hot  Yellow       1            0.0            2.0           -1.0\n",
       "3        Warm    Blue       0            0.0            0.0            3.0\n",
       "4         Hot     Red       1           -1.0           -1.0           -1.0\n",
       "5        Warm    Blue       0            0.0            0.0            3.0\n",
       "6        Warm    Blue       1            0.0            0.0            3.0\n",
       "7         Hot  Yellow       0           -1.0           -1.0           -1.0\n",
       "8         Hot     Red       1           -1.0           -1.0           -1.0\n",
       "9        Cold  Yellow       1            1.0           -1.0           -1.0"
      ]
     },
     "execution_count": 46,
     "metadata": {},
     "output_type": "execute_result"
    }
   ],
   "source": [
    "import category_encoders as ce\n",
    "\n",
    "encoder = ce.HelmertEncoder(cols=['Temperature'], drop_invariant=True)\n",
    "dfh = encoder.fit_transform(df['Temperature'])\n",
    "dfhe = pd.concat([df, dfh], axis=1)\n",
    "dfhe"
   ]
  },
  {
   "cell_type": "markdown",
   "id": "5efdd5ad",
   "metadata": {},
   "source": [
    "### Binary Encoding"
   ]
  },
  {
   "cell_type": "markdown",
   "id": "1bc83e09",
   "metadata": {},
   "source": [
    "First, do label encoding for the categorical column and them covert those numbers into binary digits, then each binary digit creates one feature column."
   ]
  },
  {
   "cell_type": "markdown",
   "id": "0a9de415",
   "metadata": {},
   "source": [
    "#### Manual way of Binary Encoding"
   ]
  },
  {
   "cell_type": "markdown",
   "id": "5ade9350",
   "metadata": {},
   "source": [
    "<a href=\"https://ibb.co/YTfJ2HV\"><img src=\"https://i.ibb.co/h12rs3T/binary-encoder.png\" alt=\"binary-encoder\" border=\"0\"></a>"
   ]
  },
  {
   "cell_type": "code",
   "execution_count": 96,
   "id": "5d7c14c2",
   "metadata": {},
   "outputs": [
    {
     "data": {
      "text/html": [
       "<div>\n",
       "<style scoped>\n",
       "    .dataframe tbody tr th:only-of-type {\n",
       "        vertical-align: middle;\n",
       "    }\n",
       "\n",
       "    .dataframe tbody tr th {\n",
       "        vertical-align: top;\n",
       "    }\n",
       "\n",
       "    .dataframe thead th {\n",
       "        text-align: right;\n",
       "    }\n",
       "</style>\n",
       "<table border=\"1\" class=\"dataframe\">\n",
       "  <thead>\n",
       "    <tr style=\"text-align: right;\">\n",
       "      <th></th>\n",
       "      <th>Temperature</th>\n",
       "      <th>Color</th>\n",
       "      <th>Target</th>\n",
       "      <th>Temp_label_enc</th>\n",
       "    </tr>\n",
       "  </thead>\n",
       "  <tbody>\n",
       "    <tr>\n",
       "      <th>0</th>\n",
       "      <td>Hot</td>\n",
       "      <td>Red</td>\n",
       "      <td>1</td>\n",
       "      <td>1</td>\n",
       "    </tr>\n",
       "    <tr>\n",
       "      <th>1</th>\n",
       "      <td>Cold</td>\n",
       "      <td>Yellow</td>\n",
       "      <td>1</td>\n",
       "      <td>2</td>\n",
       "    </tr>\n",
       "    <tr>\n",
       "      <th>2</th>\n",
       "      <td>Very Hot</td>\n",
       "      <td>Yellow</td>\n",
       "      <td>1</td>\n",
       "      <td>3</td>\n",
       "    </tr>\n",
       "    <tr>\n",
       "      <th>3</th>\n",
       "      <td>Warm</td>\n",
       "      <td>Blue</td>\n",
       "      <td>0</td>\n",
       "      <td>4</td>\n",
       "    </tr>\n",
       "    <tr>\n",
       "      <th>4</th>\n",
       "      <td>Hot</td>\n",
       "      <td>Red</td>\n",
       "      <td>1</td>\n",
       "      <td>1</td>\n",
       "    </tr>\n",
       "    <tr>\n",
       "      <th>5</th>\n",
       "      <td>Warm</td>\n",
       "      <td>Blue</td>\n",
       "      <td>0</td>\n",
       "      <td>4</td>\n",
       "    </tr>\n",
       "    <tr>\n",
       "      <th>6</th>\n",
       "      <td>Warm</td>\n",
       "      <td>Blue</td>\n",
       "      <td>1</td>\n",
       "      <td>4</td>\n",
       "    </tr>\n",
       "    <tr>\n",
       "      <th>7</th>\n",
       "      <td>Hot</td>\n",
       "      <td>Yellow</td>\n",
       "      <td>0</td>\n",
       "      <td>1</td>\n",
       "    </tr>\n",
       "    <tr>\n",
       "      <th>8</th>\n",
       "      <td>Hot</td>\n",
       "      <td>Red</td>\n",
       "      <td>1</td>\n",
       "      <td>1</td>\n",
       "    </tr>\n",
       "    <tr>\n",
       "      <th>9</th>\n",
       "      <td>Cold</td>\n",
       "      <td>Yellow</td>\n",
       "      <td>1</td>\n",
       "      <td>2</td>\n",
       "    </tr>\n",
       "  </tbody>\n",
       "</table>\n",
       "</div>"
      ],
      "text/plain": [
       "  Temperature   Color  Target  Temp_label_enc\n",
       "0         Hot     Red       1               1\n",
       "1        Cold  Yellow       1               2\n",
       "2    Very Hot  Yellow       1               3\n",
       "3        Warm    Blue       0               4\n",
       "4         Hot     Red       1               1\n",
       "5        Warm    Blue       0               4\n",
       "6        Warm    Blue       1               4\n",
       "7         Hot  Yellow       0               1\n",
       "8         Hot     Red       1               1\n",
       "9        Cold  Yellow       1               2"
      ]
     },
     "execution_count": 96,
     "metadata": {},
     "output_type": "execute_result"
    }
   ],
   "source": [
    "# Take the process from label encoding\n",
    "\n",
    "labels = dict(zip(df['Temperature'].unique(), range(1, df['Temperature'].nunique()+1)))\n",
    "\n",
    "df_label_enc = df.copy()\n",
    "df_label_enc['Temp_label_enc'] = df['Temperature'].map(labels)\n",
    "\n",
    "df_label_enc"
   ]
  },
  {
   "cell_type": "code",
   "execution_count": 98,
   "id": "65a0c461",
   "metadata": {},
   "outputs": [],
   "source": [
    "def decimal_to_binary(val):\n",
    "    binary_value = ''\n",
    "    while val:\n",
    "        binary_value += str(val%2)\n",
    "        val = val//2\n",
    "    return binary_value[::-1]"
   ]
  },
  {
   "cell_type": "code",
   "execution_count": 105,
   "id": "e588a281",
   "metadata": {
    "scrolled": true
   },
   "outputs": [
    {
     "data": {
      "text/html": [
       "<div>\n",
       "<style scoped>\n",
       "    .dataframe tbody tr th:only-of-type {\n",
       "        vertical-align: middle;\n",
       "    }\n",
       "\n",
       "    .dataframe tbody tr th {\n",
       "        vertical-align: top;\n",
       "    }\n",
       "\n",
       "    .dataframe thead th {\n",
       "        text-align: right;\n",
       "    }\n",
       "</style>\n",
       "<table border=\"1\" class=\"dataframe\">\n",
       "  <thead>\n",
       "    <tr style=\"text-align: right;\">\n",
       "      <th></th>\n",
       "      <th>Temperature</th>\n",
       "      <th>Color</th>\n",
       "      <th>Target</th>\n",
       "      <th>Temp_label_enc</th>\n",
       "      <th>binary</th>\n",
       "    </tr>\n",
       "  </thead>\n",
       "  <tbody>\n",
       "    <tr>\n",
       "      <th>0</th>\n",
       "      <td>Hot</td>\n",
       "      <td>Red</td>\n",
       "      <td>1</td>\n",
       "      <td>1</td>\n",
       "      <td>1</td>\n",
       "    </tr>\n",
       "    <tr>\n",
       "      <th>1</th>\n",
       "      <td>Cold</td>\n",
       "      <td>Yellow</td>\n",
       "      <td>1</td>\n",
       "      <td>2</td>\n",
       "      <td>10</td>\n",
       "    </tr>\n",
       "    <tr>\n",
       "      <th>2</th>\n",
       "      <td>Very Hot</td>\n",
       "      <td>Yellow</td>\n",
       "      <td>1</td>\n",
       "      <td>3</td>\n",
       "      <td>11</td>\n",
       "    </tr>\n",
       "    <tr>\n",
       "      <th>3</th>\n",
       "      <td>Warm</td>\n",
       "      <td>Blue</td>\n",
       "      <td>0</td>\n",
       "      <td>4</td>\n",
       "      <td>100</td>\n",
       "    </tr>\n",
       "    <tr>\n",
       "      <th>4</th>\n",
       "      <td>Hot</td>\n",
       "      <td>Red</td>\n",
       "      <td>1</td>\n",
       "      <td>1</td>\n",
       "      <td>1</td>\n",
       "    </tr>\n",
       "    <tr>\n",
       "      <th>5</th>\n",
       "      <td>Warm</td>\n",
       "      <td>Blue</td>\n",
       "      <td>0</td>\n",
       "      <td>4</td>\n",
       "      <td>100</td>\n",
       "    </tr>\n",
       "    <tr>\n",
       "      <th>6</th>\n",
       "      <td>Warm</td>\n",
       "      <td>Blue</td>\n",
       "      <td>1</td>\n",
       "      <td>4</td>\n",
       "      <td>100</td>\n",
       "    </tr>\n",
       "    <tr>\n",
       "      <th>7</th>\n",
       "      <td>Hot</td>\n",
       "      <td>Yellow</td>\n",
       "      <td>0</td>\n",
       "      <td>1</td>\n",
       "      <td>1</td>\n",
       "    </tr>\n",
       "    <tr>\n",
       "      <th>8</th>\n",
       "      <td>Hot</td>\n",
       "      <td>Red</td>\n",
       "      <td>1</td>\n",
       "      <td>1</td>\n",
       "      <td>1</td>\n",
       "    </tr>\n",
       "    <tr>\n",
       "      <th>9</th>\n",
       "      <td>Cold</td>\n",
       "      <td>Yellow</td>\n",
       "      <td>1</td>\n",
       "      <td>2</td>\n",
       "      <td>10</td>\n",
       "    </tr>\n",
       "  </tbody>\n",
       "</table>\n",
       "</div>"
      ],
      "text/plain": [
       "  Temperature   Color  Target  Temp_label_enc binary\n",
       "0         Hot     Red       1               1      1\n",
       "1        Cold  Yellow       1               2     10\n",
       "2    Very Hot  Yellow       1               3     11\n",
       "3        Warm    Blue       0               4    100\n",
       "4         Hot     Red       1               1      1\n",
       "5        Warm    Blue       0               4    100\n",
       "6        Warm    Blue       1               4    100\n",
       "7         Hot  Yellow       0               1      1\n",
       "8         Hot     Red       1               1      1\n",
       "9        Cold  Yellow       1               2     10"
      ]
     },
     "execution_count": 105,
     "metadata": {},
     "output_type": "execute_result"
    }
   ],
   "source": [
    "df_label_enc['binary'] = df_label_enc['Temp_label_enc'].apply(lambda x: decimal_to_binary(x))\n",
    "df_label_enc"
   ]
  },
  {
   "cell_type": "code",
   "execution_count": 106,
   "id": "e250bee7",
   "metadata": {},
   "outputs": [],
   "source": [
    "# To match the length of all the values\n",
    "def match_len(value, max_length):\n",
    "    if len(value)<max_length:\n",
    "        diff = max_length - len(value)\n",
    "        filler = diff*'0'\n",
    "        return filler+value\n",
    "    else:\n",
    "        return value\n",
    "    \n",
    "max_len = df_label_enc['binary'].apply(lambda x: len(x)).max()\n",
    "\n",
    "df_label_enc['binary'] = df_label_enc['binary'].apply(lambda x: match_len(x, max_len))"
   ]
  },
  {
   "cell_type": "code",
   "execution_count": 124,
   "id": "2c218bf1",
   "metadata": {},
   "outputs": [
    {
     "data": {
      "text/html": [
       "<div>\n",
       "<style scoped>\n",
       "    .dataframe tbody tr th:only-of-type {\n",
       "        vertical-align: middle;\n",
       "    }\n",
       "\n",
       "    .dataframe tbody tr th {\n",
       "        vertical-align: top;\n",
       "    }\n",
       "\n",
       "    .dataframe thead th {\n",
       "        text-align: right;\n",
       "    }\n",
       "</style>\n",
       "<table border=\"1\" class=\"dataframe\">\n",
       "  <thead>\n",
       "    <tr style=\"text-align: right;\">\n",
       "      <th></th>\n",
       "      <th>Temperature</th>\n",
       "      <th>Color</th>\n",
       "      <th>Target</th>\n",
       "      <th>Temp_0</th>\n",
       "      <th>Temp_1</th>\n",
       "      <th>Temp_2</th>\n",
       "    </tr>\n",
       "  </thead>\n",
       "  <tbody>\n",
       "    <tr>\n",
       "      <th>0</th>\n",
       "      <td>Hot</td>\n",
       "      <td>Red</td>\n",
       "      <td>1</td>\n",
       "      <td>0</td>\n",
       "      <td>0</td>\n",
       "      <td>1</td>\n",
       "    </tr>\n",
       "    <tr>\n",
       "      <th>1</th>\n",
       "      <td>Cold</td>\n",
       "      <td>Yellow</td>\n",
       "      <td>1</td>\n",
       "      <td>0</td>\n",
       "      <td>1</td>\n",
       "      <td>0</td>\n",
       "    </tr>\n",
       "    <tr>\n",
       "      <th>2</th>\n",
       "      <td>Very Hot</td>\n",
       "      <td>Yellow</td>\n",
       "      <td>1</td>\n",
       "      <td>0</td>\n",
       "      <td>1</td>\n",
       "      <td>1</td>\n",
       "    </tr>\n",
       "    <tr>\n",
       "      <th>3</th>\n",
       "      <td>Warm</td>\n",
       "      <td>Blue</td>\n",
       "      <td>0</td>\n",
       "      <td>1</td>\n",
       "      <td>0</td>\n",
       "      <td>0</td>\n",
       "    </tr>\n",
       "    <tr>\n",
       "      <th>4</th>\n",
       "      <td>Hot</td>\n",
       "      <td>Red</td>\n",
       "      <td>1</td>\n",
       "      <td>0</td>\n",
       "      <td>0</td>\n",
       "      <td>1</td>\n",
       "    </tr>\n",
       "    <tr>\n",
       "      <th>5</th>\n",
       "      <td>Warm</td>\n",
       "      <td>Blue</td>\n",
       "      <td>0</td>\n",
       "      <td>1</td>\n",
       "      <td>0</td>\n",
       "      <td>0</td>\n",
       "    </tr>\n",
       "    <tr>\n",
       "      <th>6</th>\n",
       "      <td>Warm</td>\n",
       "      <td>Blue</td>\n",
       "      <td>1</td>\n",
       "      <td>1</td>\n",
       "      <td>0</td>\n",
       "      <td>0</td>\n",
       "    </tr>\n",
       "    <tr>\n",
       "      <th>7</th>\n",
       "      <td>Hot</td>\n",
       "      <td>Yellow</td>\n",
       "      <td>0</td>\n",
       "      <td>0</td>\n",
       "      <td>0</td>\n",
       "      <td>1</td>\n",
       "    </tr>\n",
       "    <tr>\n",
       "      <th>8</th>\n",
       "      <td>Hot</td>\n",
       "      <td>Red</td>\n",
       "      <td>1</td>\n",
       "      <td>0</td>\n",
       "      <td>0</td>\n",
       "      <td>1</td>\n",
       "    </tr>\n",
       "    <tr>\n",
       "      <th>9</th>\n",
       "      <td>Cold</td>\n",
       "      <td>Yellow</td>\n",
       "      <td>1</td>\n",
       "      <td>0</td>\n",
       "      <td>1</td>\n",
       "      <td>0</td>\n",
       "    </tr>\n",
       "  </tbody>\n",
       "</table>\n",
       "</div>"
      ],
      "text/plain": [
       "  Temperature   Color  Target Temp_0 Temp_1 Temp_2\n",
       "0         Hot     Red       1      0      0      1\n",
       "1        Cold  Yellow       1      0      1      0\n",
       "2    Very Hot  Yellow       1      0      1      1\n",
       "3        Warm    Blue       0      1      0      0\n",
       "4         Hot     Red       1      0      0      1\n",
       "5        Warm    Blue       0      1      0      0\n",
       "6        Warm    Blue       1      1      0      0\n",
       "7         Hot  Yellow       0      0      0      1\n",
       "8         Hot     Red       1      0      0      1\n",
       "9        Cold  Yellow       1      0      1      0"
      ]
     },
     "execution_count": 124,
     "metadata": {},
     "output_type": "execute_result"
    }
   ],
   "source": [
    "binary_enc = dict()\n",
    "\n",
    "columns = [\"Temp_\"+str(i) for i in range(max_len)]\n",
    "\n",
    "for i in range(max_len):\n",
    "    binary_enc[columns[i]]=df_label_enc['binary'].apply(lambda x: x[i])\n",
    "\n",
    "binary_encoded = pd.DataFrame(data = binary_enc)\n",
    "\n",
    "pd.concat([df, binary_encoded], axis = 1)"
   ]
  },
  {
   "cell_type": "markdown",
   "id": "ac70aabd",
   "metadata": {},
   "source": [
    "#### Using category encoders library"
   ]
  },
  {
   "cell_type": "code",
   "execution_count": 126,
   "id": "ad005860",
   "metadata": {},
   "outputs": [
    {
     "data": {
      "text/html": [
       "<div>\n",
       "<style scoped>\n",
       "    .dataframe tbody tr th:only-of-type {\n",
       "        vertical-align: middle;\n",
       "    }\n",
       "\n",
       "    .dataframe tbody tr th {\n",
       "        vertical-align: top;\n",
       "    }\n",
       "\n",
       "    .dataframe thead th {\n",
       "        text-align: right;\n",
       "    }\n",
       "</style>\n",
       "<table border=\"1\" class=\"dataframe\">\n",
       "  <thead>\n",
       "    <tr style=\"text-align: right;\">\n",
       "      <th></th>\n",
       "      <th>Temperature</th>\n",
       "      <th>Color</th>\n",
       "      <th>Target</th>\n",
       "      <th>Temperature_0</th>\n",
       "      <th>Temperature_1</th>\n",
       "      <th>Temperature_2</th>\n",
       "    </tr>\n",
       "  </thead>\n",
       "  <tbody>\n",
       "    <tr>\n",
       "      <th>0</th>\n",
       "      <td>Hot</td>\n",
       "      <td>Red</td>\n",
       "      <td>1</td>\n",
       "      <td>0</td>\n",
       "      <td>0</td>\n",
       "      <td>1</td>\n",
       "    </tr>\n",
       "    <tr>\n",
       "      <th>1</th>\n",
       "      <td>Cold</td>\n",
       "      <td>Yellow</td>\n",
       "      <td>1</td>\n",
       "      <td>0</td>\n",
       "      <td>1</td>\n",
       "      <td>0</td>\n",
       "    </tr>\n",
       "    <tr>\n",
       "      <th>2</th>\n",
       "      <td>Very Hot</td>\n",
       "      <td>Yellow</td>\n",
       "      <td>1</td>\n",
       "      <td>0</td>\n",
       "      <td>1</td>\n",
       "      <td>1</td>\n",
       "    </tr>\n",
       "    <tr>\n",
       "      <th>3</th>\n",
       "      <td>Warm</td>\n",
       "      <td>Blue</td>\n",
       "      <td>0</td>\n",
       "      <td>1</td>\n",
       "      <td>0</td>\n",
       "      <td>0</td>\n",
       "    </tr>\n",
       "    <tr>\n",
       "      <th>4</th>\n",
       "      <td>Hot</td>\n",
       "      <td>Red</td>\n",
       "      <td>1</td>\n",
       "      <td>0</td>\n",
       "      <td>0</td>\n",
       "      <td>1</td>\n",
       "    </tr>\n",
       "    <tr>\n",
       "      <th>5</th>\n",
       "      <td>Warm</td>\n",
       "      <td>Blue</td>\n",
       "      <td>0</td>\n",
       "      <td>1</td>\n",
       "      <td>0</td>\n",
       "      <td>0</td>\n",
       "    </tr>\n",
       "    <tr>\n",
       "      <th>6</th>\n",
       "      <td>Warm</td>\n",
       "      <td>Blue</td>\n",
       "      <td>1</td>\n",
       "      <td>1</td>\n",
       "      <td>0</td>\n",
       "      <td>0</td>\n",
       "    </tr>\n",
       "    <tr>\n",
       "      <th>7</th>\n",
       "      <td>Hot</td>\n",
       "      <td>Yellow</td>\n",
       "      <td>0</td>\n",
       "      <td>0</td>\n",
       "      <td>0</td>\n",
       "      <td>1</td>\n",
       "    </tr>\n",
       "    <tr>\n",
       "      <th>8</th>\n",
       "      <td>Hot</td>\n",
       "      <td>Red</td>\n",
       "      <td>1</td>\n",
       "      <td>0</td>\n",
       "      <td>0</td>\n",
       "      <td>1</td>\n",
       "    </tr>\n",
       "    <tr>\n",
       "      <th>9</th>\n",
       "      <td>Cold</td>\n",
       "      <td>Yellow</td>\n",
       "      <td>1</td>\n",
       "      <td>0</td>\n",
       "      <td>1</td>\n",
       "      <td>0</td>\n",
       "    </tr>\n",
       "  </tbody>\n",
       "</table>\n",
       "</div>"
      ],
      "text/plain": [
       "  Temperature   Color  Target  Temperature_0  Temperature_1  Temperature_2\n",
       "0         Hot     Red       1              0              0              1\n",
       "1        Cold  Yellow       1              0              1              0\n",
       "2    Very Hot  Yellow       1              0              1              1\n",
       "3        Warm    Blue       0              1              0              0\n",
       "4         Hot     Red       1              0              0              1\n",
       "5        Warm    Blue       0              1              0              0\n",
       "6        Warm    Blue       1              1              0              0\n",
       "7         Hot  Yellow       0              0              0              1\n",
       "8         Hot     Red       1              0              0              1\n",
       "9        Cold  Yellow       1              0              1              0"
      ]
     },
     "execution_count": 126,
     "metadata": {},
     "output_type": "execute_result"
    }
   ],
   "source": [
    "import category_encoders as ce\n",
    "\n",
    "encoder = ce.BinaryEncoder(cols=['Temperature'], drop_invariant=True)\n",
    "dfb = encoder.fit_transform(df['Temperature'])\n",
    "dfbin = pd.concat([df, dfb], axis=1)\n",
    "\n",
    "dfbin"
   ]
  },
  {
   "cell_type": "markdown",
   "id": "fbdf7873",
   "metadata": {},
   "source": [
    "### Frequency Encoding"
   ]
  },
  {
   "cell_type": "markdown",
   "id": "00d3a3c0",
   "metadata": {},
   "source": [
    "**Frequency Encoding is a way to utilize the frequency of the categories as labels.**\n",
    "\n",
    "In the cases where the frequency is related somewhat with the target variable, it helps the model to understand and assign the weight in direct and inverse proportion, depending on the nature of the data."
   ]
  },
  {
   "cell_type": "code",
   "execution_count": 135,
   "id": "b4be885c",
   "metadata": {},
   "outputs": [
    {
     "data": {
      "text/html": [
       "<div>\n",
       "<style scoped>\n",
       "    .dataframe tbody tr th:only-of-type {\n",
       "        vertical-align: middle;\n",
       "    }\n",
       "\n",
       "    .dataframe tbody tr th {\n",
       "        vertical-align: top;\n",
       "    }\n",
       "\n",
       "    .dataframe thead th {\n",
       "        text-align: right;\n",
       "    }\n",
       "</style>\n",
       "<table border=\"1\" class=\"dataframe\">\n",
       "  <thead>\n",
       "    <tr style=\"text-align: right;\">\n",
       "      <th></th>\n",
       "      <th>Temperature</th>\n",
       "      <th>Color</th>\n",
       "      <th>Target</th>\n",
       "      <th>Temp_freq_enc</th>\n",
       "    </tr>\n",
       "  </thead>\n",
       "  <tbody>\n",
       "    <tr>\n",
       "      <th>0</th>\n",
       "      <td>Hot</td>\n",
       "      <td>Red</td>\n",
       "      <td>1</td>\n",
       "      <td>0.4</td>\n",
       "    </tr>\n",
       "    <tr>\n",
       "      <th>1</th>\n",
       "      <td>Cold</td>\n",
       "      <td>Yellow</td>\n",
       "      <td>1</td>\n",
       "      <td>0.2</td>\n",
       "    </tr>\n",
       "    <tr>\n",
       "      <th>2</th>\n",
       "      <td>Very Hot</td>\n",
       "      <td>Yellow</td>\n",
       "      <td>1</td>\n",
       "      <td>0.1</td>\n",
       "    </tr>\n",
       "    <tr>\n",
       "      <th>3</th>\n",
       "      <td>Warm</td>\n",
       "      <td>Blue</td>\n",
       "      <td>0</td>\n",
       "      <td>0.3</td>\n",
       "    </tr>\n",
       "    <tr>\n",
       "      <th>4</th>\n",
       "      <td>Hot</td>\n",
       "      <td>Red</td>\n",
       "      <td>1</td>\n",
       "      <td>0.4</td>\n",
       "    </tr>\n",
       "    <tr>\n",
       "      <th>5</th>\n",
       "      <td>Warm</td>\n",
       "      <td>Blue</td>\n",
       "      <td>0</td>\n",
       "      <td>0.3</td>\n",
       "    </tr>\n",
       "    <tr>\n",
       "      <th>6</th>\n",
       "      <td>Warm</td>\n",
       "      <td>Blue</td>\n",
       "      <td>1</td>\n",
       "      <td>0.3</td>\n",
       "    </tr>\n",
       "    <tr>\n",
       "      <th>7</th>\n",
       "      <td>Hot</td>\n",
       "      <td>Yellow</td>\n",
       "      <td>0</td>\n",
       "      <td>0.4</td>\n",
       "    </tr>\n",
       "    <tr>\n",
       "      <th>8</th>\n",
       "      <td>Hot</td>\n",
       "      <td>Red</td>\n",
       "      <td>1</td>\n",
       "      <td>0.4</td>\n",
       "    </tr>\n",
       "    <tr>\n",
       "      <th>9</th>\n",
       "      <td>Cold</td>\n",
       "      <td>Yellow</td>\n",
       "      <td>1</td>\n",
       "      <td>0.2</td>\n",
       "    </tr>\n",
       "  </tbody>\n",
       "</table>\n",
       "</div>"
      ],
      "text/plain": [
       "  Temperature   Color  Target  Temp_freq_enc\n",
       "0         Hot     Red       1            0.4\n",
       "1        Cold  Yellow       1            0.2\n",
       "2    Very Hot  Yellow       1            0.1\n",
       "3        Warm    Blue       0            0.3\n",
       "4         Hot     Red       1            0.4\n",
       "5        Warm    Blue       0            0.3\n",
       "6        Warm    Blue       1            0.3\n",
       "7         Hot  Yellow       0            0.4\n",
       "8         Hot     Red       1            0.4\n",
       "9        Cold  Yellow       1            0.2"
      ]
     },
     "execution_count": 135,
     "metadata": {},
     "output_type": "execute_result"
    }
   ],
   "source": [
    "df_fe = df.copy()\n",
    "\n",
    "freq_enc = (df_fe['Temperature'].value_counts()/len(df)).to_dict()\n",
    "\n",
    "df_fe['Temp_freq_enc'] = df_fe['Temperature'].map(freq_enc)\n",
    "\n",
    "df_fe"
   ]
  },
  {
   "cell_type": "markdown",
   "id": "1d8b66c4",
   "metadata": {},
   "source": [
    "### Mean Encoding/Target Encoding"
   ]
  },
  {
   "cell_type": "markdown",
   "id": "71ce25ce",
   "metadata": {},
   "source": [
    "**Mean encoding is similar to label encoding, except here labels are correlated directly with the target.**\n",
    "\n",
    "For example, in mean target encoding for each category in the feature label is decided with the mean value of the target variable on a training data."
   ]
  },
  {
   "cell_type": "markdown",
   "id": "c15e8958",
   "metadata": {},
   "source": [
    "<a href=\"https://ibb.co/mNcLwb8\"><img src=\"https://i.ibb.co/nPLHv6C/mean-encoding.png\" alt=\"mean-encoding\" border=\"0\"></a>"
   ]
  },
  {
   "cell_type": "code",
   "execution_count": 136,
   "id": "a0ef6b2c",
   "metadata": {},
   "outputs": [
    {
     "data": {
      "text/html": [
       "<div>\n",
       "<style scoped>\n",
       "    .dataframe tbody tr th:only-of-type {\n",
       "        vertical-align: middle;\n",
       "    }\n",
       "\n",
       "    .dataframe tbody tr th {\n",
       "        vertical-align: top;\n",
       "    }\n",
       "\n",
       "    .dataframe thead th {\n",
       "        text-align: right;\n",
       "    }\n",
       "</style>\n",
       "<table border=\"1\" class=\"dataframe\">\n",
       "  <thead>\n",
       "    <tr style=\"text-align: right;\">\n",
       "      <th></th>\n",
       "      <th>Temperature</th>\n",
       "      <th>Color</th>\n",
       "      <th>Target</th>\n",
       "      <th>Temp_mean_encoded</th>\n",
       "    </tr>\n",
       "  </thead>\n",
       "  <tbody>\n",
       "    <tr>\n",
       "      <th>0</th>\n",
       "      <td>Hot</td>\n",
       "      <td>Red</td>\n",
       "      <td>1</td>\n",
       "      <td>0.750000</td>\n",
       "    </tr>\n",
       "    <tr>\n",
       "      <th>1</th>\n",
       "      <td>Cold</td>\n",
       "      <td>Yellow</td>\n",
       "      <td>1</td>\n",
       "      <td>1.000000</td>\n",
       "    </tr>\n",
       "    <tr>\n",
       "      <th>2</th>\n",
       "      <td>Very Hot</td>\n",
       "      <td>Yellow</td>\n",
       "      <td>1</td>\n",
       "      <td>1.000000</td>\n",
       "    </tr>\n",
       "    <tr>\n",
       "      <th>3</th>\n",
       "      <td>Warm</td>\n",
       "      <td>Blue</td>\n",
       "      <td>0</td>\n",
       "      <td>0.333333</td>\n",
       "    </tr>\n",
       "    <tr>\n",
       "      <th>4</th>\n",
       "      <td>Hot</td>\n",
       "      <td>Red</td>\n",
       "      <td>1</td>\n",
       "      <td>0.750000</td>\n",
       "    </tr>\n",
       "    <tr>\n",
       "      <th>5</th>\n",
       "      <td>Warm</td>\n",
       "      <td>Blue</td>\n",
       "      <td>0</td>\n",
       "      <td>0.333333</td>\n",
       "    </tr>\n",
       "    <tr>\n",
       "      <th>6</th>\n",
       "      <td>Warm</td>\n",
       "      <td>Blue</td>\n",
       "      <td>1</td>\n",
       "      <td>0.333333</td>\n",
       "    </tr>\n",
       "    <tr>\n",
       "      <th>7</th>\n",
       "      <td>Hot</td>\n",
       "      <td>Yellow</td>\n",
       "      <td>0</td>\n",
       "      <td>0.750000</td>\n",
       "    </tr>\n",
       "    <tr>\n",
       "      <th>8</th>\n",
       "      <td>Hot</td>\n",
       "      <td>Red</td>\n",
       "      <td>1</td>\n",
       "      <td>0.750000</td>\n",
       "    </tr>\n",
       "    <tr>\n",
       "      <th>9</th>\n",
       "      <td>Cold</td>\n",
       "      <td>Yellow</td>\n",
       "      <td>1</td>\n",
       "      <td>1.000000</td>\n",
       "    </tr>\n",
       "  </tbody>\n",
       "</table>\n",
       "</div>"
      ],
      "text/plain": [
       "  Temperature   Color  Target  Temp_mean_encoded\n",
       "0         Hot     Red       1           0.750000\n",
       "1        Cold  Yellow       1           1.000000\n",
       "2    Very Hot  Yellow       1           1.000000\n",
       "3        Warm    Blue       0           0.333333\n",
       "4         Hot     Red       1           0.750000\n",
       "5        Warm    Blue       0           0.333333\n",
       "6        Warm    Blue       1           0.333333\n",
       "7         Hot  Yellow       0           0.750000\n",
       "8         Hot     Red       1           0.750000\n",
       "9        Cold  Yellow       1           1.000000"
      ]
     },
     "execution_count": 136,
     "metadata": {},
     "output_type": "execute_result"
    }
   ],
   "source": [
    "# Basic Mean Encoding\n",
    "me = df.groupby('Temperature')['Target'].mean()\n",
    "\n",
    "dfme = df.copy()\n",
    "dfme['Temp_mean_encoded'] = df['Temperature'].map(me)\n",
    "\n",
    "dfme"
   ]
  },
  {
   "cell_type": "code",
   "execution_count": 138,
   "id": "31e5b6c4",
   "metadata": {},
   "outputs": [
    {
     "data": {
      "text/html": [
       "<div>\n",
       "<style scoped>\n",
       "    .dataframe tbody tr th:only-of-type {\n",
       "        vertical-align: middle;\n",
       "    }\n",
       "\n",
       "    .dataframe tbody tr th {\n",
       "        vertical-align: top;\n",
       "    }\n",
       "\n",
       "    .dataframe thead th {\n",
       "        text-align: right;\n",
       "    }\n",
       "</style>\n",
       "<table border=\"1\" class=\"dataframe\">\n",
       "  <thead>\n",
       "    <tr style=\"text-align: right;\">\n",
       "      <th></th>\n",
       "      <th>Temperature</th>\n",
       "      <th>Color</th>\n",
       "      <th>Target</th>\n",
       "      <th>Temp_mean_encoded</th>\n",
       "      <th>Temp_smooth_mean_encoded</th>\n",
       "    </tr>\n",
       "  </thead>\n",
       "  <tbody>\n",
       "    <tr>\n",
       "      <th>0</th>\n",
       "      <td>Hot</td>\n",
       "      <td>Red</td>\n",
       "      <td>1</td>\n",
       "      <td>0.750000</td>\n",
       "      <td>0.701923</td>\n",
       "    </tr>\n",
       "    <tr>\n",
       "      <th>1</th>\n",
       "      <td>Cold</td>\n",
       "      <td>Yellow</td>\n",
       "      <td>1</td>\n",
       "      <td>1.000000</td>\n",
       "      <td>0.705882</td>\n",
       "    </tr>\n",
       "    <tr>\n",
       "      <th>2</th>\n",
       "      <td>Very Hot</td>\n",
       "      <td>Yellow</td>\n",
       "      <td>1</td>\n",
       "      <td>1.000000</td>\n",
       "      <td>0.702970</td>\n",
       "    </tr>\n",
       "    <tr>\n",
       "      <th>3</th>\n",
       "      <td>Warm</td>\n",
       "      <td>Blue</td>\n",
       "      <td>0</td>\n",
       "      <td>0.333333</td>\n",
       "      <td>0.689320</td>\n",
       "    </tr>\n",
       "    <tr>\n",
       "      <th>4</th>\n",
       "      <td>Hot</td>\n",
       "      <td>Red</td>\n",
       "      <td>1</td>\n",
       "      <td>0.750000</td>\n",
       "      <td>0.701923</td>\n",
       "    </tr>\n",
       "    <tr>\n",
       "      <th>5</th>\n",
       "      <td>Warm</td>\n",
       "      <td>Blue</td>\n",
       "      <td>0</td>\n",
       "      <td>0.333333</td>\n",
       "      <td>0.689320</td>\n",
       "    </tr>\n",
       "    <tr>\n",
       "      <th>6</th>\n",
       "      <td>Warm</td>\n",
       "      <td>Blue</td>\n",
       "      <td>1</td>\n",
       "      <td>0.333333</td>\n",
       "      <td>0.689320</td>\n",
       "    </tr>\n",
       "    <tr>\n",
       "      <th>7</th>\n",
       "      <td>Hot</td>\n",
       "      <td>Yellow</td>\n",
       "      <td>0</td>\n",
       "      <td>0.750000</td>\n",
       "      <td>0.701923</td>\n",
       "    </tr>\n",
       "    <tr>\n",
       "      <th>8</th>\n",
       "      <td>Hot</td>\n",
       "      <td>Red</td>\n",
       "      <td>1</td>\n",
       "      <td>0.750000</td>\n",
       "      <td>0.701923</td>\n",
       "    </tr>\n",
       "    <tr>\n",
       "      <th>9</th>\n",
       "      <td>Cold</td>\n",
       "      <td>Yellow</td>\n",
       "      <td>1</td>\n",
       "      <td>1.000000</td>\n",
       "      <td>0.705882</td>\n",
       "    </tr>\n",
       "  </tbody>\n",
       "</table>\n",
       "</div>"
      ],
      "text/plain": [
       "  Temperature   Color  Target  Temp_mean_encoded  Temp_smooth_mean_encoded\n",
       "0         Hot     Red       1           0.750000                  0.701923\n",
       "1        Cold  Yellow       1           1.000000                  0.705882\n",
       "2    Very Hot  Yellow       1           1.000000                  0.702970\n",
       "3        Warm    Blue       0           0.333333                  0.689320\n",
       "4         Hot     Red       1           0.750000                  0.701923\n",
       "5        Warm    Blue       0           0.333333                  0.689320\n",
       "6        Warm    Blue       1           0.333333                  0.689320\n",
       "7         Hot  Yellow       0           0.750000                  0.701923\n",
       "8         Hot     Red       1           0.750000                  0.701923\n",
       "9        Cold  Yellow       1           1.000000                  0.705882"
      ]
     },
     "execution_count": 138,
     "metadata": {},
     "output_type": "execute_result"
    }
   ],
   "source": [
    "# Mean Encoding with Smoothing\n",
    "\n",
    "# global mean\n",
    "mean = df['Target'].mean()\n",
    "\n",
    "# count and mean of each value group\n",
    "agg = df.groupby('Temperature')['Target'].agg(['count','mean'])\n",
    "counts = agg['count']\n",
    "means = agg['mean']\n",
    "weight = 100\n",
    "\n",
    "# smoothed mean\n",
    "smooth = (counts * means + weight * mean) / (counts + weight)\n",
    "\n",
    "dfme.loc[:, 'Temp_smooth_mean_encoded'] = df['Temperature'].map(smooth)\n",
    "\n",
    "dfme"
   ]
  },
  {
   "cell_type": "markdown",
   "id": "6fd0c570",
   "metadata": {},
   "source": [
    "**Note**: They tend to OverFit, be cautious in using Mean Encoding"
   ]
  },
  {
   "cell_type": "markdown",
   "id": "eb74fe9e",
   "metadata": {},
   "source": [
    "### Weight of Evidence Encoding"
   ]
  },
  {
   "cell_type": "markdown",
   "id": "817a92d5",
   "metadata": {},
   "source": [
    "**Weight of Evidence (WoE) is a measure of the “strength” of a grouping technique to separate good and bad.**\n",
    "\n",
    "WoE is well suited for Logistic Regression because the Logit transformation is simply the log of the odds, i.e., ln(P(Goods)/P(Bads))"
   ]
  },
  {
   "cell_type": "code",
   "execution_count": 147,
   "id": "8baaa3ba",
   "metadata": {},
   "outputs": [
    {
     "data": {
      "text/html": [
       "<div>\n",
       "<style scoped>\n",
       "    .dataframe tbody tr th:only-of-type {\n",
       "        vertical-align: middle;\n",
       "    }\n",
       "\n",
       "    .dataframe tbody tr th {\n",
       "        vertical-align: top;\n",
       "    }\n",
       "\n",
       "    .dataframe thead th {\n",
       "        text-align: right;\n",
       "    }\n",
       "</style>\n",
       "<table border=\"1\" class=\"dataframe\">\n",
       "  <thead>\n",
       "    <tr style=\"text-align: right;\">\n",
       "      <th></th>\n",
       "      <th>Good</th>\n",
       "      <th>Bad</th>\n",
       "      <th>WoE</th>\n",
       "    </tr>\n",
       "    <tr>\n",
       "      <th>Temperature</th>\n",
       "      <th></th>\n",
       "      <th></th>\n",
       "      <th></th>\n",
       "    </tr>\n",
       "  </thead>\n",
       "  <tbody>\n",
       "    <tr>\n",
       "      <th>Cold</th>\n",
       "      <td>1.000000</td>\n",
       "      <td>0.000001</td>\n",
       "      <td>13.815511</td>\n",
       "    </tr>\n",
       "    <tr>\n",
       "      <th>Hot</th>\n",
       "      <td>0.750000</td>\n",
       "      <td>0.250000</td>\n",
       "      <td>1.098612</td>\n",
       "    </tr>\n",
       "    <tr>\n",
       "      <th>Very Hot</th>\n",
       "      <td>1.000000</td>\n",
       "      <td>0.000001</td>\n",
       "      <td>13.815511</td>\n",
       "    </tr>\n",
       "    <tr>\n",
       "      <th>Warm</th>\n",
       "      <td>0.333333</td>\n",
       "      <td>0.666667</td>\n",
       "      <td>-0.693147</td>\n",
       "    </tr>\n",
       "  </tbody>\n",
       "</table>\n",
       "</div>"
      ],
      "text/plain": [
       "                 Good       Bad        WoE\n",
       "Temperature                               \n",
       "Cold         1.000000  0.000001  13.815511\n",
       "Hot          0.750000  0.250000   1.098612\n",
       "Very Hot     1.000000  0.000001  13.815511\n",
       "Warm         0.333333  0.666667  -0.693147"
      ]
     },
     "execution_count": 147,
     "metadata": {},
     "output_type": "execute_result"
    }
   ],
   "source": [
    "# probability for target = 1 i.e Good\n",
    "df_woe = df.groupby('Temperature')['Target'].mean()\n",
    "df_woe = pd.DataFrame(df_woe)\n",
    "df_woe = df_woe.rename(columns = {'Target' : 'Good'})\n",
    "\n",
    "# probability for target != 1 i.e Bad\n",
    "df_woe['Bad'] = 1 - df_woe['Good']\n",
    "# adding small value for avoiding Divide by Zero exception\n",
    "df_woe['Bad'] = np.where(df_woe['Bad'] == 0, 0.000001, df_woe['Bad'])\n",
    "\n",
    "# compute WoE\n",
    "df_woe['WoE'] = np.log(df_woe['Good']/df_woe['Bad'])\n",
    "df_woe"
   ]
  },
  {
   "cell_type": "code",
   "execution_count": 148,
   "id": "a03e3169",
   "metadata": {},
   "outputs": [
    {
     "data": {
      "text/html": [
       "<div>\n",
       "<style scoped>\n",
       "    .dataframe tbody tr th:only-of-type {\n",
       "        vertical-align: middle;\n",
       "    }\n",
       "\n",
       "    .dataframe tbody tr th {\n",
       "        vertical-align: top;\n",
       "    }\n",
       "\n",
       "    .dataframe thead th {\n",
       "        text-align: right;\n",
       "    }\n",
       "</style>\n",
       "<table border=\"1\" class=\"dataframe\">\n",
       "  <thead>\n",
       "    <tr style=\"text-align: right;\">\n",
       "      <th></th>\n",
       "      <th>Temperature</th>\n",
       "      <th>Color</th>\n",
       "      <th>Target</th>\n",
       "      <th>Temp_WoE</th>\n",
       "    </tr>\n",
       "  </thead>\n",
       "  <tbody>\n",
       "    <tr>\n",
       "      <th>0</th>\n",
       "      <td>Hot</td>\n",
       "      <td>Red</td>\n",
       "      <td>1</td>\n",
       "      <td>1.098612</td>\n",
       "    </tr>\n",
       "    <tr>\n",
       "      <th>1</th>\n",
       "      <td>Cold</td>\n",
       "      <td>Yellow</td>\n",
       "      <td>1</td>\n",
       "      <td>13.815511</td>\n",
       "    </tr>\n",
       "    <tr>\n",
       "      <th>2</th>\n",
       "      <td>Very Hot</td>\n",
       "      <td>Yellow</td>\n",
       "      <td>1</td>\n",
       "      <td>13.815511</td>\n",
       "    </tr>\n",
       "    <tr>\n",
       "      <th>3</th>\n",
       "      <td>Warm</td>\n",
       "      <td>Blue</td>\n",
       "      <td>0</td>\n",
       "      <td>-0.693147</td>\n",
       "    </tr>\n",
       "    <tr>\n",
       "      <th>4</th>\n",
       "      <td>Hot</td>\n",
       "      <td>Red</td>\n",
       "      <td>1</td>\n",
       "      <td>1.098612</td>\n",
       "    </tr>\n",
       "    <tr>\n",
       "      <th>5</th>\n",
       "      <td>Warm</td>\n",
       "      <td>Blue</td>\n",
       "      <td>0</td>\n",
       "      <td>-0.693147</td>\n",
       "    </tr>\n",
       "    <tr>\n",
       "      <th>6</th>\n",
       "      <td>Warm</td>\n",
       "      <td>Blue</td>\n",
       "      <td>1</td>\n",
       "      <td>-0.693147</td>\n",
       "    </tr>\n",
       "    <tr>\n",
       "      <th>7</th>\n",
       "      <td>Hot</td>\n",
       "      <td>Yellow</td>\n",
       "      <td>0</td>\n",
       "      <td>1.098612</td>\n",
       "    </tr>\n",
       "    <tr>\n",
       "      <th>8</th>\n",
       "      <td>Hot</td>\n",
       "      <td>Red</td>\n",
       "      <td>1</td>\n",
       "      <td>1.098612</td>\n",
       "    </tr>\n",
       "    <tr>\n",
       "      <th>9</th>\n",
       "      <td>Cold</td>\n",
       "      <td>Yellow</td>\n",
       "      <td>1</td>\n",
       "      <td>13.815511</td>\n",
       "    </tr>\n",
       "  </tbody>\n",
       "</table>\n",
       "</div>"
      ],
      "text/plain": [
       "  Temperature   Color  Target   Temp_WoE\n",
       "0         Hot     Red       1   1.098612\n",
       "1        Cold  Yellow       1  13.815511\n",
       "2    Very Hot  Yellow       1  13.815511\n",
       "3        Warm    Blue       0  -0.693147\n",
       "4         Hot     Red       1   1.098612\n",
       "5        Warm    Blue       0  -0.693147\n",
       "6        Warm    Blue       1  -0.693147\n",
       "7         Hot  Yellow       0   1.098612\n",
       "8         Hot     Red       1   1.098612\n",
       "9        Cold  Yellow       1  13.815511"
      ]
     },
     "execution_count": 148,
     "metadata": {},
     "output_type": "execute_result"
    }
   ],
   "source": [
    "df['Temp_WoE'] = df['Temperature'].map(df_woe['WoE'])\n",
    "\n",
    "df"
   ]
  },
  {
   "cell_type": "markdown",
   "id": "cdc85ce9",
   "metadata": {},
   "source": [
    "### Probability Ratio Encoding"
   ]
  },
  {
   "cell_type": "markdown",
   "id": "4c94aea0",
   "metadata": {},
   "source": [
    "Probability Ratio Encoding is similar to Weight Of Evidence(WoE), with the only difference is the only ratio of good and bad probability is used instead of logarithmic the ratio of good and bad probabilies"
   ]
  },
  {
   "cell_type": "code",
   "execution_count": 149,
   "id": "27ec6c81",
   "metadata": {},
   "outputs": [
    {
     "data": {
      "text/html": [
       "<div>\n",
       "<style scoped>\n",
       "    .dataframe tbody tr th:only-of-type {\n",
       "        vertical-align: middle;\n",
       "    }\n",
       "\n",
       "    .dataframe tbody tr th {\n",
       "        vertical-align: top;\n",
       "    }\n",
       "\n",
       "    .dataframe thead th {\n",
       "        text-align: right;\n",
       "    }\n",
       "</style>\n",
       "<table border=\"1\" class=\"dataframe\">\n",
       "  <thead>\n",
       "    <tr style=\"text-align: right;\">\n",
       "      <th></th>\n",
       "      <th>Good</th>\n",
       "      <th>Bad</th>\n",
       "      <th>WoE</th>\n",
       "      <th>PR</th>\n",
       "    </tr>\n",
       "    <tr>\n",
       "      <th>Temperature</th>\n",
       "      <th></th>\n",
       "      <th></th>\n",
       "      <th></th>\n",
       "      <th></th>\n",
       "    </tr>\n",
       "  </thead>\n",
       "  <tbody>\n",
       "    <tr>\n",
       "      <th>Cold</th>\n",
       "      <td>1.000000</td>\n",
       "      <td>0.000001</td>\n",
       "      <td>13.815511</td>\n",
       "      <td>1000000.0</td>\n",
       "    </tr>\n",
       "    <tr>\n",
       "      <th>Hot</th>\n",
       "      <td>0.750000</td>\n",
       "      <td>0.250000</td>\n",
       "      <td>1.098612</td>\n",
       "      <td>3.0</td>\n",
       "    </tr>\n",
       "    <tr>\n",
       "      <th>Very Hot</th>\n",
       "      <td>1.000000</td>\n",
       "      <td>0.000001</td>\n",
       "      <td>13.815511</td>\n",
       "      <td>1000000.0</td>\n",
       "    </tr>\n",
       "    <tr>\n",
       "      <th>Warm</th>\n",
       "      <td>0.333333</td>\n",
       "      <td>0.666667</td>\n",
       "      <td>-0.693147</td>\n",
       "      <td>0.5</td>\n",
       "    </tr>\n",
       "  </tbody>\n",
       "</table>\n",
       "</div>"
      ],
      "text/plain": [
       "                 Good       Bad        WoE         PR\n",
       "Temperature                                          \n",
       "Cold         1.000000  0.000001  13.815511  1000000.0\n",
       "Hot          0.750000  0.250000   1.098612        3.0\n",
       "Very Hot     1.000000  0.000001  13.815511  1000000.0\n",
       "Warm         0.333333  0.666667  -0.693147        0.5"
      ]
     },
     "execution_count": 149,
     "metadata": {},
     "output_type": "execute_result"
    }
   ],
   "source": [
    "# probability for target = 1 i.e Good\n",
    "df_pre = df.groupby('Temperature')['Target'].mean()\n",
    "df_pre = pd.DataFrame(df_woe)\n",
    "df_pre = df_pre.rename(columns = {'Target' : 'Good'})\n",
    "\n",
    "# probability for target != 1 i.e Bad\n",
    "df_pre['Bad'] = 1 - df_pre['Good']\n",
    "# adding small value for avoiding Divide by Zero exception\n",
    "df_pre['Bad'] = np.where(df_pre['Bad'] == 0, 0.000001, df_pre['Bad'])\n",
    "\n",
    "# compute WoE\n",
    "df_pre['PR'] = df_pre['Good']/df_pre['Bad']\n",
    "df_pre"
   ]
  },
  {
   "cell_type": "code",
   "execution_count": 150,
   "id": "5f783e21",
   "metadata": {},
   "outputs": [
    {
     "data": {
      "text/html": [
       "<div>\n",
       "<style scoped>\n",
       "    .dataframe tbody tr th:only-of-type {\n",
       "        vertical-align: middle;\n",
       "    }\n",
       "\n",
       "    .dataframe tbody tr th {\n",
       "        vertical-align: top;\n",
       "    }\n",
       "\n",
       "    .dataframe thead th {\n",
       "        text-align: right;\n",
       "    }\n",
       "</style>\n",
       "<table border=\"1\" class=\"dataframe\">\n",
       "  <thead>\n",
       "    <tr style=\"text-align: right;\">\n",
       "      <th></th>\n",
       "      <th>Temperature</th>\n",
       "      <th>Color</th>\n",
       "      <th>Target</th>\n",
       "      <th>Temp_WoE</th>\n",
       "      <th>Temp_PRE</th>\n",
       "    </tr>\n",
       "  </thead>\n",
       "  <tbody>\n",
       "    <tr>\n",
       "      <th>0</th>\n",
       "      <td>Hot</td>\n",
       "      <td>Red</td>\n",
       "      <td>1</td>\n",
       "      <td>1.098612</td>\n",
       "      <td>3.0</td>\n",
       "    </tr>\n",
       "    <tr>\n",
       "      <th>1</th>\n",
       "      <td>Cold</td>\n",
       "      <td>Yellow</td>\n",
       "      <td>1</td>\n",
       "      <td>13.815511</td>\n",
       "      <td>1000000.0</td>\n",
       "    </tr>\n",
       "    <tr>\n",
       "      <th>2</th>\n",
       "      <td>Very Hot</td>\n",
       "      <td>Yellow</td>\n",
       "      <td>1</td>\n",
       "      <td>13.815511</td>\n",
       "      <td>1000000.0</td>\n",
       "    </tr>\n",
       "    <tr>\n",
       "      <th>3</th>\n",
       "      <td>Warm</td>\n",
       "      <td>Blue</td>\n",
       "      <td>0</td>\n",
       "      <td>-0.693147</td>\n",
       "      <td>0.5</td>\n",
       "    </tr>\n",
       "    <tr>\n",
       "      <th>4</th>\n",
       "      <td>Hot</td>\n",
       "      <td>Red</td>\n",
       "      <td>1</td>\n",
       "      <td>1.098612</td>\n",
       "      <td>3.0</td>\n",
       "    </tr>\n",
       "    <tr>\n",
       "      <th>5</th>\n",
       "      <td>Warm</td>\n",
       "      <td>Blue</td>\n",
       "      <td>0</td>\n",
       "      <td>-0.693147</td>\n",
       "      <td>0.5</td>\n",
       "    </tr>\n",
       "    <tr>\n",
       "      <th>6</th>\n",
       "      <td>Warm</td>\n",
       "      <td>Blue</td>\n",
       "      <td>1</td>\n",
       "      <td>-0.693147</td>\n",
       "      <td>0.5</td>\n",
       "    </tr>\n",
       "    <tr>\n",
       "      <th>7</th>\n",
       "      <td>Hot</td>\n",
       "      <td>Yellow</td>\n",
       "      <td>0</td>\n",
       "      <td>1.098612</td>\n",
       "      <td>3.0</td>\n",
       "    </tr>\n",
       "    <tr>\n",
       "      <th>8</th>\n",
       "      <td>Hot</td>\n",
       "      <td>Red</td>\n",
       "      <td>1</td>\n",
       "      <td>1.098612</td>\n",
       "      <td>3.0</td>\n",
       "    </tr>\n",
       "    <tr>\n",
       "      <th>9</th>\n",
       "      <td>Cold</td>\n",
       "      <td>Yellow</td>\n",
       "      <td>1</td>\n",
       "      <td>13.815511</td>\n",
       "      <td>1000000.0</td>\n",
       "    </tr>\n",
       "  </tbody>\n",
       "</table>\n",
       "</div>"
      ],
      "text/plain": [
       "  Temperature   Color  Target   Temp_WoE   Temp_PRE\n",
       "0         Hot     Red       1   1.098612        3.0\n",
       "1        Cold  Yellow       1  13.815511  1000000.0\n",
       "2    Very Hot  Yellow       1  13.815511  1000000.0\n",
       "3        Warm    Blue       0  -0.693147        0.5\n",
       "4         Hot     Red       1   1.098612        3.0\n",
       "5        Warm    Blue       0  -0.693147        0.5\n",
       "6        Warm    Blue       1  -0.693147        0.5\n",
       "7         Hot  Yellow       0   1.098612        3.0\n",
       "8         Hot     Red       1   1.098612        3.0\n",
       "9        Cold  Yellow       1  13.815511  1000000.0"
      ]
     },
     "execution_count": 150,
     "metadata": {},
     "output_type": "execute_result"
    }
   ],
   "source": [
    "df['Temp_PRE'] = df['Temperature'].map(df_pre['PR'])\n",
    "\n",
    "df"
   ]
  },
  {
   "cell_type": "code",
   "execution_count": 151,
   "id": "cabc6ff1",
   "metadata": {},
   "outputs": [],
   "source": [
    "df.drop(columns=['Temp_WoE', 'Temp_PRE'], inplace=True)"
   ]
  },
  {
   "cell_type": "markdown",
   "id": "d6a3f3ec",
   "metadata": {},
   "source": [
    "### Hashing Encoding"
   ]
  },
  {
   "cell_type": "markdown",
   "id": "43f513c2",
   "metadata": {},
   "source": [
    "In Feature Hashing, a vector of categorical variables gets converted to a higher dimensional space of integers, where the distance between two vectors of categorical variables in approximately maintained the transformed numerical dimensional space"
   ]
  },
  {
   "cell_type": "code",
   "execution_count": 152,
   "id": "74109808",
   "metadata": {},
   "outputs": [
    {
     "data": {
      "text/html": [
       "<div>\n",
       "<style scoped>\n",
       "    .dataframe tbody tr th:only-of-type {\n",
       "        vertical-align: middle;\n",
       "    }\n",
       "\n",
       "    .dataframe tbody tr th {\n",
       "        vertical-align: top;\n",
       "    }\n",
       "\n",
       "    .dataframe thead th {\n",
       "        text-align: right;\n",
       "    }\n",
       "</style>\n",
       "<table border=\"1\" class=\"dataframe\">\n",
       "  <thead>\n",
       "    <tr style=\"text-align: right;\">\n",
       "      <th></th>\n",
       "      <th>Temperature</th>\n",
       "      <th>Color</th>\n",
       "      <th>Target</th>\n",
       "      <th>col_0</th>\n",
       "      <th>col_1</th>\n",
       "      <th>col_2</th>\n",
       "      <th>col_3</th>\n",
       "      <th>col_4</th>\n",
       "      <th>col_5</th>\n",
       "      <th>col_6</th>\n",
       "      <th>col_7</th>\n",
       "    </tr>\n",
       "  </thead>\n",
       "  <tbody>\n",
       "    <tr>\n",
       "      <th>0</th>\n",
       "      <td>Hot</td>\n",
       "      <td>Red</td>\n",
       "      <td>1</td>\n",
       "      <td>0</td>\n",
       "      <td>0</td>\n",
       "      <td>0</td>\n",
       "      <td>0</td>\n",
       "      <td>0</td>\n",
       "      <td>0</td>\n",
       "      <td>0</td>\n",
       "      <td>1</td>\n",
       "    </tr>\n",
       "    <tr>\n",
       "      <th>1</th>\n",
       "      <td>Cold</td>\n",
       "      <td>Yellow</td>\n",
       "      <td>1</td>\n",
       "      <td>1</td>\n",
       "      <td>0</td>\n",
       "      <td>0</td>\n",
       "      <td>0</td>\n",
       "      <td>0</td>\n",
       "      <td>0</td>\n",
       "      <td>0</td>\n",
       "      <td>0</td>\n",
       "    </tr>\n",
       "    <tr>\n",
       "      <th>2</th>\n",
       "      <td>Very Hot</td>\n",
       "      <td>Yellow</td>\n",
       "      <td>1</td>\n",
       "      <td>1</td>\n",
       "      <td>0</td>\n",
       "      <td>0</td>\n",
       "      <td>0</td>\n",
       "      <td>0</td>\n",
       "      <td>0</td>\n",
       "      <td>0</td>\n",
       "      <td>0</td>\n",
       "    </tr>\n",
       "    <tr>\n",
       "      <th>3</th>\n",
       "      <td>Warm</td>\n",
       "      <td>Blue</td>\n",
       "      <td>0</td>\n",
       "      <td>0</td>\n",
       "      <td>1</td>\n",
       "      <td>0</td>\n",
       "      <td>0</td>\n",
       "      <td>0</td>\n",
       "      <td>0</td>\n",
       "      <td>0</td>\n",
       "      <td>0</td>\n",
       "    </tr>\n",
       "    <tr>\n",
       "      <th>4</th>\n",
       "      <td>Hot</td>\n",
       "      <td>Red</td>\n",
       "      <td>1</td>\n",
       "      <td>0</td>\n",
       "      <td>0</td>\n",
       "      <td>0</td>\n",
       "      <td>0</td>\n",
       "      <td>0</td>\n",
       "      <td>0</td>\n",
       "      <td>0</td>\n",
       "      <td>1</td>\n",
       "    </tr>\n",
       "    <tr>\n",
       "      <th>5</th>\n",
       "      <td>Warm</td>\n",
       "      <td>Blue</td>\n",
       "      <td>0</td>\n",
       "      <td>0</td>\n",
       "      <td>1</td>\n",
       "      <td>0</td>\n",
       "      <td>0</td>\n",
       "      <td>0</td>\n",
       "      <td>0</td>\n",
       "      <td>0</td>\n",
       "      <td>0</td>\n",
       "    </tr>\n",
       "    <tr>\n",
       "      <th>6</th>\n",
       "      <td>Warm</td>\n",
       "      <td>Blue</td>\n",
       "      <td>1</td>\n",
       "      <td>0</td>\n",
       "      <td>1</td>\n",
       "      <td>0</td>\n",
       "      <td>0</td>\n",
       "      <td>0</td>\n",
       "      <td>0</td>\n",
       "      <td>0</td>\n",
       "      <td>0</td>\n",
       "    </tr>\n",
       "    <tr>\n",
       "      <th>7</th>\n",
       "      <td>Hot</td>\n",
       "      <td>Yellow</td>\n",
       "      <td>0</td>\n",
       "      <td>1</td>\n",
       "      <td>0</td>\n",
       "      <td>0</td>\n",
       "      <td>0</td>\n",
       "      <td>0</td>\n",
       "      <td>0</td>\n",
       "      <td>0</td>\n",
       "      <td>0</td>\n",
       "    </tr>\n",
       "    <tr>\n",
       "      <th>8</th>\n",
       "      <td>Hot</td>\n",
       "      <td>Red</td>\n",
       "      <td>1</td>\n",
       "      <td>0</td>\n",
       "      <td>0</td>\n",
       "      <td>0</td>\n",
       "      <td>0</td>\n",
       "      <td>0</td>\n",
       "      <td>0</td>\n",
       "      <td>0</td>\n",
       "      <td>1</td>\n",
       "    </tr>\n",
       "    <tr>\n",
       "      <th>9</th>\n",
       "      <td>Cold</td>\n",
       "      <td>Yellow</td>\n",
       "      <td>1</td>\n",
       "      <td>1</td>\n",
       "      <td>0</td>\n",
       "      <td>0</td>\n",
       "      <td>0</td>\n",
       "      <td>0</td>\n",
       "      <td>0</td>\n",
       "      <td>0</td>\n",
       "      <td>0</td>\n",
       "    </tr>\n",
       "  </tbody>\n",
       "</table>\n",
       "</div>"
      ],
      "text/plain": [
       "  Temperature   Color  Target  col_0  col_1  col_2  col_3  col_4  col_5  \\\n",
       "0         Hot     Red       1      0      0      0      0      0      0   \n",
       "1        Cold  Yellow       1      1      0      0      0      0      0   \n",
       "2    Very Hot  Yellow       1      1      0      0      0      0      0   \n",
       "3        Warm    Blue       0      0      1      0      0      0      0   \n",
       "4         Hot     Red       1      0      0      0      0      0      0   \n",
       "5        Warm    Blue       0      0      1      0      0      0      0   \n",
       "6        Warm    Blue       1      0      1      0      0      0      0   \n",
       "7         Hot  Yellow       0      1      0      0      0      0      0   \n",
       "8         Hot     Red       1      0      0      0      0      0      0   \n",
       "9        Cold  Yellow       1      1      0      0      0      0      0   \n",
       "\n",
       "   col_6  col_7  \n",
       "0      0      1  \n",
       "1      0      0  \n",
       "2      0      0  \n",
       "3      0      0  \n",
       "4      0      1  \n",
       "5      0      0  \n",
       "6      0      0  \n",
       "7      0      0  \n",
       "8      0      1  \n",
       "9      0      0  "
      ]
     },
     "execution_count": 152,
     "metadata": {},
     "output_type": "execute_result"
    }
   ],
   "source": [
    "encoder = ce.HashingEncoder(cols=['Color'])\n",
    "dfH = encoder.fit_transform(df['Color'])\n",
    "dfHash = pd.concat([df, dfH], axis=1)\n",
    "\n",
    "dfHash"
   ]
  },
  {
   "cell_type": "code",
   "execution_count": null,
   "id": "3d519ba1",
   "metadata": {},
   "outputs": [],
   "source": []
  },
  {
   "cell_type": "code",
   "execution_count": null,
   "id": "03be4ddc",
   "metadata": {},
   "outputs": [],
   "source": []
  },
  {
   "cell_type": "code",
   "execution_count": null,
   "id": "5755e942",
   "metadata": {},
   "outputs": [],
   "source": []
  },
  {
   "cell_type": "code",
   "execution_count": null,
   "id": "2373e6d9",
   "metadata": {},
   "outputs": [],
   "source": []
  },
  {
   "cell_type": "code",
   "execution_count": null,
   "id": "b8d7a58b",
   "metadata": {},
   "outputs": [],
   "source": []
  },
  {
   "cell_type": "markdown",
   "id": "74ed6a5f",
   "metadata": {},
   "source": [
    "### Backward Difference Encoding"
   ]
  },
  {
   "cell_type": "markdown",
   "id": "0f02adfc",
   "metadata": {},
   "source": [
    "Similar to Helmert Encoding. In backward difference coding, **the mean of the dependent variable for a level is compared with the mean of the dependent variable for the prior level.**"
   ]
  },
  {
   "cell_type": "code",
   "execution_count": 153,
   "id": "d6a409c6",
   "metadata": {},
   "outputs": [
    {
     "data": {
      "text/html": [
       "<div>\n",
       "<style scoped>\n",
       "    .dataframe tbody tr th:only-of-type {\n",
       "        vertical-align: middle;\n",
       "    }\n",
       "\n",
       "    .dataframe tbody tr th {\n",
       "        vertical-align: top;\n",
       "    }\n",
       "\n",
       "    .dataframe thead th {\n",
       "        text-align: right;\n",
       "    }\n",
       "</style>\n",
       "<table border=\"1\" class=\"dataframe\">\n",
       "  <thead>\n",
       "    <tr style=\"text-align: right;\">\n",
       "      <th></th>\n",
       "      <th>Temperature</th>\n",
       "      <th>Color</th>\n",
       "      <th>Target</th>\n",
       "      <th>intercept</th>\n",
       "      <th>Color_0</th>\n",
       "      <th>Color_1</th>\n",
       "    </tr>\n",
       "  </thead>\n",
       "  <tbody>\n",
       "    <tr>\n",
       "      <th>0</th>\n",
       "      <td>Hot</td>\n",
       "      <td>Red</td>\n",
       "      <td>1</td>\n",
       "      <td>1</td>\n",
       "      <td>-0.666667</td>\n",
       "      <td>-0.333333</td>\n",
       "    </tr>\n",
       "    <tr>\n",
       "      <th>1</th>\n",
       "      <td>Cold</td>\n",
       "      <td>Yellow</td>\n",
       "      <td>1</td>\n",
       "      <td>1</td>\n",
       "      <td>0.333333</td>\n",
       "      <td>-0.333333</td>\n",
       "    </tr>\n",
       "    <tr>\n",
       "      <th>2</th>\n",
       "      <td>Very Hot</td>\n",
       "      <td>Yellow</td>\n",
       "      <td>1</td>\n",
       "      <td>1</td>\n",
       "      <td>0.333333</td>\n",
       "      <td>-0.333333</td>\n",
       "    </tr>\n",
       "    <tr>\n",
       "      <th>3</th>\n",
       "      <td>Warm</td>\n",
       "      <td>Blue</td>\n",
       "      <td>0</td>\n",
       "      <td>1</td>\n",
       "      <td>0.333333</td>\n",
       "      <td>0.666667</td>\n",
       "    </tr>\n",
       "    <tr>\n",
       "      <th>4</th>\n",
       "      <td>Hot</td>\n",
       "      <td>Red</td>\n",
       "      <td>1</td>\n",
       "      <td>1</td>\n",
       "      <td>-0.666667</td>\n",
       "      <td>-0.333333</td>\n",
       "    </tr>\n",
       "    <tr>\n",
       "      <th>5</th>\n",
       "      <td>Warm</td>\n",
       "      <td>Blue</td>\n",
       "      <td>0</td>\n",
       "      <td>1</td>\n",
       "      <td>0.333333</td>\n",
       "      <td>0.666667</td>\n",
       "    </tr>\n",
       "    <tr>\n",
       "      <th>6</th>\n",
       "      <td>Warm</td>\n",
       "      <td>Blue</td>\n",
       "      <td>1</td>\n",
       "      <td>1</td>\n",
       "      <td>0.333333</td>\n",
       "      <td>0.666667</td>\n",
       "    </tr>\n",
       "    <tr>\n",
       "      <th>7</th>\n",
       "      <td>Hot</td>\n",
       "      <td>Yellow</td>\n",
       "      <td>0</td>\n",
       "      <td>1</td>\n",
       "      <td>0.333333</td>\n",
       "      <td>-0.333333</td>\n",
       "    </tr>\n",
       "    <tr>\n",
       "      <th>8</th>\n",
       "      <td>Hot</td>\n",
       "      <td>Red</td>\n",
       "      <td>1</td>\n",
       "      <td>1</td>\n",
       "      <td>-0.666667</td>\n",
       "      <td>-0.333333</td>\n",
       "    </tr>\n",
       "    <tr>\n",
       "      <th>9</th>\n",
       "      <td>Cold</td>\n",
       "      <td>Yellow</td>\n",
       "      <td>1</td>\n",
       "      <td>1</td>\n",
       "      <td>0.333333</td>\n",
       "      <td>-0.333333</td>\n",
       "    </tr>\n",
       "  </tbody>\n",
       "</table>\n",
       "</div>"
      ],
      "text/plain": [
       "  Temperature   Color  Target  intercept   Color_0   Color_1\n",
       "0         Hot     Red       1          1 -0.666667 -0.333333\n",
       "1        Cold  Yellow       1          1  0.333333 -0.333333\n",
       "2    Very Hot  Yellow       1          1  0.333333 -0.333333\n",
       "3        Warm    Blue       0          1  0.333333  0.666667\n",
       "4         Hot     Red       1          1 -0.666667 -0.333333\n",
       "5        Warm    Blue       0          1  0.333333  0.666667\n",
       "6        Warm    Blue       1          1  0.333333  0.666667\n",
       "7         Hot  Yellow       0          1  0.333333 -0.333333\n",
       "8         Hot     Red       1          1 -0.666667 -0.333333\n",
       "9        Cold  Yellow       1          1  0.333333 -0.333333"
      ]
     },
     "execution_count": 153,
     "metadata": {},
     "output_type": "execute_result"
    }
   ],
   "source": [
    "encoder = ce.BackwardDifferenceEncoder(cols=['Color'])\n",
    "dfb = encoder.fit_transform(df['Color'])\n",
    "dfBD = pd.concat([df, dfb], axis=1)\n",
    "dfBD"
   ]
  },
  {
   "cell_type": "markdown",
   "id": "ddf9899f",
   "metadata": {},
   "source": [
    "### Leave One Out Encoding"
   ]
  },
  {
   "cell_type": "markdown",
   "id": "84e8fddf",
   "metadata": {},
   "source": [
    "This is very similar to target encoding but excludes the current row’s target when calculating the mean target for a level to reduce the effect of outliers."
   ]
  },
  {
   "cell_type": "code",
   "execution_count": 156,
   "id": "e30b1336",
   "metadata": {},
   "outputs": [
    {
     "data": {
      "text/html": [
       "<div>\n",
       "<style scoped>\n",
       "    .dataframe tbody tr th:only-of-type {\n",
       "        vertical-align: middle;\n",
       "    }\n",
       "\n",
       "    .dataframe tbody tr th {\n",
       "        vertical-align: top;\n",
       "    }\n",
       "\n",
       "    .dataframe thead th {\n",
       "        text-align: right;\n",
       "    }\n",
       "</style>\n",
       "<table border=\"1\" class=\"dataframe\">\n",
       "  <thead>\n",
       "    <tr style=\"text-align: right;\">\n",
       "      <th></th>\n",
       "      <th>Temperature</th>\n",
       "      <th>Color</th>\n",
       "      <th>Target</th>\n",
       "      <th>Color</th>\n",
       "    </tr>\n",
       "  </thead>\n",
       "  <tbody>\n",
       "    <tr>\n",
       "      <th>0</th>\n",
       "      <td>Hot</td>\n",
       "      <td>Red</td>\n",
       "      <td>1</td>\n",
       "      <td>1.000000</td>\n",
       "    </tr>\n",
       "    <tr>\n",
       "      <th>1</th>\n",
       "      <td>Cold</td>\n",
       "      <td>Yellow</td>\n",
       "      <td>1</td>\n",
       "      <td>0.666667</td>\n",
       "    </tr>\n",
       "    <tr>\n",
       "      <th>2</th>\n",
       "      <td>Very Hot</td>\n",
       "      <td>Yellow</td>\n",
       "      <td>1</td>\n",
       "      <td>0.666667</td>\n",
       "    </tr>\n",
       "    <tr>\n",
       "      <th>3</th>\n",
       "      <td>Warm</td>\n",
       "      <td>Blue</td>\n",
       "      <td>0</td>\n",
       "      <td>0.500000</td>\n",
       "    </tr>\n",
       "    <tr>\n",
       "      <th>4</th>\n",
       "      <td>Hot</td>\n",
       "      <td>Red</td>\n",
       "      <td>1</td>\n",
       "      <td>1.000000</td>\n",
       "    </tr>\n",
       "    <tr>\n",
       "      <th>5</th>\n",
       "      <td>Warm</td>\n",
       "      <td>Blue</td>\n",
       "      <td>0</td>\n",
       "      <td>0.500000</td>\n",
       "    </tr>\n",
       "    <tr>\n",
       "      <th>6</th>\n",
       "      <td>Warm</td>\n",
       "      <td>Blue</td>\n",
       "      <td>1</td>\n",
       "      <td>0.000000</td>\n",
       "    </tr>\n",
       "    <tr>\n",
       "      <th>7</th>\n",
       "      <td>Hot</td>\n",
       "      <td>Yellow</td>\n",
       "      <td>0</td>\n",
       "      <td>1.000000</td>\n",
       "    </tr>\n",
       "    <tr>\n",
       "      <th>8</th>\n",
       "      <td>Hot</td>\n",
       "      <td>Red</td>\n",
       "      <td>1</td>\n",
       "      <td>1.000000</td>\n",
       "    </tr>\n",
       "    <tr>\n",
       "      <th>9</th>\n",
       "      <td>Cold</td>\n",
       "      <td>Yellow</td>\n",
       "      <td>1</td>\n",
       "      <td>0.666667</td>\n",
       "    </tr>\n",
       "  </tbody>\n",
       "</table>\n",
       "</div>"
      ],
      "text/plain": [
       "  Temperature   Color  Target     Color\n",
       "0         Hot     Red       1  1.000000\n",
       "1        Cold  Yellow       1  0.666667\n",
       "2    Very Hot  Yellow       1  0.666667\n",
       "3        Warm    Blue       0  0.500000\n",
       "4         Hot     Red       1  1.000000\n",
       "5        Warm    Blue       0  0.500000\n",
       "6        Warm    Blue       1  0.000000\n",
       "7         Hot  Yellow       0  1.000000\n",
       "8         Hot     Red       1  1.000000\n",
       "9        Cold  Yellow       1  0.666667"
      ]
     },
     "execution_count": 156,
     "metadata": {},
     "output_type": "execute_result"
    }
   ],
   "source": [
    "encoder = ce.LeaveOneOutEncoder(cols=['Color'])\n",
    "dfl = encoder.fit_transform(df['Color'], df['Target'])\n",
    "dfLOO = pd.concat([df, dfl], axis=1)\n",
    "\n",
    "dfLOO"
   ]
  },
  {
   "cell_type": "markdown",
   "id": "edf7b990",
   "metadata": {},
   "source": [
    "### James-Stein Encoding"
   ]
  },
  {
   "cell_type": "markdown",
   "id": "b868d162",
   "metadata": {},
   "source": [
    "For feature value, James-Stein estimator returns a weighted average of:\n",
    "\n",
    "1. The mean target value for the observed feature value.\n",
    "2. The mean target value (regardless of the feature value).\n",
    "\n",
    "The James-Stein encoder shrinks the average toward the overall average. It is a target based encoder. James-Stein estimator has, however, one practical limitation — it was defined only for normal distributions."
   ]
  },
  {
   "cell_type": "code",
   "execution_count": 157,
   "id": "ed76edd8",
   "metadata": {},
   "outputs": [
    {
     "data": {
      "text/html": [
       "<div>\n",
       "<style scoped>\n",
       "    .dataframe tbody tr th:only-of-type {\n",
       "        vertical-align: middle;\n",
       "    }\n",
       "\n",
       "    .dataframe tbody tr th {\n",
       "        vertical-align: top;\n",
       "    }\n",
       "\n",
       "    .dataframe thead th {\n",
       "        text-align: right;\n",
       "    }\n",
       "</style>\n",
       "<table border=\"1\" class=\"dataframe\">\n",
       "  <thead>\n",
       "    <tr style=\"text-align: right;\">\n",
       "      <th></th>\n",
       "      <th>Temperature</th>\n",
       "      <th>Color</th>\n",
       "      <th>Target</th>\n",
       "      <th>Color</th>\n",
       "    </tr>\n",
       "  </thead>\n",
       "  <tbody>\n",
       "    <tr>\n",
       "      <th>0</th>\n",
       "      <td>Hot</td>\n",
       "      <td>Red</td>\n",
       "      <td>1</td>\n",
       "      <td>1.000000</td>\n",
       "    </tr>\n",
       "    <tr>\n",
       "      <th>1</th>\n",
       "      <td>Cold</td>\n",
       "      <td>Yellow</td>\n",
       "      <td>1</td>\n",
       "      <td>0.750000</td>\n",
       "    </tr>\n",
       "    <tr>\n",
       "      <th>2</th>\n",
       "      <td>Very Hot</td>\n",
       "      <td>Yellow</td>\n",
       "      <td>1</td>\n",
       "      <td>0.750000</td>\n",
       "    </tr>\n",
       "    <tr>\n",
       "      <th>3</th>\n",
       "      <td>Warm</td>\n",
       "      <td>Blue</td>\n",
       "      <td>0</td>\n",
       "      <td>0.333333</td>\n",
       "    </tr>\n",
       "    <tr>\n",
       "      <th>4</th>\n",
       "      <td>Hot</td>\n",
       "      <td>Red</td>\n",
       "      <td>1</td>\n",
       "      <td>1.000000</td>\n",
       "    </tr>\n",
       "  </tbody>\n",
       "</table>\n",
       "</div>"
      ],
      "text/plain": [
       "  Temperature   Color  Target     Color\n",
       "0         Hot     Red       1  1.000000\n",
       "1        Cold  Yellow       1  0.750000\n",
       "2    Very Hot  Yellow       1  0.750000\n",
       "3        Warm    Blue       0  0.333333\n",
       "4         Hot     Red       1  1.000000"
      ]
     },
     "execution_count": 157,
     "metadata": {},
     "output_type": "execute_result"
    }
   ],
   "source": [
    "encoder = ce.JamesSteinEncoder(cols=['Color'])\n",
    "dfj = encoder.fit_transform(df['Color'], df['Target'])\n",
    "dfJS = pd.concat([df, dfj], axis=1)\n",
    "\n",
    "dfJS.head()"
   ]
  },
  {
   "cell_type": "markdown",
   "id": "66f9b5b4",
   "metadata": {},
   "source": [
    "### M-estimator Encoding"
   ]
  },
  {
   "cell_type": "markdown",
   "id": "5a2ade6b",
   "metadata": {},
   "source": [
    "M-Estimate Encoder is a simplified version of Target Encoder. It has only one hyper-parameter — m, which represents the power of regularization. The higher the value of m results, into stronger shrinking. Recommended values for m is in the range of 1 to 100."
   ]
  },
  {
   "cell_type": "code",
   "execution_count": 158,
   "id": "f254ace7",
   "metadata": {},
   "outputs": [
    {
     "data": {
      "text/html": [
       "<div>\n",
       "<style scoped>\n",
       "    .dataframe tbody tr th:only-of-type {\n",
       "        vertical-align: middle;\n",
       "    }\n",
       "\n",
       "    .dataframe tbody tr th {\n",
       "        vertical-align: top;\n",
       "    }\n",
       "\n",
       "    .dataframe thead th {\n",
       "        text-align: right;\n",
       "    }\n",
       "</style>\n",
       "<table border=\"1\" class=\"dataframe\">\n",
       "  <thead>\n",
       "    <tr style=\"text-align: right;\">\n",
       "      <th></th>\n",
       "      <th>Temperature</th>\n",
       "      <th>Color</th>\n",
       "      <th>Target</th>\n",
       "      <th>Color</th>\n",
       "    </tr>\n",
       "  </thead>\n",
       "  <tbody>\n",
       "    <tr>\n",
       "      <th>0</th>\n",
       "      <td>Hot</td>\n",
       "      <td>Red</td>\n",
       "      <td>1</td>\n",
       "      <td>0.925</td>\n",
       "    </tr>\n",
       "    <tr>\n",
       "      <th>1</th>\n",
       "      <td>Cold</td>\n",
       "      <td>Yellow</td>\n",
       "      <td>1</td>\n",
       "      <td>0.740</td>\n",
       "    </tr>\n",
       "    <tr>\n",
       "      <th>2</th>\n",
       "      <td>Very Hot</td>\n",
       "      <td>Yellow</td>\n",
       "      <td>1</td>\n",
       "      <td>0.740</td>\n",
       "    </tr>\n",
       "    <tr>\n",
       "      <th>3</th>\n",
       "      <td>Warm</td>\n",
       "      <td>Blue</td>\n",
       "      <td>0</td>\n",
       "      <td>0.425</td>\n",
       "    </tr>\n",
       "    <tr>\n",
       "      <th>4</th>\n",
       "      <td>Hot</td>\n",
       "      <td>Red</td>\n",
       "      <td>1</td>\n",
       "      <td>0.925</td>\n",
       "    </tr>\n",
       "    <tr>\n",
       "      <th>5</th>\n",
       "      <td>Warm</td>\n",
       "      <td>Blue</td>\n",
       "      <td>0</td>\n",
       "      <td>0.425</td>\n",
       "    </tr>\n",
       "    <tr>\n",
       "      <th>6</th>\n",
       "      <td>Warm</td>\n",
       "      <td>Blue</td>\n",
       "      <td>1</td>\n",
       "      <td>0.425</td>\n",
       "    </tr>\n",
       "    <tr>\n",
       "      <th>7</th>\n",
       "      <td>Hot</td>\n",
       "      <td>Yellow</td>\n",
       "      <td>0</td>\n",
       "      <td>0.740</td>\n",
       "    </tr>\n",
       "    <tr>\n",
       "      <th>8</th>\n",
       "      <td>Hot</td>\n",
       "      <td>Red</td>\n",
       "      <td>1</td>\n",
       "      <td>0.925</td>\n",
       "    </tr>\n",
       "    <tr>\n",
       "      <th>9</th>\n",
       "      <td>Cold</td>\n",
       "      <td>Yellow</td>\n",
       "      <td>1</td>\n",
       "      <td>0.740</td>\n",
       "    </tr>\n",
       "  </tbody>\n",
       "</table>\n",
       "</div>"
      ],
      "text/plain": [
       "  Temperature   Color  Target  Color\n",
       "0         Hot     Red       1  0.925\n",
       "1        Cold  Yellow       1  0.740\n",
       "2    Very Hot  Yellow       1  0.740\n",
       "3        Warm    Blue       0  0.425\n",
       "4         Hot     Red       1  0.925\n",
       "5        Warm    Blue       0  0.425\n",
       "6        Warm    Blue       1  0.425\n",
       "7         Hot  Yellow       0  0.740\n",
       "8         Hot     Red       1  0.925\n",
       "9        Cold  Yellow       1  0.740"
      ]
     },
     "execution_count": 158,
     "metadata": {},
     "output_type": "execute_result"
    }
   ],
   "source": [
    "encoder = ce.MEstimateEncoder(cols=['Color'])\n",
    "dfm = encoder.fit_transform(df['Color'], df['Target'])\n",
    "dfmE = pd.concat([df, dfm], axis=1)\n",
    "\n",
    "dfmE"
   ]
  },
  {
   "cell_type": "markdown",
   "id": "6fc97243",
   "metadata": {},
   "source": [
    "### CatBoost Encoding"
   ]
  },
  {
   "cell_type": "markdown",
   "id": "af4d9ec3",
   "metadata": {},
   "source": [
    "This is very similar to leave-one-out encoding, but calculates the values “on-the-fly”."
   ]
  },
  {
   "cell_type": "code",
   "execution_count": 159,
   "id": "5b4f83cb",
   "metadata": {},
   "outputs": [
    {
     "data": {
      "text/html": [
       "<div>\n",
       "<style scoped>\n",
       "    .dataframe tbody tr th:only-of-type {\n",
       "        vertical-align: middle;\n",
       "    }\n",
       "\n",
       "    .dataframe tbody tr th {\n",
       "        vertical-align: top;\n",
       "    }\n",
       "\n",
       "    .dataframe thead th {\n",
       "        text-align: right;\n",
       "    }\n",
       "</style>\n",
       "<table border=\"1\" class=\"dataframe\">\n",
       "  <thead>\n",
       "    <tr style=\"text-align: right;\">\n",
       "      <th></th>\n",
       "      <th>Temperature</th>\n",
       "      <th>Color</th>\n",
       "      <th>Target</th>\n",
       "      <th>Color</th>\n",
       "    </tr>\n",
       "  </thead>\n",
       "  <tbody>\n",
       "    <tr>\n",
       "      <th>0</th>\n",
       "      <td>Hot</td>\n",
       "      <td>Red</td>\n",
       "      <td>1</td>\n",
       "      <td>0.700000</td>\n",
       "    </tr>\n",
       "    <tr>\n",
       "      <th>1</th>\n",
       "      <td>Cold</td>\n",
       "      <td>Yellow</td>\n",
       "      <td>1</td>\n",
       "      <td>0.700000</td>\n",
       "    </tr>\n",
       "    <tr>\n",
       "      <th>2</th>\n",
       "      <td>Very Hot</td>\n",
       "      <td>Yellow</td>\n",
       "      <td>1</td>\n",
       "      <td>0.850000</td>\n",
       "    </tr>\n",
       "    <tr>\n",
       "      <th>3</th>\n",
       "      <td>Warm</td>\n",
       "      <td>Blue</td>\n",
       "      <td>0</td>\n",
       "      <td>0.700000</td>\n",
       "    </tr>\n",
       "    <tr>\n",
       "      <th>4</th>\n",
       "      <td>Hot</td>\n",
       "      <td>Red</td>\n",
       "      <td>1</td>\n",
       "      <td>0.850000</td>\n",
       "    </tr>\n",
       "    <tr>\n",
       "      <th>5</th>\n",
       "      <td>Warm</td>\n",
       "      <td>Blue</td>\n",
       "      <td>0</td>\n",
       "      <td>0.350000</td>\n",
       "    </tr>\n",
       "    <tr>\n",
       "      <th>6</th>\n",
       "      <td>Warm</td>\n",
       "      <td>Blue</td>\n",
       "      <td>1</td>\n",
       "      <td>0.233333</td>\n",
       "    </tr>\n",
       "    <tr>\n",
       "      <th>7</th>\n",
       "      <td>Hot</td>\n",
       "      <td>Yellow</td>\n",
       "      <td>0</td>\n",
       "      <td>0.900000</td>\n",
       "    </tr>\n",
       "    <tr>\n",
       "      <th>8</th>\n",
       "      <td>Hot</td>\n",
       "      <td>Red</td>\n",
       "      <td>1</td>\n",
       "      <td>0.900000</td>\n",
       "    </tr>\n",
       "    <tr>\n",
       "      <th>9</th>\n",
       "      <td>Cold</td>\n",
       "      <td>Yellow</td>\n",
       "      <td>1</td>\n",
       "      <td>0.675000</td>\n",
       "    </tr>\n",
       "  </tbody>\n",
       "</table>\n",
       "</div>"
      ],
      "text/plain": [
       "  Temperature   Color  Target     Color\n",
       "0         Hot     Red       1  0.700000\n",
       "1        Cold  Yellow       1  0.700000\n",
       "2    Very Hot  Yellow       1  0.850000\n",
       "3        Warm    Blue       0  0.700000\n",
       "4         Hot     Red       1  0.850000\n",
       "5        Warm    Blue       0  0.350000\n",
       "6        Warm    Blue       1  0.233333\n",
       "7         Hot  Yellow       0  0.900000\n",
       "8         Hot     Red       1  0.900000\n",
       "9        Cold  Yellow       1  0.675000"
      ]
     },
     "execution_count": 159,
     "metadata": {},
     "output_type": "execute_result"
    }
   ],
   "source": [
    "encoder = ce.CatBoostEncoder(cols=['Color'])\n",
    "dfc = encoder.fit_transform(df['Color'], df['Target'])\n",
    "dfCB = pd.concat([df, dfc], axis=1)\n",
    "\n",
    "dfCB"
   ]
  },
  {
   "cell_type": "markdown",
   "id": "874538fa",
   "metadata": {},
   "source": [
    "## Feature Tranformation (Feature Scaling)"
   ]
  },
  {
   "cell_type": "markdown",
   "id": "a329f06c",
   "metadata": {},
   "source": [
    "Why Transformation of Features Are Required?\n",
    "\n",
    "For algorithms like Linear Regression which uses Gradient Descent to find the Global Minima, if we don't have all the features in same scale, the comparisons made by our algorithm will be misleading, thus it may not perform well.\n",
    "\n",
    "    Linear Regression---Gradient Descent ----Global Minima\n",
    "\n",
    "\n",
    "\n",
    "While, for the algorithms which use Eucledian Distance like Tree based methods, it doesn't matter.\n",
    "\n",
    "    Algorithms like KNN,K Means,Hierarichal Clustering--- Eucledian Distance\n",
    "\n",
    "Deep Learning Techniques(Standardization, Scaling)\n",
    "1. ANN--->GLobal Minima, Gradient\n",
    "2. CNN \n",
    "3. RNN\n",
    "\n",
    "0-255 pixels"
   ]
  },
  {
   "cell_type": "markdown",
   "id": "a08da1a1",
   "metadata": {},
   "source": [
    "### Types Of Transformation"
   ]
  },
  {
   "cell_type": "markdown",
   "id": "3e94a0e7",
   "metadata": {},
   "source": [
    "1. Standardization\n",
    "2. Scaling to Minimum And Maximum values (Normalization)\n",
    "3. Scaling To Median And Quartiles (Robust Scaler)\n",
    "4. Guassian Transformation\n",
    "    - Logarithmic Transformation\n",
    "    - Reciprocal Transformation\n",
    "    - Square Root Transformation\n",
    "    - Exponential Transformation\n",
    "    - Box Cox Transformation"
   ]
  },
  {
   "cell_type": "markdown",
   "id": "dde7c25a",
   "metadata": {},
   "source": [
    "### Standardization"
   ]
  },
  {
   "cell_type": "code",
   "execution_count": 166,
   "id": "4b583ad6",
   "metadata": {
    "scrolled": true
   },
   "outputs": [
    {
     "data": {
      "text/html": [
       "<div>\n",
       "<style scoped>\n",
       "    .dataframe tbody tr th:only-of-type {\n",
       "        vertical-align: middle;\n",
       "    }\n",
       "\n",
       "    .dataframe tbody tr th {\n",
       "        vertical-align: top;\n",
       "    }\n",
       "\n",
       "    .dataframe thead th {\n",
       "        text-align: right;\n",
       "    }\n",
       "</style>\n",
       "<table border=\"1\" class=\"dataframe\">\n",
       "  <thead>\n",
       "    <tr style=\"text-align: right;\">\n",
       "      <th></th>\n",
       "      <th>Feature</th>\n",
       "    </tr>\n",
       "  </thead>\n",
       "  <tbody>\n",
       "    <tr>\n",
       "      <th>0</th>\n",
       "      <td>26</td>\n",
       "    </tr>\n",
       "    <tr>\n",
       "      <th>1</th>\n",
       "      <td>8</td>\n",
       "    </tr>\n",
       "    <tr>\n",
       "      <th>2</th>\n",
       "      <td>22</td>\n",
       "    </tr>\n",
       "    <tr>\n",
       "      <th>3</th>\n",
       "      <td>21</td>\n",
       "    </tr>\n",
       "    <tr>\n",
       "      <th>4</th>\n",
       "      <td>69</td>\n",
       "    </tr>\n",
       "  </tbody>\n",
       "</table>\n",
       "</div>"
      ],
      "text/plain": [
       "   Feature\n",
       "0       26\n",
       "1        8\n",
       "2       22\n",
       "3       21\n",
       "4       69"
      ]
     },
     "execution_count": 166,
     "metadata": {},
     "output_type": "execute_result"
    }
   ],
   "source": [
    "df = pd.DataFrame(data = {\"Feature\": np.random.randint(1, 100, 100)})\n",
    "\n",
    "df.head()"
   ]
  },
  {
   "cell_type": "code",
   "execution_count": 167,
   "id": "1c57b56f",
   "metadata": {
    "scrolled": true
   },
   "outputs": [
    {
     "data": {
      "text/plain": [
       "<AxesSubplot:xlabel='Feature', ylabel='Count'>"
      ]
     },
     "execution_count": 167,
     "metadata": {},
     "output_type": "execute_result"
    },
    {
     "data": {
      "image/png": "[encoded data removed]",
      "text/plain": [
       "<Figure size 432x288 with 1 Axes>"
      ]
     },
     "metadata": {
      "needs_background": "light"
     },
     "output_type": "display_data"
    }
   ],
   "source": [
    "sns.histplot(x = df['Feature'], bins = 20, kde = True)"
   ]
  },
  {
   "cell_type": "code",
   "execution_count": 171,
   "id": "cdcc41c6",
   "metadata": {},
   "outputs": [
    {
     "data": {
      "text/html": [
       "<div>\n",
       "<style scoped>\n",
       "    .dataframe tbody tr th:only-of-type {\n",
       "        vertical-align: middle;\n",
       "    }\n",
       "\n",
       "    .dataframe tbody tr th {\n",
       "        vertical-align: top;\n",
       "    }\n",
       "\n",
       "    .dataframe thead th {\n",
       "        text-align: right;\n",
       "    }\n",
       "</style>\n",
       "<table border=\"1\" class=\"dataframe\">\n",
       "  <thead>\n",
       "    <tr style=\"text-align: right;\">\n",
       "      <th></th>\n",
       "      <th>Scaled_Feature</th>\n",
       "    </tr>\n",
       "  </thead>\n",
       "  <tbody>\n",
       "    <tr>\n",
       "      <th>0</th>\n",
       "      <td>-0.855056</td>\n",
       "    </tr>\n",
       "    <tr>\n",
       "      <th>1</th>\n",
       "      <td>-1.489214</td>\n",
       "    </tr>\n",
       "    <tr>\n",
       "      <th>2</th>\n",
       "      <td>-0.995980</td>\n",
       "    </tr>\n",
       "    <tr>\n",
       "      <th>3</th>\n",
       "      <td>-1.031211</td>\n",
       "    </tr>\n",
       "    <tr>\n",
       "      <th>4</th>\n",
       "      <td>0.659876</td>\n",
       "    </tr>\n",
       "    <tr>\n",
       "      <th>...</th>\n",
       "      <td>...</td>\n",
       "    </tr>\n",
       "    <tr>\n",
       "      <th>95</th>\n",
       "      <td>-1.172135</td>\n",
       "    </tr>\n",
       "    <tr>\n",
       "      <th>96</th>\n",
       "      <td>0.589415</td>\n",
       "    </tr>\n",
       "    <tr>\n",
       "      <th>97</th>\n",
       "      <td>-0.678901</td>\n",
       "    </tr>\n",
       "    <tr>\n",
       "      <th>98</th>\n",
       "      <td>-1.348290</td>\n",
       "    </tr>\n",
       "    <tr>\n",
       "      <th>99</th>\n",
       "      <td>-0.678901</td>\n",
       "    </tr>\n",
       "  </tbody>\n",
       "</table>\n",
       "<p>100 rows × 1 columns</p>\n",
       "</div>"
      ],
      "text/plain": [
       "    Scaled_Feature\n",
       "0        -0.855056\n",
       "1        -1.489214\n",
       "2        -0.995980\n",
       "3        -1.031211\n",
       "4         0.659876\n",
       "..             ...\n",
       "95       -1.172135\n",
       "96        0.589415\n",
       "97       -0.678901\n",
       "98       -1.348290\n",
       "99       -0.678901\n",
       "\n",
       "[100 rows x 1 columns]"
      ]
     },
     "execution_count": 171,
     "metadata": {},
     "output_type": "execute_result"
    }
   ],
   "source": [
    "# Standardization\n",
    "\n",
    "from sklearn.preprocessing import StandardScaler\n",
    "\n",
    "st_scaler = StandardScaler()\n",
    "\n",
    "df_st_scaled = st_scaler.fit_transform(df)\n",
    "\n",
    "df_st_scaled = pd.DataFrame(data = df_st_scaled, columns=[\"Scaled_Feature\"])\n",
    "\n",
    "df_st_scaled"
   ]
  },
  {
   "cell_type": "markdown",
   "id": "994260ad",
   "metadata": {},
   "source": [
    "### Normalization"
   ]
  },
  {
   "cell_type": "code",
   "execution_count": 172,
   "id": "80d94492",
   "metadata": {},
   "outputs": [
    {
     "data": {
      "text/html": [
       "<div>\n",
       "<style scoped>\n",
       "    .dataframe tbody tr th:only-of-type {\n",
       "        vertical-align: middle;\n",
       "    }\n",
       "\n",
       "    .dataframe tbody tr th {\n",
       "        vertical-align: top;\n",
       "    }\n",
       "\n",
       "    .dataframe thead th {\n",
       "        text-align: right;\n",
       "    }\n",
       "</style>\n",
       "<table border=\"1\" class=\"dataframe\">\n",
       "  <thead>\n",
       "    <tr style=\"text-align: right;\">\n",
       "      <th></th>\n",
       "      <th>Scaled_Feature</th>\n",
       "    </tr>\n",
       "  </thead>\n",
       "  <tbody>\n",
       "    <tr>\n",
       "      <th>0</th>\n",
       "      <td>0.255102</td>\n",
       "    </tr>\n",
       "    <tr>\n",
       "      <th>1</th>\n",
       "      <td>0.071429</td>\n",
       "    </tr>\n",
       "    <tr>\n",
       "      <th>2</th>\n",
       "      <td>0.214286</td>\n",
       "    </tr>\n",
       "    <tr>\n",
       "      <th>3</th>\n",
       "      <td>0.204082</td>\n",
       "    </tr>\n",
       "    <tr>\n",
       "      <th>4</th>\n",
       "      <td>0.693878</td>\n",
       "    </tr>\n",
       "    <tr>\n",
       "      <th>...</th>\n",
       "      <td>...</td>\n",
       "    </tr>\n",
       "    <tr>\n",
       "      <th>95</th>\n",
       "      <td>0.163265</td>\n",
       "    </tr>\n",
       "    <tr>\n",
       "      <th>96</th>\n",
       "      <td>0.673469</td>\n",
       "    </tr>\n",
       "    <tr>\n",
       "      <th>97</th>\n",
       "      <td>0.306122</td>\n",
       "    </tr>\n",
       "    <tr>\n",
       "      <th>98</th>\n",
       "      <td>0.112245</td>\n",
       "    </tr>\n",
       "    <tr>\n",
       "      <th>99</th>\n",
       "      <td>0.306122</td>\n",
       "    </tr>\n",
       "  </tbody>\n",
       "</table>\n",
       "<p>100 rows × 1 columns</p>\n",
       "</div>"
      ],
      "text/plain": [
       "    Scaled_Feature\n",
       "0         0.255102\n",
       "1         0.071429\n",
       "2         0.214286\n",
       "3         0.204082\n",
       "4         0.693878\n",
       "..             ...\n",
       "95        0.163265\n",
       "96        0.673469\n",
       "97        0.306122\n",
       "98        0.112245\n",
       "99        0.306122\n",
       "\n",
       "[100 rows x 1 columns]"
      ]
     },
     "execution_count": 172,
     "metadata": {},
     "output_type": "execute_result"
    }
   ],
   "source": [
    "# Normalization or Min Max Scaling\n",
    "# Mostly used in Deep Learning techniques like CNN\n",
    "\n",
    "from sklearn.preprocessing import MinMaxScaler\n",
    "\n",
    "mm_scaler = MinMaxScaler()\n",
    "\n",
    "df_mm_scaled = mm_scaler.fit_transform(df)\n",
    "\n",
    "df_mm_scaled = pd.DataFrame(data = df_mm_scaled, columns=[\"Scaled_Feature\"])\n",
    "\n",
    "df_mm_scaled"
   ]
  },
  {
   "cell_type": "markdown",
   "id": "cc78e046",
   "metadata": {},
   "source": [
    "### Robust Scaler"
   ]
  },
  {
   "cell_type": "markdown",
   "id": "712dff47",
   "metadata": {},
   "source": [
    "It is used to scale the feature to median and quartiles.\n",
    "\n",
    "1. First Subtract all the values with the median value of that column\n",
    "2. Then, divide all these features with IQR"
   ]
  },
  {
   "cell_type": "code",
   "execution_count": 176,
   "id": "8ca04236",
   "metadata": {},
   "outputs": [
    {
     "data": {
      "text/plain": [
       "0    26\n",
       "1     8\n",
       "2    22\n",
       "3    21\n",
       "4    69\n",
       "Name: Feature, dtype: int32"
      ]
     },
     "execution_count": 176,
     "metadata": {},
     "output_type": "execute_result"
    }
   ],
   "source": [
    "# Let's do it manually and check\n",
    "\n",
    "df[\"Feature\"].head()"
   ]
  },
  {
   "cell_type": "code",
   "execution_count": 209,
   "id": "d8c3c363",
   "metadata": {
    "scrolled": false
   },
   "outputs": [
    {
     "data": {
      "text/plain": [
       "0    -0.55\n",
       "1    -0.91\n",
       "2    -0.63\n",
       "3    -0.65\n",
       "4     0.31\n",
       "      ... \n",
       "95   -0.73\n",
       "96    0.27\n",
       "97   -0.45\n",
       "98   -0.83\n",
       "99   -0.45\n",
       "Name: Feature, Length: 100, dtype: float64"
      ]
     },
     "execution_count": 209,
     "metadata": {},
     "output_type": "execute_result"
    }
   ],
   "source": [
    "iqr = np.percentile(df[\"Feature\"], 75) - np.percentile(df[\"Feature\"], 25)\n",
    "\n",
    "(df['Feature']-df['Feature'].median())/iqr"
   ]
  },
  {
   "cell_type": "code",
   "execution_count": 187,
   "id": "fad891ee",
   "metadata": {},
   "outputs": [
    {
     "data": {
      "text/html": [
       "<div>\n",
       "<style scoped>\n",
       "    .dataframe tbody tr th:only-of-type {\n",
       "        vertical-align: middle;\n",
       "    }\n",
       "\n",
       "    .dataframe tbody tr th {\n",
       "        vertical-align: top;\n",
       "    }\n",
       "\n",
       "    .dataframe thead th {\n",
       "        text-align: right;\n",
       "    }\n",
       "</style>\n",
       "<table border=\"1\" class=\"dataframe\">\n",
       "  <thead>\n",
       "    <tr style=\"text-align: right;\">\n",
       "      <th></th>\n",
       "      <th>Robust_Scaled_Feature</th>\n",
       "    </tr>\n",
       "  </thead>\n",
       "  <tbody>\n",
       "    <tr>\n",
       "      <th>0</th>\n",
       "      <td>-0.55</td>\n",
       "    </tr>\n",
       "    <tr>\n",
       "      <th>1</th>\n",
       "      <td>-0.91</td>\n",
       "    </tr>\n",
       "    <tr>\n",
       "      <th>2</th>\n",
       "      <td>-0.63</td>\n",
       "    </tr>\n",
       "    <tr>\n",
       "      <th>3</th>\n",
       "      <td>-0.65</td>\n",
       "    </tr>\n",
       "    <tr>\n",
       "      <th>4</th>\n",
       "      <td>0.31</td>\n",
       "    </tr>\n",
       "    <tr>\n",
       "      <th>...</th>\n",
       "      <td>...</td>\n",
       "    </tr>\n",
       "    <tr>\n",
       "      <th>95</th>\n",
       "      <td>-0.73</td>\n",
       "    </tr>\n",
       "    <tr>\n",
       "      <th>96</th>\n",
       "      <td>0.27</td>\n",
       "    </tr>\n",
       "    <tr>\n",
       "      <th>97</th>\n",
       "      <td>-0.45</td>\n",
       "    </tr>\n",
       "    <tr>\n",
       "      <th>98</th>\n",
       "      <td>-0.83</td>\n",
       "    </tr>\n",
       "    <tr>\n",
       "      <th>99</th>\n",
       "      <td>-0.45</td>\n",
       "    </tr>\n",
       "  </tbody>\n",
       "</table>\n",
       "<p>100 rows × 1 columns</p>\n",
       "</div>"
      ],
      "text/plain": [
       "    Robust_Scaled_Feature\n",
       "0                   -0.55\n",
       "1                   -0.91\n",
       "2                   -0.63\n",
       "3                   -0.65\n",
       "4                    0.31\n",
       "..                    ...\n",
       "95                  -0.73\n",
       "96                   0.27\n",
       "97                  -0.45\n",
       "98                  -0.83\n",
       "99                  -0.45\n",
       "\n",
       "[100 rows x 1 columns]"
      ]
     },
     "execution_count": 187,
     "metadata": {},
     "output_type": "execute_result"
    }
   ],
   "source": [
    "# Now, let's do it with sklearn library\n",
    "\n",
    "from sklearn.preprocessing import RobustScaler\n",
    "rb_scaler = RobustScaler()\n",
    "df_rb_scaler = rb_scaler.fit_transform(df)\n",
    "\n",
    "pd.DataFrame(df_rb_scaler, columns = [\"Robust_Scaled_Feature\"])"
   ]
  },
  {
   "cell_type": "markdown",
   "id": "0ca98cfd",
   "metadata": {},
   "source": [
    "### Guassian Transformation"
   ]
  },
  {
   "cell_type": "markdown",
   "id": "84367ccf",
   "metadata": {},
   "source": [
    "- Our machine learning algorithms perform well with Normal distributed data.\n",
    "- But in real world problems, most of the features are not normally distributed and there will be some skewness in the features.\n",
    "- By transforming these features into one of the following transformations, there is a chance that the transformed data will look more like a normal distribution(or Guassian Distribution), so we transform and check.\n",
    "    - Logarithmic Transformation\n",
    "    - Reciprocal Transformation\n",
    "    - Square Root Transformation\n",
    "    - Exponential Transformation\n",
    "    - Box Cox Transformation"
   ]
  },
  {
   "cell_type": "code",
   "execution_count": 254,
   "id": "480f56a6",
   "metadata": {},
   "outputs": [],
   "source": [
    "# Let's create few dataframes to understand the transformations properly\n",
    "import math\n",
    "\n",
    "df = pd.DataFrame(np.random.randn(100), columns = ['feat'])\n",
    "\n",
    "df['log_feat'] =math.e**df['feat']\n",
    "df['recip_feat'] = 1/df['feat']\n",
    "df['sq_feat'] = df['feat']**2\n",
    "df['exp_feat'] = np.log(np.random.randint(low = 10, high = 100, size = 100))  # We just considered e as exponent.\n",
    "\n",
    "# These features are created for explanation, to show how varaibles look before, how they get transformed into guassian distribution later."
   ]
  },
  {
   "cell_type": "code",
   "execution_count": 349,
   "id": "688af324",
   "metadata": {},
   "outputs": [
    {
     "data": {
      "text/html": [
       "<div>\n",
       "<style scoped>\n",
       "    .dataframe tbody tr th:only-of-type {\n",
       "        vertical-align: middle;\n",
       "    }\n",
       "\n",
       "    .dataframe tbody tr th {\n",
       "        vertical-align: top;\n",
       "    }\n",
       "\n",
       "    .dataframe thead th {\n",
       "        text-align: right;\n",
       "    }\n",
       "</style>\n",
       "<table border=\"1\" class=\"dataframe\">\n",
       "  <thead>\n",
       "    <tr style=\"text-align: right;\">\n",
       "      <th></th>\n",
       "      <th>feat</th>\n",
       "      <th>log_feat</th>\n",
       "      <th>recip_feat</th>\n",
       "      <th>sq_feat</th>\n",
       "      <th>exp_feat</th>\n",
       "      <th>log_trans</th>\n",
       "      <th>recip_trans</th>\n",
       "    </tr>\n",
       "  </thead>\n",
       "  <tbody>\n",
       "    <tr>\n",
       "      <th>0</th>\n",
       "      <td>0.448047</td>\n",
       "      <td>1.565252</td>\n",
       "      <td>2.231911</td>\n",
       "      <td>0.200746</td>\n",
       "      <td>2.484907</td>\n",
       "      <td>0.448047</td>\n",
       "      <td>0.802858</td>\n",
       "    </tr>\n",
       "    <tr>\n",
       "      <th>1</th>\n",
       "      <td>-0.498756</td>\n",
       "      <td>0.607286</td>\n",
       "      <td>-2.004990</td>\n",
       "      <td>0.248757</td>\n",
       "      <td>4.007333</td>\n",
       "      <td>-0.498756</td>\n",
       "      <td>NaN</td>\n",
       "    </tr>\n",
       "    <tr>\n",
       "      <th>2</th>\n",
       "      <td>1.093471</td>\n",
       "      <td>2.984614</td>\n",
       "      <td>0.914519</td>\n",
       "      <td>1.195678</td>\n",
       "      <td>3.178054</td>\n",
       "      <td>1.093471</td>\n",
       "      <td>-0.089357</td>\n",
       "    </tr>\n",
       "    <tr>\n",
       "      <th>3</th>\n",
       "      <td>0.460825</td>\n",
       "      <td>1.585381</td>\n",
       "      <td>2.170023</td>\n",
       "      <td>0.212359</td>\n",
       "      <td>4.488636</td>\n",
       "      <td>0.460825</td>\n",
       "      <td>0.774738</td>\n",
       "    </tr>\n",
       "    <tr>\n",
       "      <th>4</th>\n",
       "      <td>0.655084</td>\n",
       "      <td>1.925305</td>\n",
       "      <td>1.526521</td>\n",
       "      <td>0.429136</td>\n",
       "      <td>2.397895</td>\n",
       "      <td>0.655084</td>\n",
       "      <td>0.422991</td>\n",
       "    </tr>\n",
       "    <tr>\n",
       "      <th>...</th>\n",
       "      <td>...</td>\n",
       "      <td>...</td>\n",
       "      <td>...</td>\n",
       "      <td>...</td>\n",
       "      <td>...</td>\n",
       "      <td>...</td>\n",
       "      <td>...</td>\n",
       "    </tr>\n",
       "    <tr>\n",
       "      <th>95</th>\n",
       "      <td>0.990552</td>\n",
       "      <td>2.692719</td>\n",
       "      <td>1.009539</td>\n",
       "      <td>0.981192</td>\n",
       "      <td>4.477337</td>\n",
       "      <td>0.990552</td>\n",
       "      <td>0.009493</td>\n",
       "    </tr>\n",
       "    <tr>\n",
       "      <th>96</th>\n",
       "      <td>-1.317617</td>\n",
       "      <td>0.267773</td>\n",
       "      <td>-0.758946</td>\n",
       "      <td>1.736115</td>\n",
       "      <td>2.995732</td>\n",
       "      <td>-1.317617</td>\n",
       "      <td>NaN</td>\n",
       "    </tr>\n",
       "    <tr>\n",
       "      <th>97</th>\n",
       "      <td>-0.062381</td>\n",
       "      <td>0.939525</td>\n",
       "      <td>-16.030532</td>\n",
       "      <td>0.003891</td>\n",
       "      <td>4.143135</td>\n",
       "      <td>-0.062381</td>\n",
       "      <td>NaN</td>\n",
       "    </tr>\n",
       "    <tr>\n",
       "      <th>98</th>\n",
       "      <td>-0.677567</td>\n",
       "      <td>0.507851</td>\n",
       "      <td>-1.475869</td>\n",
       "      <td>0.459097</td>\n",
       "      <td>3.044522</td>\n",
       "      <td>-0.677567</td>\n",
       "      <td>NaN</td>\n",
       "    </tr>\n",
       "    <tr>\n",
       "      <th>99</th>\n",
       "      <td>-0.888242</td>\n",
       "      <td>0.411378</td>\n",
       "      <td>-1.125819</td>\n",
       "      <td>0.788975</td>\n",
       "      <td>4.488636</td>\n",
       "      <td>-0.888242</td>\n",
       "      <td>NaN</td>\n",
       "    </tr>\n",
       "  </tbody>\n",
       "</table>\n",
       "<p>100 rows × 7 columns</p>\n",
       "</div>"
      ],
      "text/plain": [
       "        feat  log_feat  recip_feat   sq_feat  exp_feat  log_trans  recip_trans\n",
       "0   0.448047  1.565252    2.231911  0.200746  2.484907   0.448047     0.802858\n",
       "1  -0.498756  0.607286   -2.004990  0.248757  4.007333  -0.498756          NaN\n",
       "2   1.093471  2.984614    0.914519  1.195678  3.178054   1.093471    -0.089357\n",
       "3   0.460825  1.585381    2.170023  0.212359  4.488636   0.460825     0.774738\n",
       "4   0.655084  1.925305    1.526521  0.429136  2.397895   0.655084     0.422991\n",
       "..       ...       ...         ...       ...       ...        ...          ...\n",
       "95  0.990552  2.692719    1.009539  0.981192  4.477337   0.990552     0.009493\n",
       "96 -1.317617  0.267773   -0.758946  1.736115  2.995732  -1.317617          NaN\n",
       "97 -0.062381  0.939525  -16.030532  0.003891  4.143135  -0.062381          NaN\n",
       "98 -0.677567  0.507851   -1.475869  0.459097  3.044522  -0.677567          NaN\n",
       "99 -0.888242  0.411378   -1.125819  0.788975  4.488636  -0.888242          NaN\n",
       "\n",
       "[100 rows x 7 columns]"
      ]
     },
     "execution_count": 349,
     "metadata": {},
     "output_type": "execute_result"
    }
   ],
   "source": [
    "df"
   ]
  },
  {
   "cell_type": "code",
   "execution_count": 333,
   "id": "81fa29d2",
   "metadata": {},
   "outputs": [],
   "source": [
    "# first let's create function to check how close our transformed feature is to a guassian distribution\n",
    "\n",
    "from scipy import stats\n",
    "\n",
    "def guas_check(df, feature):\n",
    "    fig, ax = plt.subplots(figsize = (5, 5))\n",
    "    _ = stats.probplot(df[feature], plot = ax)"
   ]
  },
  {
   "cell_type": "markdown",
   "id": "2d34e156",
   "metadata": {},
   "source": [
    "#### Logarithmic Transformation"
   ]
  },
  {
   "cell_type": "code",
   "execution_count": 335,
   "id": "312b5c79",
   "metadata": {},
   "outputs": [
    {
     "data": {
      "text/plain": [
       "<AxesSubplot:xlabel='log_feat', ylabel='Count'>"
      ]
     },
     "execution_count": 335,
     "metadata": {},
     "output_type": "execute_result"
    },
    {
     "data": {
      "image/png": "[encoded data removed]",
      "text/plain": [
       "<Figure size 432x288 with 1 Axes>"
      ]
     },
     "metadata": {
      "needs_background": "light"
     },
     "output_type": "display_data"
    }
   ],
   "source": [
    "sns.histplot(df['log_feat'], kde=True, bins = 20)\n",
    "\n",
    "# Right skewed"
   ]
  },
  {
   "cell_type": "code",
   "execution_count": 336,
   "id": "c93a1f11",
   "metadata": {},
   "outputs": [
    {
     "data": {
      "image/png": "[encoded data removed]",
      "text/plain": [
       "<Figure size 360x360 with 1 Axes>"
      ]
     },
     "metadata": {
      "needs_background": "light"
     },
     "output_type": "display_data"
    }
   ],
   "source": [
    "guas_check(df, 'log_feat')\n",
    "\n",
    "# Not close to normal distribution"
   ]
  },
  {
   "cell_type": "code",
   "execution_count": 337,
   "id": "17388890",
   "metadata": {},
   "outputs": [],
   "source": [
    "# If logarithmic transformation works for this kind of data, then the result would be like this\n",
    "\n",
    "df['log_trans'] = np.log(df['log_feat'])"
   ]
  },
  {
   "cell_type": "code",
   "execution_count": 338,
   "id": "002479b6",
   "metadata": {},
   "outputs": [
    {
     "data": {
      "text/plain": [
       "<AxesSubplot:xlabel='log_trans', ylabel='Count'>"
      ]
     },
     "execution_count": 338,
     "metadata": {},
     "output_type": "execute_result"
    },
    {
     "data": {
      "image/png": "[encoded data removed]",
      "text/plain": [
       "<Figure size 432x288 with 1 Axes>"
      ]
     },
     "metadata": {
      "needs_background": "light"
     },
     "output_type": "display_data"
    }
   ],
   "source": [
    "sns.histplot(df['log_trans'], kde=True, bins = 20)"
   ]
  },
  {
   "cell_type": "code",
   "execution_count": 340,
   "id": "9e0885b3",
   "metadata": {},
   "outputs": [
    {
     "data": {
      "image/png": "[encoded data removed]",
      "text/plain": [
       "<Figure size 360x360 with 1 Axes>"
      ]
     },
     "metadata": {
      "needs_background": "light"
     },
     "output_type": "display_data"
    }
   ],
   "source": [
    "guas_check(df, 'log_trans')\n",
    "\n",
    "# Very close to a normal distribution"
   ]
  },
  {
   "cell_type": "markdown",
   "id": "aac9ff99",
   "metadata": {},
   "source": [
    "#### Reciprocal Transformation"
   ]
  },
  {
   "cell_type": "code",
   "execution_count": 341,
   "id": "f3607615",
   "metadata": {},
   "outputs": [
    {
     "data": {
      "text/plain": [
       "<AxesSubplot:xlabel='recip_feat', ylabel='Count'>"
      ]
     },
     "execution_count": 341,
     "metadata": {},
     "output_type": "execute_result"
    },
    {
     "data": {
      "image/png": "[encoded data removed]",
      "text/plain": [
       "<Figure size 432x288 with 1 Axes>"
      ]
     },
     "metadata": {
      "needs_background": "light"
     },
     "output_type": "display_data"
    }
   ],
   "source": [
    "sns.histplot(df['recip_feat'], kde=True, bins = 20)\n",
    "\n",
    "# Left Skewed"
   ]
  },
  {
   "cell_type": "code",
   "execution_count": 347,
   "id": "5a83a04e",
   "metadata": {},
   "outputs": [
    {
     "data": {
      "image/png": "[encoded data removed]",
      "text/plain": [
       "<Figure size 360x360 with 1 Axes>"
      ]
     },
     "metadata": {
      "needs_background": "light"
     },
     "output_type": "display_data"
    }
   ],
   "source": [
    "guas_check(df, 'recip_feat')\n",
    "\n",
    "# not close to normal distribution"
   ]
  },
  {
   "cell_type": "code",
   "execution_count": 350,
   "id": "5e79e75b",
   "metadata": {},
   "outputs": [],
   "source": [
    "# If reciprocal transformation works for this kind of data, then the result would be like this\n",
    "\n",
    "df['recip_trans'] = 1/df['recip_feat']"
   ]
  },
  {
   "cell_type": "code",
   "execution_count": 351,
   "id": "92510f32",
   "metadata": {},
   "outputs": [
    {
     "data": {
      "text/plain": [
       "<AxesSubplot:xlabel='recip_trans', ylabel='Count'>"
      ]
     },
     "execution_count": 351,
     "metadata": {},
     "output_type": "execute_result"
    },
    {
     "data": {
      "image/png": "[encoded data removed]",
      "text/plain": [
       "<Figure size 432x288 with 1 Axes>"
      ]
     },
     "metadata": {
      "needs_background": "light"
     },
     "output_type": "display_data"
    }
   ],
   "source": [
    "sns.histplot(df['recip_trans'], kde=True, bins = 20)"
   ]
  },
  {
   "cell_type": "code",
   "execution_count": 352,
   "id": "025d4d4e",
   "metadata": {},
   "outputs": [
    {
     "data": {
      "image/png": "[encoded data removed]",
      "text/plain": [
       "<Figure size 360x360 with 1 Axes>"
      ]
     },
     "metadata": {
      "needs_background": "light"
     },
     "output_type": "display_data"
    }
   ],
   "source": [
    "guas_check(df, 'recip_trans')\n",
    "\n",
    "# Very close to a normal distribution"
   ]
  },
  {
   "cell_type": "markdown",
   "id": "26647986",
   "metadata": {},
   "source": [
    "#### Square Root Transformation"
   ]
  },
  {
   "cell_type": "code",
   "execution_count": 354,
   "id": "7b016f9b",
   "metadata": {},
   "outputs": [
    {
     "data": {
      "text/plain": [
       "<AxesSubplot:xlabel='sq_feat', ylabel='Count'>"
      ]
     },
     "execution_count": 354,
     "metadata": {},
     "output_type": "execute_result"
    },
    {
     "data": {
      "image/png": "[encoded data removed]",
      "text/plain": [
       "<Figure size 432x288 with 1 Axes>"
      ]
     },
     "metadata": {
      "needs_background": "light"
     },
     "output_type": "display_data"
    }
   ],
   "source": [
    "sns.histplot(df['sq_feat'], kde=True, bins = 20)\n",
    "\n",
    "# Right Skewed"
   ]
  },
  {
   "cell_type": "code",
   "execution_count": 355,
   "id": "15a8b9ab",
   "metadata": {},
   "outputs": [
    {
     "data": {
      "image/png": "[encoded data removed]",
      "text/plain": [
       "<Figure size 360x360 with 1 Axes>"
      ]
     },
     "metadata": {
      "needs_background": "light"
     },
     "output_type": "display_data"
    }
   ],
   "source": [
    "guas_check(df, 'sq_feat')\n",
    "\n",
    "# not close to normal distribution"
   ]
  },
  {
   "cell_type": "code",
   "execution_count": 356,
   "id": "3e20d3f5",
   "metadata": {},
   "outputs": [],
   "source": [
    "# If square root transformation works for this kind of data, then the result would be like this\n",
    "\n",
    "df['sq_trans'] = df['sq_feat']**0.5"
   ]
  },
  {
   "cell_type": "code",
   "execution_count": 357,
   "id": "461d2c5f",
   "metadata": {},
   "outputs": [
    {
     "data": {
      "text/plain": [
       "<AxesSubplot:xlabel='sq_trans', ylabel='Count'>"
      ]
     },
     "execution_count": 357,
     "metadata": {},
     "output_type": "execute_result"
    },
    {
     "data": {
      "image/png": "[encoded data removed]",
      "text/plain": [
       "<Figure size 432x288 with 1 Axes>"
      ]
     },
     "metadata": {
      "needs_background": "light"
     },
     "output_type": "display_data"
    }
   ],
   "source": [
    "sns.histplot(df['sq_trans'], kde=True, bins = 20)"
   ]
  },
  {
   "cell_type": "code",
   "execution_count": 358,
   "id": "3cd9d176",
   "metadata": {},
   "outputs": [
    {
     "data": {
      "image/png": "[encoded data removed]",
      "text/plain": [
       "<Figure size 360x360 with 1 Axes>"
      ]
     },
     "metadata": {
      "needs_background": "light"
     },
     "output_type": "display_data"
    }
   ],
   "source": [
    "guas_check(df, 'sq_trans')\n",
    "\n",
    "# Very close to a normal distribution"
   ]
  },
  {
   "cell_type": "markdown",
   "id": "99b65a9f",
   "metadata": {},
   "source": [
    "#### Exponential Transformation"
   ]
  },
  {
   "cell_type": "code",
   "execution_count": 359,
   "id": "d8f17108",
   "metadata": {},
   "outputs": [
    {
     "data": {
      "text/plain": [
       "<AxesSubplot:xlabel='exp_feat', ylabel='Count'>"
      ]
     },
     "execution_count": 359,
     "metadata": {},
     "output_type": "execute_result"
    },
    {
     "data": {
      "image/png": "[encoded data removed]",
      "text/plain": [
       "<Figure size 432x288 with 1 Axes>"
      ]
     },
     "metadata": {
      "needs_background": "light"
     },
     "output_type": "display_data"
    }
   ],
   "source": [
    "sns.histplot(df['exp_feat'], kde=True, bins = 20)\n",
    "\n",
    "# Left Skewed"
   ]
  },
  {
   "cell_type": "code",
   "execution_count": 360,
   "id": "ea27bf22",
   "metadata": {},
   "outputs": [
    {
     "data": {
      "image/png": "[encoded data removed]",
      "text/plain": [
       "<Figure size 360x360 with 1 Axes>"
      ]
     },
     "metadata": {
      "needs_background": "light"
     },
     "output_type": "display_data"
    }
   ],
   "source": [
    "guas_check(df, 'exp_feat')\n",
    "\n",
    "# not so close to normal distribution"
   ]
  },
  {
   "cell_type": "code",
   "execution_count": 361,
   "id": "bcfd9b2c",
   "metadata": {},
   "outputs": [],
   "source": [
    "# If exponent transformation works for this kind of data, then the result would be like this\n",
    "# If we find that e is the proper exponent for this data using some trail and error\n",
    "\n",
    "df['exp_trans'] = df['exp_feat']**math.e"
   ]
  },
  {
   "cell_type": "code",
   "execution_count": 362,
   "id": "6efe6f02",
   "metadata": {},
   "outputs": [
    {
     "data": {
      "text/plain": [
       "<AxesSubplot:xlabel='exp_trans', ylabel='Count'>"
      ]
     },
     "execution_count": 362,
     "metadata": {},
     "output_type": "execute_result"
    },
    {
     "data": {
      "image/png": "[encoded data removed]",
      "text/plain": [
       "<Figure size 432x288 with 1 Axes>"
      ]
     },
     "metadata": {
      "needs_background": "light"
     },
     "output_type": "display_data"
    }
   ],
   "source": [
    "sns.histplot(df['exp_trans'], kde=True, bins = 20)"
   ]
  },
  {
   "cell_type": "code",
   "execution_count": 363,
   "id": "f4414faa",
   "metadata": {},
   "outputs": [
    {
     "data": {
      "image/png": "[encoded data removed]",
      "text/plain": [
       "<Figure size 360x360 with 1 Axes>"
      ]
     },
     "metadata": {
      "needs_background": "light"
     },
     "output_type": "display_data"
    }
   ],
   "source": [
    "guas_check(df, 'exp_trans')\n",
    "\n",
    "# Very close to a normal distribution"
   ]
  },
  {
   "cell_type": "markdown",
   "id": "267f053e",
   "metadata": {},
   "source": [
    "#### Box Cox Transformation"
   ]
  },
  {
   "cell_type": "markdown",
   "id": "69d65d16",
   "metadata": {},
   "source": [
    "Formula:\n",
    "\n",
    "- T(Y)=(Y exp(λ)−1)/λ\n",
    "\n",
    "Where\n",
    "- T(Y) represents transformed feature\n",
    "- Y is the feature\n",
    "- Y exp(λ)--> Y**λ\n",
    "- λ is a paramater, it check all the values from -5 to 5, and considers a the optimum value for the selected feature."
   ]
  },
  {
   "cell_type": "code",
   "execution_count": 383,
   "id": "dc71b551",
   "metadata": {},
   "outputs": [],
   "source": [
    "df['rand_feat'] = np.random.randint(1, 100, 100)"
   ]
  },
  {
   "cell_type": "code",
   "execution_count": 390,
   "id": "cb23d93d",
   "metadata": {},
   "outputs": [
    {
     "data": {
      "text/html": [
       "<div>\n",
       "<style scoped>\n",
       "    .dataframe tbody tr th:only-of-type {\n",
       "        vertical-align: middle;\n",
       "    }\n",
       "\n",
       "    .dataframe tbody tr th {\n",
       "        vertical-align: top;\n",
       "    }\n",
       "\n",
       "    .dataframe thead th {\n",
       "        text-align: right;\n",
       "    }\n",
       "</style>\n",
       "<table border=\"1\" class=\"dataframe\">\n",
       "  <thead>\n",
       "    <tr style=\"text-align: right;\">\n",
       "      <th></th>\n",
       "      <th>feat</th>\n",
       "      <th>log_feat</th>\n",
       "      <th>recip_feat</th>\n",
       "      <th>sq_feat</th>\n",
       "      <th>exp_feat</th>\n",
       "      <th>log_trans</th>\n",
       "      <th>recip_trans</th>\n",
       "      <th>rand_feat</th>\n",
       "      <th>sq_trans</th>\n",
       "      <th>exp_trans</th>\n",
       "    </tr>\n",
       "  </thead>\n",
       "  <tbody>\n",
       "    <tr>\n",
       "      <th>0</th>\n",
       "      <td>0.448047</td>\n",
       "      <td>1.565252</td>\n",
       "      <td>2.231911</td>\n",
       "      <td>0.200746</td>\n",
       "      <td>2.484907</td>\n",
       "      <td>0.448047</td>\n",
       "      <td>0.448047</td>\n",
       "      <td>8</td>\n",
       "      <td>0.448047</td>\n",
       "      <td>11.873102</td>\n",
       "    </tr>\n",
       "    <tr>\n",
       "      <th>1</th>\n",
       "      <td>-0.498756</td>\n",
       "      <td>0.607286</td>\n",
       "      <td>-2.004990</td>\n",
       "      <td>0.248757</td>\n",
       "      <td>4.007333</td>\n",
       "      <td>-0.498756</td>\n",
       "      <td>-0.498756</td>\n",
       "      <td>18</td>\n",
       "      <td>0.498756</td>\n",
       "      <td>43.524223</td>\n",
       "    </tr>\n",
       "    <tr>\n",
       "      <th>2</th>\n",
       "      <td>1.093471</td>\n",
       "      <td>2.984614</td>\n",
       "      <td>0.914519</td>\n",
       "      <td>1.195678</td>\n",
       "      <td>3.178054</td>\n",
       "      <td>1.093471</td>\n",
       "      <td>1.093471</td>\n",
       "      <td>94</td>\n",
       "      <td>1.093471</td>\n",
       "      <td>23.174790</td>\n",
       "    </tr>\n",
       "    <tr>\n",
       "      <th>3</th>\n",
       "      <td>0.460825</td>\n",
       "      <td>1.585381</td>\n",
       "      <td>2.170023</td>\n",
       "      <td>0.212359</td>\n",
       "      <td>4.488636</td>\n",
       "      <td>0.460825</td>\n",
       "      <td>0.460825</td>\n",
       "      <td>34</td>\n",
       "      <td>0.460825</td>\n",
       "      <td>59.242147</td>\n",
       "    </tr>\n",
       "    <tr>\n",
       "      <th>4</th>\n",
       "      <td>0.655084</td>\n",
       "      <td>1.925305</td>\n",
       "      <td>1.526521</td>\n",
       "      <td>0.429136</td>\n",
       "      <td>2.397895</td>\n",
       "      <td>0.655084</td>\n",
       "      <td>0.655084</td>\n",
       "      <td>60</td>\n",
       "      <td>0.655084</td>\n",
       "      <td>10.776694</td>\n",
       "    </tr>\n",
       "  </tbody>\n",
       "</table>\n",
       "</div>"
      ],
      "text/plain": [
       "       feat  log_feat  recip_feat   sq_feat  exp_feat  log_trans  recip_trans  \\\n",
       "0  0.448047  1.565252    2.231911  0.200746  2.484907   0.448047     0.448047   \n",
       "1 -0.498756  0.607286   -2.004990  0.248757  4.007333  -0.498756    -0.498756   \n",
       "2  1.093471  2.984614    0.914519  1.195678  3.178054   1.093471     1.093471   \n",
       "3  0.460825  1.585381    2.170023  0.212359  4.488636   0.460825     0.460825   \n",
       "4  0.655084  1.925305    1.526521  0.429136  2.397895   0.655084     0.655084   \n",
       "\n",
       "   rand_feat  sq_trans  exp_trans  \n",
       "0          8  0.448047  11.873102  \n",
       "1         18  0.498756  43.524223  \n",
       "2         94  1.093471  23.174790  \n",
       "3         34  0.460825  59.242147  \n",
       "4         60  0.655084  10.776694  "
      ]
     },
     "execution_count": 390,
     "metadata": {},
     "output_type": "execute_result"
    }
   ],
   "source": [
    "df.head()"
   ]
  },
  {
   "cell_type": "code",
   "execution_count": 391,
   "id": "c983a2a3",
   "metadata": {},
   "outputs": [
    {
     "data": {
      "text/plain": [
       "<AxesSubplot:xlabel='rand_feat', ylabel='Count'>"
      ]
     },
     "execution_count": 391,
     "metadata": {},
     "output_type": "execute_result"
    },
    {
     "data": {
      "image/png": "[encoded data removed]",
      "text/plain": [
       "<Figure size 432x288 with 1 Axes>"
      ]
     },
     "metadata": {
      "needs_background": "light"
     },
     "output_type": "display_data"
    }
   ],
   "source": [
    "sns.histplot(df['rand_feat'], kde=True, bins = 20)\n",
    "\n",
    "# Not so proper"
   ]
  },
  {
   "cell_type": "code",
   "execution_count": 392,
   "id": "0fcf2aee",
   "metadata": {},
   "outputs": [
    {
     "data": {
      "image/png": "[encoded data removed]",
      "text/plain": [
       "<Figure size 360x360 with 1 Axes>"
      ]
     },
     "metadata": {
      "needs_background": "light"
     },
     "output_type": "display_data"
    }
   ],
   "source": [
    "guas_check(df, 'recip_feat')\n",
    "\n",
    "# not close to normal distribution"
   ]
  },
  {
   "cell_type": "code",
   "execution_count": 393,
   "id": "785e4d73",
   "metadata": {},
   "outputs": [],
   "source": [
    "# If boxcox transformation works for this kind of data, then the result would be like this\n",
    "\n",
    "df['rand_boxcox'], lamb_da =stats.boxcox(df['rand_feat'])"
   ]
  },
  {
   "cell_type": "code",
   "execution_count": 394,
   "id": "fe4f2efe",
   "metadata": {},
   "outputs": [
    {
     "data": {
      "text/plain": [
       "0.6415639323034511"
      ]
     },
     "execution_count": 394,
     "metadata": {},
     "output_type": "execute_result"
    }
   ],
   "source": [
    "lamb_da\n",
    "\n",
    "# this the optimum lambda values"
   ]
  },
  {
   "cell_type": "code",
   "execution_count": 395,
   "id": "b38fc275",
   "metadata": {},
   "outputs": [
    {
     "data": {
      "text/plain": [
       "<AxesSubplot:xlabel='rand_boxcox', ylabel='Count'>"
      ]
     },
     "execution_count": 395,
     "metadata": {},
     "output_type": "execute_result"
    },
    {
     "data": {
      "image/png": "[encoded data removed]",
      "text/plain": [
       "<Figure size 432x288 with 1 Axes>"
      ]
     },
     "metadata": {
      "needs_background": "light"
     },
     "output_type": "display_data"
    }
   ],
   "source": [
    "sns.histplot(df['rand_boxcox'], kde=True, bins = 20)\n",
    "\n",
    "# Looks like a normal distribution"
   ]
  },
  {
   "cell_type": "code",
   "execution_count": 396,
   "id": "ae857a20",
   "metadata": {
    "scrolled": true
   },
   "outputs": [
    {
     "data": {
      "image/png": "[encoded data removed]",
      "text/plain": [
       "<Figure size 360x360 with 1 Axes>"
      ]
     },
     "metadata": {
      "needs_background": "light"
     },
     "output_type": "display_data"
    }
   ],
   "source": [
    "guas_check(df, 'rand_boxcox')\n",
    "\n",
    "# Very close to a normal distribution"
   ]
  },
  {
   "cell_type": "code",
   "execution_count": null,
   "id": "6086e802",
   "metadata": {},
   "outputs": [],
   "source": []
  }
 ],
 "metadata": {
  "kernelspec": {
   "display_name": "Python 3 (ipykernel)",
   "language": "python",
   "name": "python3"
  },
  "language_info": {
   "codemirror_mode": {
    "name": "ipython",
    "version": 3
   },
   "file_extension": ".py",
   "mimetype": "text/x-python",
   "name": "python",
   "nbconvert_exporter": "python",
   "pygments_lexer": "ipython3",
   "version": "3.8.12"
  }
 },
 "nbformat": 4,
 "nbformat_minor": 5
}
