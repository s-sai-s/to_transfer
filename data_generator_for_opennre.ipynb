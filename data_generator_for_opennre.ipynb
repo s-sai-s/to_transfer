{
 "cells": [
  {
   "cell_type": "markdown",
   "metadata": {},
   "source": [
    "# Imports"
   ]
  },
  {
   "cell_type": "code",
   "execution_count": 104,
   "metadata": {},
   "outputs": [],
   "source": [
    "import random\n",
    "import os\n",
    "import itertools\n",
    "import json\n",
    "import numpy as np\n",
    "import pandas as pd\n",
    "import spacy\n",
    "\n",
    "import requests\n",
    "import json\n",
    "\n",
    "nlp = spacy.load(\"en_core_web_lg\")"
   ]
  },
  {
   "cell_type": "markdown",
   "metadata": {},
   "source": [
    "# Config"
   ]
  },
  {
   "cell_type": "code",
   "execution_count": 101,
   "metadata": {},
   "outputs": [],
   "source": [
    "input_past_pos_filepath = \"data/past_positively_associated.txt\"\n",
    "input_past_neg_filepath = \"data/past_negatively_associated.txt\"\n",
    "input_present_pos_filepath = \"data/present_positively_associated.txt\"\n",
    "input_present_neg_filepath = \"data/present_negatively_associated.txt\"\n",
    "\n",
    "output_past_pos_filepath = \"output/past_positively_associated.txt\"\n",
    "output_past_neg_filepath = \"output/past_negatively_associated.txt\"\n",
    "output_present_pos_filepath = \"output/present_positively_associated.txt\"\n",
    "output_present_neg_filepath = \"output/present_negatively_associated.txt\"\n",
    "\n",
    "train_data_filepath = \"output/wiki80/wiki80_train.txt\"\n",
    "val_data_filepath = \"output/wiki80/wiki80_val.txt\"\n",
    "relations_filepath = \"output/wiki80/wiki80_rel2id.json\"\n",
    "\n",
    "output_dirname = \"output/\""
   ]
  },
  {
   "cell_type": "markdown",
   "metadata": {},
   "source": [
    "# Helper Functions"
   ]
  },
  {
   "cell_type": "code",
   "execution_count": 93,
   "metadata": {},
   "outputs": [],
   "source": [
    "get_files_in_dir = lambda folder_name: [os.path.join(folder_name, file) for file in os.listdir(folder_name) if os.path.isfile(os.path.join(folder_name, file))]\n",
    "\n",
    "def read_file(filepath):\n",
    "    with open(filepath, 'r') as f:\n",
    "        data = f.read()\n",
    "    data = data.split(\"\\n\")\n",
    "    data = [line.strip() for line in data]\n",
    "    data = list(set(data))\n",
    "    return data\n",
    "\n",
    "def write_file(data, filepath):\n",
    "    with open(filepath, 'w') as f:\n",
    "        f.write(\"\\n\".join([str(d) for d in data]))\n",
    "    print(\"Number of records captured:\", len(data))\n",
    "    print(\"Data saved at:\", filepath)\n",
    "\n",
    "def get_wikicode(word):\n",
    "    \n",
    "    url = \"https://www.wikidata.org/w/api.php\"\n",
    "    \n",
    "    params = {\n",
    "        \"action\": \"wbsearchentities\",\n",
    "        \"search\": word,\n",
    "        \"language\": \"en\",\n",
    "        \"format\": \"json\"\n",
    "    }\n",
    "    try:\n",
    "        response = requests.get(url, params=params)\n",
    "        \n",
    "        data = json.loads(response.text)\n",
    "\n",
    "        code = data[\"search\"][0][\"id\"]\n",
    "        return code\n",
    "    except:\n",
    "        return None\n",
    "\n",
    "get_ents = lambda doc: [{\"entity\": ent, \"entity_type\": ent.label_, \"start\": ent.start, \"end\": ent.end} for ent in doc.ents if ent.label_ in [\"PERSON\", \"ORG\"]]\n",
    "\n",
    "def get_single_input(text, relation=None):\n",
    "    doc = nlp(text)\n",
    "    tokens = [token.text for token in list(doc)]\n",
    "    node_types = set([ent['entity_type'] for ent in get_ents(doc)])\n",
    "    req_node_types = {'ORG', 'PERSON'}\n",
    "    nodes = get_ents(doc)\n",
    "    failed = False\n",
    "    if len(nodes)==2 and node_types==req_node_types:\n",
    "        for node in nodes:\n",
    "            if node['entity_type']==\"PERSON\":\n",
    "                source = str(node['entity'])\n",
    "                source_start = node['start']\n",
    "                source_end = node['end']\n",
    "                source_wikicode = get_wikicode(source)\n",
    "                if source_wikicode is None:\n",
    "                    failed = True\n",
    "            else:\n",
    "                target = str(node['entity'])\n",
    "                target_start = node['start']\n",
    "                target_end = node['end']\n",
    "                target_wikicode = get_wikicode(target)\n",
    "                if target_wikicode is None:\n",
    "                    failed = True\n",
    "        if not failed:\n",
    "            res = {\n",
    "                \"token\": tokens,\n",
    "                \"h\": {\"name\": source.lower(), \"id\": source_wikicode, \"pos\": [source_start, source_end]},\n",
    "                \"t\": {\"name\": target.lower(), \"id\": target_wikicode, \"pos\": [target_start, target_end]}\n",
    "                }\n",
    "            if relation is not None:\n",
    "                res['relation'] = relation\n",
    "            return res\n",
    "        else:\n",
    "            return None\n",
    "    else:\n",
    "        return None\n",
    "\n",
    "def get_input_data(sent_list, relation):\n",
    "    res = [get_single_input(sent, relation) for sent in sent_list]\n",
    "    res = [inp for inp in res if inp is not None]\n",
    "    return res"
   ]
  },
  {
   "cell_type": "markdown",
   "metadata": {},
   "source": [
    "# Data loading, preprocessing and dumping"
   ]
  },
  {
   "cell_type": "code",
   "execution_count": 12,
   "metadata": {},
   "outputs": [
    {
     "name": "stdout",
     "output_type": "stream",
     "text": [
      "Number of records captured: 132\n",
      "Data saved at: output/past_positively_associated.txt\n"
     ]
    }
   ],
   "source": [
    "past_positively_associated = read_file(input_past_pos_filepath)\n",
    "inp_data_past_pos_associated = get_input_data(past_positively_associated, \"positively associated in the past\")\n",
    "print(len(inp_data_past_pos_associated))\n",
    "write_file(inp_data_past_pos_associated, output_past_pos_filepath)"
   ]
  },
  {
   "cell_type": "code",
   "execution_count": 13,
   "metadata": {},
   "outputs": [
    {
     "name": "stdout",
     "output_type": "stream",
     "text": [
      "141\n",
      "Number of records captured: 141\n",
      "Data saved at: output/past_negatively_associated.txt\n"
     ]
    }
   ],
   "source": [
    "past_negatively_associated = read_file(input_past_neg_filepath)\n",
    "inp_data_past_neg_associated = get_input_data(past_negatively_associated, \"negatively associated in the past\")\n",
    "print(len(inp_data_past_neg_associated))\n",
    "write_file(inp_data_past_neg_associated, output_past_neg_filepath)"
   ]
  },
  {
   "cell_type": "code",
   "execution_count": 14,
   "metadata": {},
   "outputs": [
    {
     "name": "stdout",
     "output_type": "stream",
     "text": [
      "126\n",
      "Number of records captured: 126\n",
      "Data saved at: output/present_positively_associated.txt\n"
     ]
    }
   ],
   "source": [
    "present_positively_associated = read_file(input_present_pos_filepath)\n",
    "inp_data_present_pos_associated = get_input_data(present_positively_associated, \"positively associated in the present\")\n",
    "print(len(inp_data_present_pos_associated))\n",
    "write_file(inp_data_present_pos_associated, output_present_pos_filepath)"
   ]
  },
  {
   "cell_type": "code",
   "execution_count": 15,
   "metadata": {},
   "outputs": [
    {
     "name": "stdout",
     "output_type": "stream",
     "text": [
      "147\n",
      "Number of records captured: 147\n",
      "Data saved at: output/present_negatively_associated.txt\n"
     ]
    }
   ],
   "source": [
    "present_negatively_associated = read_file(input_present_neg_filepath)\n",
    "inp_data_present_neg_associated = get_input_data(present_negatively_associated, \"negatively associated in the present\")\n",
    "print(len(inp_data_present_neg_associated))\n",
    "write_file(inp_data_present_neg_associated, output_present_neg_filepath)"
   ]
  },
  {
   "cell_type": "markdown",
   "metadata": {},
   "source": [
    "# Train Test Split"
   ]
  },
  {
   "cell_type": "code",
   "execution_count": 17,
   "metadata": {},
   "outputs": [
    {
     "name": "stdout",
     "output_type": "stream",
     "text": [
      "Total number of samples per relation: 125\n",
      "Test size: 0.2\n",
      "Number of records in the train data: 100\n",
      "Number of records in the test data: 25\n"
     ]
    }
   ],
   "source": [
    "n = int(input(\"Total number of samples per relation: \"))\n",
    "print(\"Total number of samples per relation:\", n)\n",
    "test_size = float(input(\"Test size (0 to 1, only in floating points): \"))\n",
    "print(\"Test size:\", test_size)\n",
    "print(\"Number of records in the train data:\", int(n*(1-test_size)))\n",
    "print(\"Number of records in the test data:\", int(n*test_size))"
   ]
  },
  {
   "cell_type": "code",
   "execution_count": 107,
   "metadata": {},
   "outputs": [],
   "source": [
    "train_data = []\n",
    "test_data = []\n",
    "\n",
    "past_pos = read_file(output_past_pos_filepath)\n",
    "random.shuffle(past_pos)\n",
    "train_data.extend(past_pos[:int(n*(1-test_size))])\n",
    "test_data.extend(past_pos[:int(n*test_size)])\n",
    "\n",
    "past_neg = read_file(output_past_neg_filepath)\n",
    "random.shuffle(past_neg)\n",
    "train_data.extend(past_neg[:int(n*(1-test_size))])\n",
    "test_data.extend(past_neg[:int(n*test_size)])\n",
    "\n",
    "present_pos = read_file(output_present_pos_filepath)\n",
    "random.shuffle(present_pos)\n",
    "train_data.extend(present_pos[:int(n*(1-test_size))])\n",
    "test_data.extend(present_pos[:int(n*test_size)])\n",
    "\n",
    "present_neg = read_file(output_present_neg_filepath)\n",
    "random.shuffle(present_neg)\n",
    "train_data.extend(present_neg[:int(n*(1-test_size))])\n",
    "test_data.extend(present_neg[:int(n*test_size)])\n",
    "\n",
    "relations = list(set(itertools.chain.from_iterable([list(set([eval(d)['relation'] for d in read_file(filepath)])) for filepath in get_files_in_dir(output_dirname)])))\n",
    "relations = {k:v for k, v in enumerate(relations)}\n",
    "\n",
    "random.shuffle(train_data)\n",
    "random.shuffle(test_data)\n",
    "\n",
    "train_data = \"\\n\".join(train_data)\n",
    "test_data = \"\\n\".join(test_data)\n",
    "\n",
    "with open(train_data_filepath, \"w\") as f:\n",
    "    f.write(train_data)\n",
    "    \n",
    "with open(val_data_filepath, \"w\") as f:\n",
    "    f.write(test_data)\n",
    "\n",
    "with open(relations_filepath, \"w\") as f:\n",
    "    json.dump(relations, f)"
   ]
  },
  {
   "cell_type": "code",
   "execution_count": null,
   "metadata": {},
   "outputs": [],
   "source": []
  }
 ],
 "metadata": {
  "kernelspec": {
   "display_name": "Python 3.8.0 (conda)",
   "language": "python",
   "name": "python3"
  },
  "language_info": {
   "codemirror_mode": {
    "name": "ipython",
    "version": 3
   },
   "file_extension": ".py",
   "mimetype": "text/x-python",
   "name": "python",
   "nbconvert_exporter": "python",
   "pygments_lexer": "ipython3",
   "version": "3.8.0"
  },
  "orig_nbformat": 4,
  "vscode": {
   "interpreter": {
    "hash": "18be8310d7560415e4e8b0874233afab82f01d844c44ad1bd9d23e05d2b4a82d"
   }
  }
 },
 "nbformat": 4,
 "nbformat_minor": 2
}
